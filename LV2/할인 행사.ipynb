{
 "cells": [
  {
   "cell_type": "markdown",
   "id": "cad6d18a",
   "metadata": {},
   "source": [
    "예를 들어, 정현이가 원하는 제품이 바나나 3개, 사과 2개, 쌀 2개, 돼지고기 2개, 냄비 1개이며, XYZ 마트에서 15일간 회원을 대상으로 할인하는 제품이 날짜 순서대로 치킨, 사과, 사과, 바나나, 쌀, 사과, 돼지고기, 바나나, 돼지고기, 쌀, 냄비, 바나나, 사과, 바나나인 경우에 대해 알아봅시다. 첫째 날부터 열흘 간에는 냄비가 할인하지 않기 때문에 첫째 날에는 회원가입을 하지 않습니다. 둘째 날부터 열흘 간에는 바나나를 원하는 만큼 할인구매할 수 없기 때문에 둘째 날에도 회원가입을 하지 않습니다. 셋째 날, 넷째 날, 다섯째 날부터 각각 열흘은 원하는 제품과 수량이 일치하기 때문에 셋 중 하루에 회원가입을 하려 합니다."
   ]
  },
  {
   "cell_type": "code",
   "execution_count": 9,
   "id": "3b514f25",
   "metadata": {},
   "outputs": [],
   "source": [
    "def solution(want, number, discount):\n",
    "    answer = 0\n",
    "    \n",
    "    for i in range(len(discount)) :\n",
    "        temp = discount[i : i + 10]\n",
    "        for j, w in enumerate(want) :\n",
    "            if temp.count(w) < number[j] :\n",
    "                break\n",
    "        else :\n",
    "            answer += 1\n",
    "            \n",
    "        if len(temp) < 10 : \n",
    "            break\n",
    "            \n",
    "    return answer"
   ]
  },
  {
   "cell_type": "code",
   "execution_count": 10,
   "id": "76f6937f",
   "metadata": {},
   "outputs": [
    {
     "data": {
      "text/plain": [
       "3"
      ]
     },
     "execution_count": 10,
     "metadata": {},
     "output_type": "execute_result"
    }
   ],
   "source": [
    "solution([\"banana\", \"apple\", \"rice\", \"pork\", \"pot\"],\n",
    "         [3, 2, 2, 2, 1],\n",
    "         [\"chicken\", \"apple\", \"apple\", \"banana\", \"rice\", \"apple\", \"pork\", \"banana\", \"pork\", \"rice\", \"pot\", \"banana\", \"apple\", \"banana\"])"
   ]
  }
 ],
 "metadata": {
  "kernelspec": {
   "display_name": "Python 3 (ipykernel)",
   "language": "python",
   "name": "python3"
  },
  "language_info": {
   "codemirror_mode": {
    "name": "ipython",
    "version": 3
   },
   "file_extension": ".py",
   "mimetype": "text/x-python",
   "name": "python",
   "nbconvert_exporter": "python",
   "pygments_lexer": "ipython3",
   "version": "3.8.15"
  }
 },
 "nbformat": 4,
 "nbformat_minor": 5
}
