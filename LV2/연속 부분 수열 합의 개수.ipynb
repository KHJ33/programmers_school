{
 "cells": [
  {
   "cell_type": "markdown",
   "id": "e2170da4",
   "metadata": {},
   "source": [
    "어떤 자연수로 이루어진 원형 수열의 연속하는 부분 수열의 합으로 만들 수 있는 수가 모두 몇 가지인지 알아보고 싶어졌습니다.\n",
    "    \n",
    "    \n",
    "## 원형 수열의 모든 원소 elements가 순서대로 주어질 때, 원형 수열의 연속 부분 수열 합으로 만들 수 있는 수의 개수를 return 하도록 solution 함수를 완성해주세요."
   ]
  },
  {
   "cell_type": "code",
   "execution_count": 15,
   "id": "b274e219",
   "metadata": {},
   "outputs": [],
   "source": [
    "def solution(elements):\n",
    "    answer = []\n",
    "    \n",
    "    ele = elements + elements\n",
    "    \n",
    "    print(ele)\n",
    "    \n",
    "    for i in range(len(elements)) :\n",
    "        for j in range(len(elements) - 1) :\n",
    "            print(ele[i : i + j + 1])\n",
    "            answer.append(sum(ele[i : i + j + 1]))\n",
    "    answer.append(sum(elements))\n",
    "    \n",
    "    return len(set(answer))"
   ]
  },
  {
   "cell_type": "code",
   "execution_count": 25,
   "id": "10ed948c",
   "metadata": {},
   "outputs": [
    {
     "name": "stdout",
     "output_type": "stream",
     "text": [
      "[7, 9, 1, 1, 4, 7, 9, 1, 1, 4]\n",
      "[7]\n",
      "[7, 9]\n",
      "[7, 9, 1]\n",
      "[7, 9, 1, 1]\n",
      "[9]\n",
      "[9, 1]\n",
      "[9, 1, 1]\n",
      "[9, 1, 1, 4]\n",
      "[1]\n",
      "[1, 1]\n",
      "[1, 1, 4]\n",
      "[1, 1, 4, 7]\n",
      "[1]\n",
      "[1, 4]\n",
      "[1, 4, 7]\n",
      "[1, 4, 7, 9]\n",
      "[4]\n",
      "[4, 7]\n",
      "[4, 7, 9]\n",
      "[4, 7, 9, 1]\n"
     ]
    },
    {
     "data": {
      "text/plain": [
       "18"
      ]
     },
     "execution_count": 25,
     "metadata": {},
     "output_type": "execute_result"
    }
   ],
   "source": [
    "solution([7,9,1,1,4])"
   ]
  },
  {
   "cell_type": "code",
   "execution_count": 24,
   "id": "d7ab23f0",
   "metadata": {},
   "outputs": [],
   "source": [
    "def solution(elements):\n",
    "    answer = set({sum(elements)})\n",
    "    \n",
    "    ele = elements + elements\n",
    "    \n",
    "    print(ele)\n",
    "    \n",
    "    for i in range(len(elements)) :\n",
    "        for j in range(len(elements) - 1) :\n",
    "            print(ele[i : i + j + 1])\n",
    "            answer.add(sum(ele[i : i + j + 1]))\n",
    "            \n",
    "    return len(answer)"
   ]
  }
 ],
 "metadata": {
  "kernelspec": {
   "display_name": "Python 3 (ipykernel)",
   "language": "python",
   "name": "python3"
  },
  "language_info": {
   "codemirror_mode": {
    "name": "ipython",
    "version": 3
   },
   "file_extension": ".py",
   "mimetype": "text/x-python",
   "name": "python",
   "nbconvert_exporter": "python",
   "pygments_lexer": "ipython3",
   "version": "3.8.15"
  }
 },
 "nbformat": 4,
 "nbformat_minor": 5
}
