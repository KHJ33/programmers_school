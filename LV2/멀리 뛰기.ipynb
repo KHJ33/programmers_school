{
 "cells": [
  {
   "cell_type": "markdown",
   "metadata": {},
   "source": [
    "효진이는 멀리 뛰기를 연습하고 있습니다. 효진이는 한번에 1칸, 또는 2칸을 뛸 수 있습니다. 칸이 총 4개 있을 때, 효진이는\n",
    "1. (1칸, 1칸, 1칸, 1칸)\n",
    "2. (1칸, 2칸, 1칸)\n",
    "3. (1칸, 1칸, 2칸)\n",
    "4. (2칸, 1칸, 1칸)\n",
    "5. (2칸, 2칸)\n",
    "의 5가지 방법으로 맨 끝 칸에 도달할 수 있습니다. \n",
    "  \n",
    "  \n",
    "멀리뛰기에 사용될 칸의 수 n이 주어질 때, 효진이가 끝에 도달하는 방법이 몇 가지인지 알아내, 여기에 1234567를 나눈 나머지를 리턴하는 함수, solution을 완성하세요. 예를 들어 4가 입력된다면, 5를 return하면 됩니다."
   ]
  },
  {
   "cell_type": "code",
   "execution_count": 107,
   "metadata": {},
   "outputs": [],
   "source": [
    "from math import factorial\n",
    "def solution(n):\n",
    "    answer = 0\n",
    "\n",
    "    idx = 0\n",
    "    while n >= 2 * idx :\n",
    "        print('1 ' * (n - (2 * idx)) , '2 ' * idx, end = '\\t\\t')\n",
    "        print(factorial(n - (2 * idx) + idx) // (factorial(idx) * factorial(n - (2 * idx))))\n",
    "        \n",
    "        answer += int(factorial(n - (2 * idx) + idx) / (factorial(idx) * factorial(n - (2 * idx))))\n",
    "        \n",
    "        idx += 1\n",
    "    \n",
    "    return int(answer % 1234567)"
   ]
  },
  {
   "cell_type": "code",
   "execution_count": 100,
   "metadata": {},
   "outputs": [],
   "source": [
    "from math import factorial\n",
    "def solution(n):\n",
    "    answer = 0\n",
    "\n",
    "    idx = 0\n",
    "    while n >= 2 * idx :\n",
    "#         print('1 ' * (n - (2 * idx)) , '2 ' * idx, end = '\\t\\t')\n",
    "        \n",
    "#         print(f'1 갯수 : {n - (2 * idx)} , 2 갯수 : {idx}')\n",
    "        ret , s , l = 1 , n - idx , idx if idx <= n - 2 * idx else n - 2 * idx\n",
    "        \n",
    "        print(f'1 갯수 : {n - (2 * idx)} , 2 갯수 : {idx} , l의 수 : {l}')\n",
    "        print(f'{n - idx} C {idx}', end = '\\t\\t => ')\n",
    "        for i in range(l) :\n",
    "            ret *= s\n",
    "            s -= 1\n",
    "            \n",
    "        print(int(ret/factorial(l)))\n",
    "        \n",
    "        answer += ret/factorial(l)\n",
    "        \n",
    "        idx += 1\n",
    "    \n",
    "    return int(answer % 1234567)"
   ]
  },
  {
   "cell_type": "code",
   "execution_count": 101,
   "metadata": {},
   "outputs": [
    {
     "name": "stdout",
     "output_type": "stream",
     "text": [
      "1 갯수 : 4 , 2 갯수 : 0 , l의 수 : 0\n",
      "4 C 0\t\t => 1\n",
      "1 갯수 : 2 , 2 갯수 : 1 , l의 수 : 1\n",
      "3 C 1\t\t => 3\n",
      "1 갯수 : 0 , 2 갯수 : 2 , l의 수 : 0\n",
      "2 C 2\t\t => 1\n"
     ]
    },
    {
     "data": {
      "text/plain": [
       "5"
      ]
     },
     "execution_count": 101,
     "metadata": {},
     "output_type": "execute_result"
    }
   ],
   "source": [
    "solution(4)"
   ]
  },
  {
   "cell_type": "code",
   "execution_count": 98,
   "metadata": {},
   "outputs": [
    {
     "name": "stdout",
     "output_type": "stream",
     "text": [
      "1 갯수 : 5 , 2 갯수 : 0 , l의 수 : 0\n",
      "5 C 0\t\t => 1.0\n",
      "1 갯수 : 3 , 2 갯수 : 1 , l의 수 : 1\n",
      "4 C 1\t\t => 4.0\n",
      "1 갯수 : 1 , 2 갯수 : 2 , l의 수 : 1\n",
      "3 C 2\t\t => 3.0\n"
     ]
    },
    {
     "data": {
      "text/plain": [
       "8"
      ]
     },
     "execution_count": 98,
     "metadata": {},
     "output_type": "execute_result"
    }
   ],
   "source": [
    "solution(5)"
   ]
  },
  {
   "cell_type": "code",
   "execution_count": 108,
   "metadata": {},
   "outputs": [
    {
     "name": "stdout",
     "output_type": "stream",
     "text": [
      "1 1 1 1 1 1 1 1 1 1  \t\t1\n",
      "1 1 1 1 1 1 1 1  2 \t\t9\n",
      "1 1 1 1 1 1  2 2 \t\t28\n",
      "1 1 1 1  2 2 2 \t\t35\n",
      "1 1  2 2 2 2 \t\t15\n",
      " 2 2 2 2 2 \t\t1\n"
     ]
    },
    {
     "data": {
      "text/plain": [
       "89"
      ]
     },
     "execution_count": 108,
     "metadata": {},
     "output_type": "execute_result"
    }
   ],
   "source": [
    "solution(10)"
   ]
  },
  {
   "cell_type": "code",
   "execution_count": 81,
   "metadata": {},
   "outputs": [
    {
     "name": "stdout",
     "output_type": "stream",
     "text": [
      "1 1 1  \t\t3\t1.0\n",
      "1  2 \t\t2\t2.0\n"
     ]
    },
    {
     "data": {
      "text/plain": [
       "3"
      ]
     },
     "execution_count": 81,
     "metadata": {},
     "output_type": "execute_result"
    }
   ],
   "source": [
    "solution(3)"
   ]
  },
  {
   "cell_type": "code",
   "execution_count": 102,
   "metadata": {},
   "outputs": [
    {
     "name": "stdout",
     "output_type": "stream",
     "text": [
      "1 갯수 : 100 , 2 갯수 : 0 , l의 수 : 0\n",
      "100 C 0\t\t => 1\n",
      "1 갯수 : 98 , 2 갯수 : 1 , l의 수 : 1\n",
      "99 C 1\t\t => 99\n",
      "1 갯수 : 96 , 2 갯수 : 2 , l의 수 : 2\n",
      "98 C 2\t\t => 4753\n",
      "1 갯수 : 94 , 2 갯수 : 3 , l의 수 : 3\n",
      "97 C 3\t\t => 147440\n",
      "1 갯수 : 92 , 2 갯수 : 4 , l의 수 : 4\n",
      "96 C 4\t\t => 3321960\n",
      "1 갯수 : 90 , 2 갯수 : 5 , l의 수 : 5\n",
      "95 C 5\t\t => 57940519\n",
      "1 갯수 : 88 , 2 갯수 : 6 , l의 수 : 6\n",
      "94 C 6\t\t => 814216767\n",
      "1 갯수 : 86 , 2 갯수 : 7 , l의 수 : 7\n",
      "93 C 7\t\t => 9473622444\n",
      "1 갯수 : 84 , 2 갯수 : 8 , l의 수 : 8\n",
      "92 C 8\t\t => 93080887185\n",
      "1 갯수 : 82 , 2 갯수 : 9 , l의 수 : 9\n",
      "91 C 9\t\t => 783768050065\n",
      "1 갯수 : 80 , 2 갯수 : 10 , l의 수 : 10\n",
      "90 C 10\t\t => 5720645481903\n",
      "1 갯수 : 78 , 2 갯수 : 11 , l의 수 : 11\n",
      "89 C 11\t\t => 36519676207704\n",
      "1 갯수 : 76 , 2 갯수 : 12 , l의 수 : 12\n",
      "88 C 12\t\t => 205371886988268\n",
      "1 갯수 : 74 , 2 갯수 : 13 , l의 수 : 13\n",
      "87 C 13\t\t => 1023269017336650\n",
      "1 갯수 : 72 , 2 갯수 : 14 , l의 수 : 14\n",
      "86 C 14\t\t => 4538340912686850\n",
      "1 갯수 : 70 , 2 갯수 : 15 , l의 수 : 15\n",
      "85 C 15\t\t => 17984495151670680\n",
      "1 갯수 : 68 , 2 갯수 : 16 , l의 수 : 16\n",
      "84 C 16\t\t => 63871405575418664\n",
      "1 갯수 : 66 , 2 갯수 : 17 , l의 수 : 17\n",
      "83 C 17\t\t => 203780198740621440\n",
      "1 갯수 : 64 , 2 갯수 : 18 , l의 수 : 18\n",
      "82 C 18\t\t => 585151976303390976\n",
      "1 갯수 : 62 , 2 갯수 : 19 , l의 수 : 19\n",
      "81 C 19\t\t => 1514334254464231168\n",
      "1 갯수 : 60 , 2 갯수 : 20 , l의 수 : 20\n",
      "80 C 20\t\t => 3535316142212174336\n",
      "1 갯수 : 58 , 2 갯수 : 21 , l의 수 : 21\n",
      "79 C 21\t\t => 7449416156804224000\n",
      "1 갯수 : 56 , 2 갯수 : 22 , l의 수 : 22\n",
      "78 C 22\t\t => 14170178259145435136\n",
      "1 갯수 : 54 , 2 갯수 : 23 , l의 수 : 23\n",
      "77 C 23\t\t => 24327842273226276864\n",
      "1 갯수 : 52 , 2 갯수 : 24 , l의 수 : 24\n",
      "76 C 24\t\t => 37676560923145887744\n",
      "1 갯수 : 50 , 2 갯수 : 25 , l의 수 : 25\n",
      "75 C 25\t\t => 52588547141148893184\n",
      "1 갯수 : 48 , 2 갯수 : 26 , l의 수 : 26\n",
      "74 C 26\t\t => 66072789997853736960\n",
      "1 갯수 : 46 , 2 갯수 : 27 , l의 수 : 27\n",
      "73 C 27\t\t => 74604711829408432128\n",
      "1 갯수 : 44 , 2 갯수 : 28 , l의 수 : 28\n",
      "72 C 28\t\t => 75553695443676823552\n",
      "1 갯수 : 42 , 2 갯수 : 29 , l의 수 : 29\n",
      "71 C 29\t\t => 68461490315822104576\n",
      "1 갯수 : 40 , 2 갯수 : 30 , l의 수 : 30\n",
      "70 C 30\t\t => 55347740058143506432\n",
      "1 갯수 : 38 , 2 갯수 : 31 , l의 수 : 31\n",
      "69 C 31\t\t => 39789158751476441088\n",
      "1 갯수 : 36 , 2 갯수 : 32 , l의 수 : 32\n",
      "68 C 32\t\t => 25336755980333277184\n",
      "1 갯수 : 34 , 2 갯수 : 33 , l의 수 : 33\n",
      "67 C 33\t\t => 14226520737620287488\n",
      "1 갯수 : 32 , 2 갯수 : 34 , l의 수 : 32\n",
      "66 C 34\t\t => 7007092303604022272\n",
      "1 갯수 : 30 , 2 갯수 : 35 , l의 수 : 30\n",
      "65 C 35\t\t => 3009106305270645248\n",
      "1 갯수 : 28 , 2 갯수 : 36 , l의 수 : 28\n",
      "64 C 36\t\t => 1118770292985239936\n",
      "1 갯수 : 26 , 2 갯수 : 37 , l의 수 : 26\n",
      "63 C 37\t\t => 357174975294274240\n",
      "1 갯수 : 24 , 2 갯수 : 38 , l의 수 : 24\n",
      "62 C 38\t\t => 96977332473382720\n",
      "1 갯수 : 22 , 2 갯수 : 39 , l의 수 : 22\n",
      "61 C 39\t\t => 22138745874816900\n",
      "1 갯수 : 20 , 2 갯수 : 40 , l의 수 : 20\n",
      "60 C 40\t\t => 4191844505805495\n",
      "1 갯수 : 18 , 2 갯수 : 41 , l의 수 : 18\n",
      "59 C 41\t\t => 647520696018735\n",
      "1 갯수 : 16 , 2 갯수 : 42 , l의 수 : 16\n",
      "58 C 42\t\t => 79960182801345\n",
      "1 갯수 : 14 , 2 갯수 : 43 , l의 수 : 14\n",
      "57 C 43\t\t => 7694644696200\n",
      "1 갯수 : 12 , 2 갯수 : 44 , l의 수 : 12\n",
      "56 C 44\t\t => 558383307300\n",
      "1 갯수 : 10 , 2 갯수 : 45 , l의 수 : 10\n",
      "55 C 45\t\t => 29248649430\n",
      "1 갯수 : 8 , 2 갯수 : 46 , l의 수 : 8\n",
      "54 C 46\t\t => 1040465790\n",
      "1 갯수 : 6 , 2 갯수 : 47 , l의 수 : 6\n",
      "53 C 47\t\t => 22957480\n",
      "1 갯수 : 4 , 2 갯수 : 48 , l의 수 : 4\n",
      "52 C 48\t\t => 270725\n",
      "1 갯수 : 2 , 2 갯수 : 49 , l의 수 : 2\n",
      "51 C 49\t\t => 1275\n",
      "1 갯수 : 0 , 2 갯수 : 50 , l의 수 : 0\n",
      "50 C 50\t\t => 1\n"
     ]
    },
    {
     "data": {
      "text/plain": [
       "416679"
      ]
     },
     "execution_count": 102,
     "metadata": {},
     "output_type": "execute_result"
    }
   ],
   "source": [
    "solution(100)"
   ]
  },
  {
   "cell_type": "code",
   "execution_count": 79,
   "metadata": {},
   "outputs": [
    {
     "name": "stdout",
     "output_type": "stream",
     "text": [
      "1 1 1 1 1 1 1 1 1 1 1 1 1 1 1 1 1 1 1 1 1 1 1 1 1 1 1 1 1 1 1 1 1 1 1 1 1 1 1 1 1 1 1 1 1 1 1 1 1 1  \t\t50\t1.0\n",
      "1 1 1 1 1 1 1 1 1 1 1 1 1 1 1 1 1 1 1 1 1 1 1 1 1 1 1 1 1 1 1 1 1 1 1 1 1 1 1 1 1 1 1 1 1 1 1 1  2 \t\t49\t49.0\n",
      "1 1 1 1 1 1 1 1 1 1 1 1 1 1 1 1 1 1 1 1 1 1 1 1 1 1 1 1 1 1 1 1 1 1 1 1 1 1 1 1 1 1 1 1 1 1  2 2 \t\t48\t1128.0\n",
      "1 1 1 1 1 1 1 1 1 1 1 1 1 1 1 1 1 1 1 1 1 1 1 1 1 1 1 1 1 1 1 1 1 1 1 1 1 1 1 1 1 1 1 1  2 2 2 \t\t47\t16215.0\n",
      "1 1 1 1 1 1 1 1 1 1 1 1 1 1 1 1 1 1 1 1 1 1 1 1 1 1 1 1 1 1 1 1 1 1 1 1 1 1 1 1 1 1  2 2 2 2 \t\t46\t163185.0\n",
      "1 1 1 1 1 1 1 1 1 1 1 1 1 1 1 1 1 1 1 1 1 1 1 1 1 1 1 1 1 1 1 1 1 1 1 1 1 1 1 1  2 2 2 2 2 \t\t45\t1221759.0\n",
      "1 1 1 1 1 1 1 1 1 1 1 1 1 1 1 1 1 1 1 1 1 1 1 1 1 1 1 1 1 1 1 1 1 1 1 1 1 1  2 2 2 2 2 2 \t\t44\t7059052.0\n",
      "1 1 1 1 1 1 1 1 1 1 1 1 1 1 1 1 1 1 1 1 1 1 1 1 1 1 1 1 1 1 1 1 1 1 1 1  2 2 2 2 2 2 2 \t\t43\t32224114.0\n",
      "1 1 1 1 1 1 1 1 1 1 1 1 1 1 1 1 1 1 1 1 1 1 1 1 1 1 1 1 1 1 1 1 1 1  2 2 2 2 2 2 2 2 \t\t42\t118030185.0\n",
      "1 1 1 1 1 1 1 1 1 1 1 1 1 1 1 1 1 1 1 1 1 1 1 1 1 1 1 1 1 1 1 1  2 2 2 2 2 2 2 2 2 \t\t41\t350343565.0\n",
      "1 1 1 1 1 1 1 1 1 1 1 1 1 1 1 1 1 1 1 1 1 1 1 1 1 1 1 1 1 1  2 2 2 2 2 2 2 2 2 2 \t\t40\t847660528.0\n",
      "1 1 1 1 1 1 1 1 1 1 1 1 1 1 1 1 1 1 1 1 1 1 1 1 1 1 1 1  2 2 2 2 2 2 2 2 2 2 2 \t\t39\t1676056044.0\n",
      "1 1 1 1 1 1 1 1 1 1 1 1 1 1 1 1 1 1 1 1 1 1 1 1 1 1  2 2 2 2 2 2 2 2 2 2 2 2 \t\t38\t2707475148.0\n",
      "1 1 1 1 1 1 1 1 1 1 1 1 1 1 1 1 1 1 1 1 1 1 1 1  2 2 2 2 2 2 2 2 2 2 2 2 2 \t\t37\t3562467300.0\n",
      "1 1 1 1 1 1 1 1 1 1 1 1 1 1 1 1 1 1 1 1 1 1  2 2 2 2 2 2 2 2 2 2 2 2 2 2 \t\t36\t3796297200.0\n",
      "1 1 1 1 1 1 1 1 1 1 1 1 1 1 1 1 1 1 1 1  2 2 2 2 2 2 2 2 2 2 2 2 2 2 2 \t\t35\t3247943160.0\n",
      "1 1 1 1 1 1 1 1 1 1 1 1 1 1 1 1 1 1  2 2 2 2 2 2 2 2 2 2 2 2 2 2 2 2 \t\t34\t2203961430.0\n",
      "1 1 1 1 1 1 1 1 1 1 1 1 1 1 1 1  2 2 2 2 2 2 2 2 2 2 2 2 2 2 2 2 2 \t\t33\t1166803110.0\n",
      "1 1 1 1 1 1 1 1 1 1 1 1 1 1  2 2 2 2 2 2 2 2 2 2 2 2 2 2 2 2 2 2 \t\t32\t471435600.0\n",
      "1 1 1 1 1 1 1 1 1 1 1 1  2 2 2 2 2 2 2 2 2 2 2 2 2 2 2 2 2 2 2 \t\t31\t141120525.0\n",
      "1 1 1 1 1 1 1 1 1 1  2 2 2 2 2 2 2 2 2 2 2 2 2 2 2 2 2 2 2 2 \t\t30\t30045015.0\n",
      "1 1 1 1 1 1 1 1  2 2 2 2 2 2 2 2 2 2 2 2 2 2 2 2 2 2 2 2 2 \t\t29\t4292145.0\n",
      "1 1 1 1 1 1  2 2 2 2 2 2 2 2 2 2 2 2 2 2 2 2 2 2 2 2 2 2 \t\t28\t376740.0\n",
      "1 1 1 1  2 2 2 2 2 2 2 2 2 2 2 2 2 2 2 2 2 2 2 2 2 2 2 \t\t27\t17550.0\n",
      "1 1  2 2 2 2 2 2 2 2 2 2 2 2 2 2 2 2 2 2 2 2 2 2 2 2 \t\t26\t325.0\n",
      " 2 2 2 2 2 2 2 2 2 2 2 2 2 2 2 2 2 2 2 2 2 2 2 2 2 \t\t25\t1.0\n"
     ]
    },
    {
     "data": {
      "text/plain": [
       "828409"
      ]
     },
     "execution_count": 79,
     "metadata": {},
     "output_type": "execute_result"
    }
   ],
   "source": [
    "solution(50)"
   ]
  },
  {
   "cell_type": "code",
   "execution_count": 48,
   "metadata": {},
   "outputs": [
    {
     "name": "stdout",
     "output_type": "stream",
     "text": [
      "60415263063373835637355132068513997507264512000000000\n"
     ]
    }
   ],
   "source": [
    "# 2 * 7 , 50-14 = 36 // 1 * 36 \n",
    "print(factorial(43))\n",
    "a = factorial(43)"
   ]
  },
  {
   "cell_type": "code",
   "execution_count": 49,
   "metadata": {},
   "outputs": [
    {
     "name": "stdout",
     "output_type": "stream",
     "text": [
      "5040\n"
     ]
    }
   ],
   "source": [
    "print(factorial(7))\n",
    "b = factorial(7)"
   ]
  },
  {
   "cell_type": "code",
   "execution_count": 50,
   "metadata": {},
   "outputs": [
    {
     "name": "stdout",
     "output_type": "stream",
     "text": [
      "371993326789901217467999448150835200000000\n"
     ]
    }
   ],
   "source": [
    "print(factorial(36))\n",
    "c = factorial(36)"
   ]
  },
  {
   "cell_type": "code",
   "execution_count": 53,
   "metadata": {},
   "outputs": [
    {
     "data": {
      "text/plain": [
       "32224114.0"
      ]
     },
     "execution_count": 53,
     "metadata": {},
     "output_type": "execute_result"
    }
   ],
   "source": [
    "a / (b * c)"
   ]
  },
  {
   "cell_type": "code",
   "execution_count": 66,
   "metadata": {},
   "outputs": [
    {
     "data": {
      "text/plain": [
       "1"
      ]
     },
     "execution_count": 66,
     "metadata": {},
     "output_type": "execute_result"
    }
   ],
   "source": [
    "factorial(0)"
   ]
  }
 ],
 "metadata": {
  "kernelspec": {
   "display_name": "Python 3",
   "language": "python",
   "name": "python3"
  },
  "language_info": {
   "codemirror_mode": {
    "name": "ipython",
    "version": 3
   },
   "file_extension": ".py",
   "mimetype": "text/x-python",
   "name": "python",
   "nbconvert_exporter": "python",
   "pygments_lexer": "ipython3",
   "version": "3.8.5"
  }
 },
 "nbformat": 4,
 "nbformat_minor": 4
}
