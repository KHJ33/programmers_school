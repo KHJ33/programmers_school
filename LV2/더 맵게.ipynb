{
 "cells": [
  {
   "cell_type": "markdown",
   "metadata": {},
   "source": [
    "매운 것을 좋아하는 Leo는 모든 음식의 스코빌 지수를 K 이상으로 만들고 싶습니다. \n",
    "  \n",
    "     \n",
    "     \n",
    "모든 음식의 스코빌 지수를 K 이상으로 만들기 위해 Leo는 스코빌 지수가 가장 낮은 두 개의 음식을 아래와 같이 특별한 방법으로 섞어 새로운 음식을 만듭니다.\n",
    "  \n",
    "     \n",
    "   \n",
    "#### 섞은 음식의 스코빌 지수 = 가장 맵지 않은 음식의 스코빌 지수 + (두 번째로 맵지 않은 음식의 스코빌 지수 * 2)\n",
    "  \n",
    "     \n",
    "   \n",
    "Leo는 모든 음식의 스코빌 지수가 K 이상이 될 때까지 반복하여 섞습니다.\n",
    "  \n",
    "     \n",
    "    \n",
    "## Leo가 가진 음식의 스코빌 지수를 담은 배열 scoville과 원하는 스코빌 지수 K가 주어질 때, 모든 음식의 스코빌 지수를 K 이상으로 만들기 위해 섞어야 하는 최소 횟수를 return 하도록 solution 함수를 작성해주세요."
   ]
  },
  {
   "cell_type": "code",
   "execution_count": 26,
   "metadata": {},
   "outputs": [],
   "source": [
    "# time error 발생\n",
    "def solution(scoville, K):\n",
    "    answer = 0\n",
    "#     dq = deque(scoville)\n",
    "    \n",
    "#     print(dq)\n",
    "    while len(scoville) > 1 and min(scoville) <= K :\n",
    "        print(scoville)\n",
    "        m1, m2 = scoville.pop(scoville.index(min(scoville))), scoville.pop(scoville.index(min(scoville)))\n",
    "        \n",
    "        scoville.append(m1 + 2 * m2)\n",
    "        answer += 1\n",
    "    \n",
    "    print(scoville)\n",
    "    if len(scoville) == 1 and scoville[0] < K :\n",
    "        return -1\n",
    "    else :\n",
    "        return answer"
   ]
  },
  {
   "cell_type": "code",
   "execution_count": 58,
   "metadata": {},
   "outputs": [],
   "source": [
    "def solution(scoville, K):\n",
    "    answer = 0\n",
    "    \n",
    "    scoville.sort()\n",
    "    scov = ''\n",
    "    for num , v in enumerate(scoville) :\n",
    "        if v >= K :\n",
    "            scov = scoville[:num]\n",
    "            break\n",
    "    if not scov :\n",
    "        scov = scoville\n",
    "    \n",
    "            \n",
    "    return scov"
   ]
  },
  {
   "cell_type": "code",
   "execution_count": 59,
   "metadata": {},
   "outputs": [
    {
     "data": {
      "text/plain": [
       "[1, 2, 3]"
      ]
     },
     "execution_count": 59,
     "metadata": {},
     "output_type": "execute_result"
    }
   ],
   "source": [
    "solution([1, 2, 3, 9, 10, 12], 7)"
   ]
  },
  {
   "cell_type": "code",
   "execution_count": 60,
   "metadata": {},
   "outputs": [
    {
     "data": {
      "text/plain": [
       "[1, 2, 2]"
      ]
     },
     "execution_count": 60,
     "metadata": {},
     "output_type": "execute_result"
    }
   ],
   "source": [
    "solution([1, 2, 2], 7)"
   ]
  },
  {
   "cell_type": "code",
   "execution_count": null,
   "metadata": {},
   "outputs": [],
   "source": []
  }
 ],
 "metadata": {
  "kernelspec": {
   "display_name": "Python 3",
   "language": "python",
   "name": "python3"
  },
  "language_info": {
   "codemirror_mode": {
    "name": "ipython",
    "version": 3
   },
   "file_extension": ".py",
   "mimetype": "text/x-python",
   "name": "python",
   "nbconvert_exporter": "python",
   "pygments_lexer": "ipython3",
   "version": "3.8.5"
  }
 },
 "nbformat": 4,
 "nbformat_minor": 4
}
