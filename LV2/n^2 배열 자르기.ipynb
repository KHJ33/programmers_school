{
 "cells": [
  {
   "cell_type": "markdown",
   "metadata": {},
   "source": [
    "정수 n, left, right가 주어집니다. 다음 과정을 거쳐서 1차원 배열을 만들고자 합니다.\n",
    "\n",
    "1. n행 n열 크기의 비어있는 2차원 배열을 만듭니다.\n",
    "2. i = 1, 2, 3, ..., n에 대해서, 다음 과정을 반복합니다.\n",
    "   * 1행 1열부터 i행 i열까지의 영역 내의 모든 빈 칸을 숫자 i로 채웁니다.\n",
    "3. 1행, 2행, ..., n행을 잘라내어 모두 이어붙인 새로운 1차원 배열을 만듭니다.\n",
    "4. 새로운 1차원 배열을 arr이라 할 때, arr[left], arr[left+1], ..., arr[right]만 남기고 나머지는 지웁니다.\n",
    "\n",
    "## 정수 n, left, right가 매개변수로 주어집니다. 주어진 과정대로 만들어진 1차원 배열을 return 하도록 solution 함수를 완성해주세요"
   ]
  },
  {
   "cell_type": "code",
   "execution_count": 33,
   "metadata": {},
   "outputs": [],
   "source": [
    "# time error 및 런타임 에러\n",
    "import numpy as np\n",
    "def solution(n, left, right):\n",
    "    answer = np.zeros((n,n))\n",
    "    \n",
    "    for i, k in enumerate(answer):\n",
    "        for j , value in enumerate(k) :\n",
    "            k[j] = max(i + 1, j + 1)\n",
    "    \n",
    "    print(answer.flatten())\n",
    "    \n",
    "#     answer = answer.flatten()[left : right + 1]\n",
    "    \n",
    "    \n",
    "    return answer.flatten()[left : right + 1].astype(int).tolist()"
   ]
  },
  {
   "cell_type": "code",
   "execution_count": 71,
   "metadata": {},
   "outputs": [],
   "source": [
    "# time error\n",
    "def solution(n, left, right):\n",
    "    answer = []\n",
    "    \n",
    "    for i in range(1, n ** 2 + 1) :\n",
    "        answer.append(max((i-1)//n + 1, (i - 1)% n + 1))\n",
    "    \n",
    "    print(answer)\n",
    "    return answer[left : right + 1]"
   ]
  },
  {
   "cell_type": "code",
   "execution_count": 82,
   "metadata": {},
   "outputs": [],
   "source": [
    "def solution2(n, left, right):\n",
    "    answer = []\n",
    "    \n",
    "    for i in range(left, right + 1) :\n",
    "        answer.append(max((i)//n + 1, (i)% n + 1))\n",
    "\n",
    "    return answer"
   ]
  },
  {
   "cell_type": "code",
   "execution_count": 78,
   "metadata": {},
   "outputs": [
    {
     "name": "stdout",
     "output_type": "stream",
     "text": [
      "[1, 2, 3, 2, 2, 3, 3, 3, 3]\n"
     ]
    },
    {
     "data": {
      "text/plain": [
       "[3, 2, 2, 3]"
      ]
     },
     "execution_count": 78,
     "metadata": {},
     "output_type": "execute_result"
    }
   ],
   "source": [
    "solution(3, 2, 5)\n",
    "solution2(3,2,5)"
   ]
  },
  {
   "cell_type": "code",
   "execution_count": 79,
   "metadata": {},
   "outputs": [
    {
     "name": "stdout",
     "output_type": "stream",
     "text": [
      "[1]\n"
     ]
    },
    {
     "data": {
      "text/plain": [
       "[1]"
      ]
     },
     "execution_count": 79,
     "metadata": {},
     "output_type": "execute_result"
    }
   ],
   "source": [
    "solution(1, 0, 0)"
   ]
  },
  {
   "cell_type": "code",
   "execution_count": 80,
   "metadata": {},
   "outputs": [
    {
     "name": "stdout",
     "output_type": "stream",
     "text": [
      "[1, 2, 3, 4, 2, 2, 3, 4, 3, 3, 3, 4, 4, 4, 4, 4]\n"
     ]
    },
    {
     "data": {
      "text/plain": [
       "[2]"
      ]
     },
     "execution_count": 80,
     "metadata": {},
     "output_type": "execute_result"
    }
   ],
   "source": [
    "solution(4,1,1)\n",
    "solution2(4,1,1)"
   ]
  },
  {
   "cell_type": "code",
   "execution_count": 68,
   "metadata": {},
   "outputs": [
    {
     "data": {
      "text/plain": [
       "[1, 2]"
      ]
     },
     "execution_count": 68,
     "metadata": {},
     "output_type": "execute_result"
    }
   ],
   "source": [
    "solution(4,1,2)"
   ]
  },
  {
   "cell_type": "code",
   "execution_count": null,
   "metadata": {},
   "outputs": [],
   "source": []
  }
 ],
 "metadata": {
  "kernelspec": {
   "display_name": "Python 3",
   "language": "python",
   "name": "python3"
  },
  "language_info": {
   "codemirror_mode": {
    "name": "ipython",
    "version": 3
   },
   "file_extension": ".py",
   "mimetype": "text/x-python",
   "name": "python",
   "nbconvert_exporter": "python",
   "pygments_lexer": "ipython3",
   "version": "3.8.5"
  }
 },
 "nbformat": 4,
 "nbformat_minor": 4
}
