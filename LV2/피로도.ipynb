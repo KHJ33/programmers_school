{
 "cells": [
  {
   "cell_type": "markdown",
   "id": "3a9cb792",
   "metadata": {},
   "source": [
    "이 게임에는 하루에 한 번씩 탐험할 수 있는 던전이 여러개 있는데, 한 유저가 오늘 이 던전들을 최대한 많이 탐험하려 합니다. 유저의 현재 피로도 k와 각 던전별 \"최소 필요 피로도\", \"소모 피로도\"가 담긴 2차원 배열 dungeons 가 매개변수로 주어질 때, 유저가 탐험할수 있는 최대 던전 수를 return 하도록 solution 함수를 완성해주세요.\n",
    "\n",
    "k는 1 이상 5,000 이하인 자연수입니다.\n",
    "* dungeons의 세로(행) 길이(즉, 던전의 개수)는 1 이상 8 이하입니다.\n",
    "* dungeons의 가로(열) 길이는 2 입니다.\n",
    "* dungeons의 각 행은 각 던전의 [\"최소 필요 피로도\", \"소모 피로도\"] 입니다.\n",
    "* \"최소 필요 피로도\"는 항상 \"소모 피로도\"보다 크거나 같습니다.\n",
    "* \"최소 필요 피로도\"와 \"소모 피로도\"는 1 이상 1,000 이하인 자연수입니다.\n",
    "* 서로 다른 던전의 [\"최소 필요 피로도\", \"소모 피로도\"]가 서로 같을 수 있습니다.\n"
   ]
  },
  {
   "cell_type": "code",
   "execution_count": 19,
   "id": "d2fabe15",
   "metadata": {},
   "outputs": [],
   "source": [
    "from itertools import permutations\n",
    "def solution(k, dungeons):\n",
    "    answer = -1\n",
    "    \n",
    "    li = list(range(len(dungeons)))\n",
    "    li = (list(permutations(li, len(dungeons))))\n",
    "    \n",
    "    for i in li :\n",
    "        temp_cnt, temp_k = 0, k\n",
    "        for _ in range(len(dungeons)) :\n",
    "            if temp_k >= dungeons[i[_]][0] :\n",
    "                temp_cnt += 1\n",
    "                temp_k -= dungeons[i[_]][1]\n",
    "            else :\n",
    "                break\n",
    "        if answer < temp_cnt :\n",
    "            answer = temp_cnt\n",
    "    \n",
    "    return answer"
   ]
  },
  {
   "cell_type": "code",
   "execution_count": 20,
   "id": "87fe7e85",
   "metadata": {},
   "outputs": [
    {
     "data": {
      "text/plain": [
       "3"
      ]
     },
     "execution_count": 20,
     "metadata": {},
     "output_type": "execute_result"
    }
   ],
   "source": [
    "solution(80, [[80,20],[50,40],[30,10]])"
   ]
  }
 ],
 "metadata": {
  "kernelspec": {
   "display_name": "Python 3 (ipykernel)",
   "language": "python",
   "name": "python3"
  },
  "language_info": {
   "codemirror_mode": {
    "name": "ipython",
    "version": 3
   },
   "file_extension": ".py",
   "mimetype": "text/x-python",
   "name": "python",
   "nbconvert_exporter": "python",
   "pygments_lexer": "ipython3",
   "version": "3.8.15"
  }
 },
 "nbformat": 4,
 "nbformat_minor": 5
}
