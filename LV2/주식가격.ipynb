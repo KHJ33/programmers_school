{
 "cells": [
  {
   "cell_type": "markdown",
   "id": "321d1bcd",
   "metadata": {},
   "source": [
    "## 초 단위로 기록된 주식가격이 담긴 배열 prices가 매개변수로 주어질 때, 가격이 떨어지지 않은 기간은 몇 초인지를 return 하도록 solution 함수를 완성하세요."
   ]
  },
  {
   "cell_type": "code",
   "execution_count": 5,
   "id": "d0fbb97a",
   "metadata": {},
   "outputs": [],
   "source": [
    "# 시간 초과\n",
    "def solution(prices):\n",
    "    answer = []\n",
    "    \n",
    "    for i, p in enumerate(prices) :\n",
    "        cnt = 0\n",
    "        for _ in prices[i + 1:] :\n",
    "            cnt += 1\n",
    "            if p > _ :\n",
    "                break\n",
    "        answer.append(cnt)\n",
    "        \n",
    "    return answer"
   ]
  },
  {
   "cell_type": "code",
   "execution_count": null,
   "id": "7936fb31",
   "metadata": {},
   "outputs": [],
   "source": [
    "from collections import deque\n",
    "def solution(prices):\n",
    "    answer = []\n",
    "    que=deque(prices)  # queue 선언\n",
    "    while(que):\n",
    "        price=que.popleft() ## pop --> list길이가 점점 짧아지면서 for문 효율 증가\n",
    "        cnt=0 # cnt 초기화\n",
    "        for com_price in que : \n",
    "            cnt+=1  ## 다음에바로 떨어지더라도 1초 후라는 조건이므로 비교하자마자 증가해도됨\n",
    "            if price > com_price : # 가격이 떨어지자마자 break 치고 나오면 맞음\n",
    "                break\n",
    "        answer.append(cnt) # 증가된거 list에 저장하고 다음 pop으로 이동\n",
    "\n",
    "    return answer"
   ]
  },
  {
   "cell_type": "code",
   "execution_count": 6,
   "id": "fe1be531",
   "metadata": {},
   "outputs": [
    {
     "data": {
      "text/plain": [
       "[4, 3, 1, 1, 0]"
      ]
     },
     "execution_count": 6,
     "metadata": {},
     "output_type": "execute_result"
    }
   ],
   "source": [
    "solution([1, 2, 3, 2, 3])"
   ]
  }
 ],
 "metadata": {
  "kernelspec": {
   "display_name": "Python 3 (ipykernel)",
   "language": "python",
   "name": "python3"
  },
  "language_info": {
   "codemirror_mode": {
    "name": "ipython",
    "version": 3
   },
   "file_extension": ".py",
   "mimetype": "text/x-python",
   "name": "python",
   "nbconvert_exporter": "python",
   "pygments_lexer": "ipython3",
   "version": "3.8.15"
  }
 },
 "nbformat": 4,
 "nbformat_minor": 5
}
