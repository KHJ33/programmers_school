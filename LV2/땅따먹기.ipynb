{
 "cells": [
  {
   "cell_type": "markdown",
   "id": "2804315d",
   "metadata": {},
   "source": [
    "1행부터 땅을 밟으며 한 행씩 내려올 때, 각 행의 4칸 중 한 칸만 밟으면서 내려와야 합니다. 단, 땅따먹기 게임에는 한 행씩 내려올 때, 같은 열을 연속해서 밟을 수 없는 특수 규칙이 있습니다.\n",
    "\n",
    "예를 들면,\n",
    "\n",
    "    | 1 | 2 | 3 | 5 |\n",
    "\n",
    "    | 5 | 6 | 7 | 8 |\n",
    "\n",
    "    | 4 | 3 | 2 | 1 |\n",
    "\n",
    "로 땅이 주어졌다면, 1행에서 네번째 칸 (5)를 밟았으면, 2행의 네번째 칸 (8)은 밟을 수 없습니다.\n",
    "\n",
    "마지막 행까지 모두 내려왔을 때, 얻을 수 있는 점수의 최대값을 return하는 solution 함수를 완성해 주세요. "
   ]
  },
  {
   "cell_type": "code",
   "execution_count": 10,
   "id": "f7952968",
   "metadata": {},
   "outputs": [],
   "source": [
    "def solution(land):\n",
    "    answer = []\n",
    "\n",
    "    print(len(land))\n",
    "    \n",
    "    # 0행의 모든 값을 기준으로 진행\n",
    "    for i, v in enumerate(land[0]) :\n",
    "        index , sum_value = i , v\n",
    "        \n",
    "        for _ in range(1, len(land)) :\n",
    "            cp = land[_].copy()\n",
    "            del cp[index]\n",
    "            sum_value += max(cp)\n",
    "            index = cp.index(max(cp))\n",
    "        answer.append(sum_value)\n",
    "\n",
    "    return max(answer)"
   ]
  },
  {
   "cell_type": "code",
   "execution_count": 17,
   "id": "f05da32a",
   "metadata": {},
   "outputs": [],
   "source": [
    "from itertools import product\n",
    "\n",
    "def solution(land):\n",
    "    answer = []\n",
    "\n",
    "    print(list(product(*land)))\n",
    "    \n",
    "\n",
    "    return answer"
   ]
  },
  {
   "cell_type": "code",
   "execution_count": 18,
   "id": "d2a4e8e9",
   "metadata": {},
   "outputs": [
    {
     "name": "stdout",
     "output_type": "stream",
     "text": [
      "[(1, 5, 4), (1, 5, 3), (1, 5, 2), (1, 5, 1), (1, 6, 4), (1, 6, 3), (1, 6, 2), (1, 6, 1), (1, 7, 4), (1, 7, 3), (1, 7, 2), (1, 7, 1), (1, 8, 4), (1, 8, 3), (1, 8, 2), (1, 8, 1), (2, 5, 4), (2, 5, 3), (2, 5, 2), (2, 5, 1), (2, 6, 4), (2, 6, 3), (2, 6, 2), (2, 6, 1), (2, 7, 4), (2, 7, 3), (2, 7, 2), (2, 7, 1), (2, 8, 4), (2, 8, 3), (2, 8, 2), (2, 8, 1), (3, 5, 4), (3, 5, 3), (3, 5, 2), (3, 5, 1), (3, 6, 4), (3, 6, 3), (3, 6, 2), (3, 6, 1), (3, 7, 4), (3, 7, 3), (3, 7, 2), (3, 7, 1), (3, 8, 4), (3, 8, 3), (3, 8, 2), (3, 8, 1), (5, 5, 4), (5, 5, 3), (5, 5, 2), (5, 5, 1), (5, 6, 4), (5, 6, 3), (5, 6, 2), (5, 6, 1), (5, 7, 4), (5, 7, 3), (5, 7, 2), (5, 7, 1), (5, 8, 4), (5, 8, 3), (5, 8, 2), (5, 8, 1)]\n"
     ]
    },
    {
     "data": {
      "text/plain": [
       "[]"
      ]
     },
     "execution_count": 18,
     "metadata": {},
     "output_type": "execute_result"
    }
   ],
   "source": [
    "solution([[1,2,3,5],[5,6,7,8],[4,3,2,1]])"
   ]
  },
  {
   "cell_type": "code",
   "execution_count": null,
   "id": "4831944d",
   "metadata": {},
   "outputs": [],
   "source": []
  }
 ],
 "metadata": {
  "kernelspec": {
   "display_name": "Python 3 (ipykernel)",
   "language": "python",
   "name": "python3"
  },
  "language_info": {
   "codemirror_mode": {
    "name": "ipython",
    "version": 3
   },
   "file_extension": ".py",
   "mimetype": "text/x-python",
   "name": "python",
   "nbconvert_exporter": "python",
   "pygments_lexer": "ipython3",
   "version": "3.8.15"
  }
 },
 "nbformat": 4,
 "nbformat_minor": 5
}
