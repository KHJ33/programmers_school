{
 "cells": [
  {
   "cell_type": "markdown",
   "metadata": {},
   "source": [
    "이런 문제를 보완하기 위해 중요도가 높은 문서를 먼저 인쇄하는 프린터를 개발했습니다. \n",
    "1. 인쇄 대기목록의 가장 앞에 있는 문서(J)를 대기목록에서 꺼냅니다.\n",
    "2. 나머지 인쇄 대기목록에서 J보다 중요도가 높은 문서가 한 개라도 존재하면 J를 대기목록의 가장 마지막에 넣습니다.\n",
    "3. 그렇지 않으면 J를 인쇄합니다.\n",
    "\n",
    "예를 들어, 4개의 문서(A, B, C, D)가 순서대로 인쇄 대기목록에 있고 중요도가 2 1 3 2 라면 C D A B 순으로 인쇄하게 됩니다.\n",
    "\n",
    "내가 인쇄를 요청한 문서가 몇 번째로 인쇄되는지 알고 싶습니다. 위의 예에서 C는 1번째로, A는 3번째로 인쇄됩니다."
   ]
  },
  {
   "cell_type": "code",
   "execution_count": 5,
   "metadata": {},
   "outputs": [],
   "source": [
    "# 순서가 결정되는 것이 다르게 나온다.\n",
    "from collections import deque\n",
    "def solution(priorities, location):\n",
    "    answer = []\n",
    "    dic = {}\n",
    "    \n",
    "    for i, k in enumerate(priorities) :\n",
    "        if k in dic :\n",
    "            dic[k].appendleft(str(i))\n",
    "        else :\n",
    "            dic[k] = deque(str(i))\n",
    "            \n",
    "    dic = sorted(dic.items(), key = lambda x : x[0], reverse = True)\n",
    "    print(dic)\n",
    "    \n",
    "    for _, k in dic :\n",
    "        answer.extend(list(map(int, k)))\n",
    "    print(answer)\n",
    "    \n",
    "    return answer.index(location) + 1"
   ]
  },
  {
   "cell_type": "code",
   "execution_count": 19,
   "metadata": {},
   "outputs": [],
   "source": [
    "# 35 점 코드\n",
    "from collections import deque\n",
    "def solution2(priorities, location):\n",
    "    answer = []\n",
    "    \n",
    "    dic = {}\n",
    "    \n",
    "    now , temp = priorities[0], []\n",
    "    for i, k in enumerate(priorities) :\n",
    "        if now == k :\n",
    "            temp.append(i)\n",
    "        else :\n",
    "#             print(temp)\n",
    "            print('전',now)\n",
    "            if now in dic :\n",
    "                print(temp)\n",
    "                dic[now] = temp + dic[now]\n",
    "            else :\n",
    "                dic[now] = temp\n",
    "            print('후', dic)\n",
    "            now , temp = k , [i]\n",
    "            print(k, i)\n",
    "    \n",
    "    if now in dic :\n",
    "        dic[now] = temp + dic[now]\n",
    "    else :\n",
    "        dic[now] = temp\n",
    "    \n",
    "    dic = sorted(dic.items(), reverse = True)\n",
    "    print(dic)\n",
    "    \n",
    "    for i, k in dic :\n",
    "        answer += k \n",
    "        \n",
    "    print(answer) \n",
    "    return answer.index(location) + 1"
   ]
  },
  {
   "cell_type": "code",
   "execution_count": 70,
   "metadata": {},
   "outputs": [],
   "source": [
    "from collections import deque\n",
    "def solution(priorities, location):\n",
    "    answer = 0\n",
    "\n",
    "    dq = deque(x for x in range(len(priorities)))\n",
    "    \n",
    "    while dq : \n",
    "        if max(priorities) == priorities[dq[0]] :\n",
    "            priorities[dq[0]] = 0\n",
    "            answer += 1\n",
    "            if dq[0] == location :\n",
    "                return answer\n",
    "            print(dq.popleft())\n",
    "        else :\n",
    "            dq.append(dq.popleft())"
   ]
  },
  {
   "cell_type": "code",
   "execution_count": 71,
   "metadata": {
    "scrolled": true
   },
   "outputs": [
    {
     "data": {
      "text/plain": [
       "1"
      ]
     },
     "execution_count": 71,
     "metadata": {},
     "output_type": "execute_result"
    }
   ],
   "source": [
    "solution([2, 1, 3, 2], 2)"
   ]
  },
  {
   "cell_type": "code",
   "execution_count": 72,
   "metadata": {},
   "outputs": [
    {
     "name": "stdout",
     "output_type": "stream",
     "text": [
      "2\n",
      "3\n",
      "4\n",
      "5\n"
     ]
    },
    {
     "data": {
      "text/plain": [
       "5"
      ]
     },
     "execution_count": 72,
     "metadata": {},
     "output_type": "execute_result"
    }
   ],
   "source": [
    "solution([1, 1, 9, 1, 1, 1], 0)"
   ]
  },
  {
   "cell_type": "code",
   "execution_count": 24,
   "metadata": {},
   "outputs": [
    {
     "name": "stdout",
     "output_type": "stream",
     "text": [
      "전 2\n",
      "후 {2: [0]}\n",
      "1 1\n",
      "전 1\n",
      "후 {2: [0], 1: [1]}\n",
      "3 2\n",
      "전 3\n",
      "후 {2: [0], 1: [1], 3: [2]}\n",
      "2 3\n",
      "[(3, [2]), (2, [3, 0]), (1, [1])]\n",
      "[2, 3, 0, 1]\n"
     ]
    },
    {
     "data": {
      "text/plain": [
       "0"
      ]
     },
     "execution_count": 24,
     "metadata": {},
     "output_type": "execute_result"
    }
   ],
   "source": [
    "solution2([2, 1, 3, 2], 2)"
   ]
  },
  {
   "cell_type": "code",
   "execution_count": 25,
   "metadata": {},
   "outputs": [
    {
     "name": "stdout",
     "output_type": "stream",
     "text": [
      "전 1\n",
      "후 {1: [0, 1]}\n",
      "9 2\n",
      "전 9\n",
      "후 {1: [0, 1], 9: [2]}\n",
      "1 3\n",
      "[(9, [2]), (1, [3, 4, 5, 0, 1])]\n",
      "[2, 3, 4, 5, 0, 1]\n"
     ]
    },
    {
     "data": {
      "text/plain": [
       "4"
      ]
     },
     "execution_count": 25,
     "metadata": {},
     "output_type": "execute_result"
    }
   ],
   "source": [
    "solution2([1, 1, 9, 1, 1, 1], 0)"
   ]
  },
  {
   "cell_type": "code",
   "execution_count": null,
   "metadata": {},
   "outputs": [],
   "source": []
  }
 ],
 "metadata": {
  "kernelspec": {
   "display_name": "Python 3",
   "language": "python",
   "name": "python3"
  },
  "language_info": {
   "codemirror_mode": {
    "name": "ipython",
    "version": 3
   },
   "file_extension": ".py",
   "mimetype": "text/x-python",
   "name": "python",
   "nbconvert_exporter": "python",
   "pygments_lexer": "ipython3",
   "version": "3.8.5"
  }
 },
 "nbformat": 4,
 "nbformat_minor": 4
}
