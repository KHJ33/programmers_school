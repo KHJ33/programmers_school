{
 "cells": [
  {
   "cell_type": "markdown",
   "metadata": {},
   "source": [
    "주차장의 요금표와 차량이 들어오고(입차) 나간(출차) 기록이 주어졌을 때, 차량별로 주차 요금을 계산하려고 합니다. 아래는 하나의 예시를 나타냅니다.\n",
    "\n",
    "* 어떤 차량이 입차된 후에 출차된 내역이 없다면, 23:59에 출차된 것으로 간주합니다.\n",
    "    * 0000번 차량은 18:59에 입차된 이후, 출차된 내역이 없습니다. 따라서, 23:59에 출차된 것으로 간주합니다.\n",
    "* 00:00부터 23:59까지의 입/출차 내역을 바탕으로 차량별 누적 주차 시간을 계산하여 요금을 일괄로 정산합니다.\n",
    "* 누적 주차 시간이 기본 시간이하라면, 기본 요금을 청구합니다.\n",
    "* 누적 주차 시간이 기본 시간을 초과하면, 기본 요금에 더해서, 초과한 시간에 대해서 단위 시간 마다 단위 요금을 청구합니다.\n",
    "    * 초과한 시간이 단위 시간으로 나누어 떨어지지 않으면, 올림합니다.\n",
    "    * ⌈a⌉ : a보다 작지 않은 최소의 정수를 의미합니다. 즉, 올림을 의미합니다.\n",
    "    \n",
    "### 주차 요금을 나타내는 정수 배열 fees, 자동차의 입/출차 내역을 나타내는 문자열 배열 records가 매개변수로 주어집니다. 차량 번호가 작은 자동차부터 청구할 주차 요금을 차례대로 정수 배열에 담아서 return 하도록 solution 함수를 완성해주세요."
   ]
  },
  {
   "cell_type": "code",
   "execution_count": 93,
   "metadata": {},
   "outputs": [],
   "source": [
    "import math\n",
    "def solution(fees, records):\n",
    "    answer = []\n",
    "    dic = {}\n",
    "    \n",
    "    for _ in records :\n",
    "        record = _.split(' ')\n",
    "        \n",
    "        if record[1] in dic :\n",
    "            if record[2] == 'IN' :\n",
    "\n",
    "                dic[record[1]].append(record[0])\n",
    "            else :\n",
    "\n",
    "                start = dic[record[1]].pop()\n",
    "                \n",
    "                start = start.split(':')\n",
    "                end = record[0].split(':')\n",
    "                \n",
    "#                 print(eval(f'{int(start[0])} * 60 + {int(start[1])}'))\n",
    "#                 print(eval(f'{int(end[0])} * 60 + {int(end[1])}'))\n",
    "                \n",
    "#                 print(eval(f'{int(end[0])} * 60 + {int(end[1])} - {int(start[0])} * 60 - {int(start[1])}'))\n",
    "        \n",
    "                dic[record[1]][0] += eval(f'{int(end[0])} * 60 + {int(end[1])} - {int(start[0])} * 60 - {int(start[1])}')\n",
    "                \n",
    "#                 print(start, record[0])\n",
    "                \n",
    "            \n",
    "            \n",
    "        else :\n",
    "            dic[record[1]] = [0, record[0]]\n",
    "            \n",
    "        \n",
    "        print('================')\n",
    "        print('<dic 현재상태>')\n",
    "        print(dic)\n",
    "        print('================')\n",
    "        \n",
    "\n",
    "    \n",
    "    for i, k in dic.items() :\n",
    "        if len(k) == 1 :\n",
    "            if k[0] <= fees[0] :\n",
    "                k[0] = fees[1]\n",
    "            else :\n",
    "                k[0] = math.ceil((k[0] - fees[0])/fees[2]) * fees[3] + fees[1]\n",
    "#                 k[0] = round(k[0] - fees[0] + 5, -1) *  \n",
    "                print(k[0])\n",
    "        \n",
    "        else :\n",
    "            end = k.pop().split(':')\n",
    "            k[0] = k[0] + eval(f'1439 - {int(end[0])} * 60 - {int(end[1])}')\n",
    "            print(k[0])\n",
    "            if k[0] <= fees[0] :\n",
    "                k[0] = fees[1]\n",
    "            else :\n",
    "                k[0] = math.ceil((k[0]-fees[0]) / fees[2]) * fees[3] + fees[1]\n",
    "                \n",
    "    dic = sorted(dic.items())\n",
    "    \n",
    "    for _,x in dic :\n",
    "        answer.extend(x)\n",
    "    \n",
    "    return answer"
   ]
  },
  {
   "cell_type": "code",
   "execution_count": 94,
   "metadata": {},
   "outputs": [
    {
     "name": "stdout",
     "output_type": "stream",
     "text": [
      "================\n",
      "<dic 현재상태>\n",
      "{'5961': [0, '05:34']}\n",
      "================\n",
      "================\n",
      "<dic 현재상태>\n",
      "{'5961': [0, '05:34'], '0000': [0, '06:00']}\n",
      "================\n",
      "================\n",
      "<dic 현재상태>\n",
      "{'5961': [0, '05:34'], '0000': [34]}\n",
      "================\n",
      "================\n",
      "<dic 현재상태>\n",
      "{'5961': [145], '0000': [34]}\n",
      "================\n",
      "================\n",
      "<dic 현재상태>\n",
      "{'5961': [145], '0000': [34], '0148': [0, '07:59']}\n",
      "================\n",
      "================\n",
      "<dic 현재상태>\n",
      "{'5961': [145], '0000': [34, '18:59'], '0148': [0, '07:59']}\n",
      "================\n",
      "================\n",
      "<dic 현재상태>\n",
      "{'5961': [145], '0000': [34, '18:59'], '0148': [670]}\n",
      "================\n",
      "================\n",
      "<dic 현재상태>\n",
      "{'5961': [145, '22:59'], '0000': [34, '18:59'], '0148': [670]}\n",
      "================\n",
      "================\n",
      "<dic 현재상태>\n",
      "{'5961': [146], '0000': [34, '18:59'], '0148': [670]}\n",
      "================\n",
      "334\n",
      "34400\n"
     ]
    },
    {
     "data": {
      "text/plain": [
       "[14600, 34400, 5000]"
      ]
     },
     "execution_count": 94,
     "metadata": {},
     "output_type": "execute_result"
    }
   ],
   "source": [
    "solution([180, 5000, 10, 600], [\"05:34 5961 IN\", \"06:00 0000 IN\", \"06:34 0000 OUT\", \n",
    "                                \"07:59 5961 OUT\", \"07:59 0148 IN\", \"18:59 0000 IN\", \n",
    "                                \"19:09 0148 OUT\", \"22:59 5961 IN\", \"23:00 5961 OUT\"])"
   ]
  }
 ],
 "metadata": {
  "kernelspec": {
   "display_name": "Python 3",
   "language": "python",
   "name": "python3"
  },
  "language_info": {
   "codemirror_mode": {
    "name": "ipython",
    "version": 3
   },
   "file_extension": ".py",
   "mimetype": "text/x-python",
   "name": "python",
   "nbconvert_exporter": "python",
   "pygments_lexer": "ipython3",
   "version": "3.8.5"
  }
 },
 "nbformat": 4,
 "nbformat_minor": 4
}
