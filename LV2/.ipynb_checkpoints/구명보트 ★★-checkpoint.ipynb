{
 "cells": [
  {
   "cell_type": "markdown",
   "metadata": {},
   "source": [
    "무인도에 갇힌 사람들을 구명보트를 이용하여 구출하려고 합니다. 구명보트는 작아서 한 번에 최대 2명씩 밖에 탈 수 없고, 무게 제한도 있습니다.\n",
    "  \n",
    "  \n",
    "구명보트를 최대한 적게 사용하여 모든 사람을 구출하려고 합니다.\n",
    "\n",
    "## 사람들의 몸무게를 담은 배열 people과 구명보트의 무게 제한 limit가 매개변수로 주어질 때, 모든 사람을 구출하기 위해 필요한 구명보트 개수의 최솟값을 return 하도록 solution 함수를 작성해주세요."
   ]
  },
  {
   "cell_type": "code",
   "execution_count": 34,
   "metadata": {},
   "outputs": [],
   "source": [
    "# test case 오류 발생\n",
    "def solution(people, limit):\n",
    "    people = sorted(people)\n",
    "    \n",
    "    print(people)\n",
    "    \n",
    "    for idx in range(len(people) - 1 , -1 , -1) :\n",
    "        if people[0] + people[idx] <= limit :\n",
    "            break\n",
    "\n",
    "    return (idx // 2) + 1 + len(people[idx + 1 : ])"
   ]
  },
  {
   "cell_type": "code",
   "execution_count": 35,
   "metadata": {},
   "outputs": [
    {
     "name": "stdout",
     "output_type": "stream",
     "text": [
      "[40, 40, 50, 50, 70, 80]\n"
     ]
    },
    {
     "data": {
      "text/plain": [
       "4"
      ]
     },
     "execution_count": 35,
     "metadata": {},
     "output_type": "execute_result"
    }
   ],
   "source": [
    "solution([70, 50, 80, 50, 40, 40], 110)"
   ]
  },
  {
   "cell_type": "code",
   "execution_count": 5,
   "metadata": {},
   "outputs": [
    {
     "name": "stdout",
     "output_type": "stream",
     "text": [
      "[40, 55, 55, 60, 60, 60, 70, 80]\n"
     ]
    },
    {
     "data": {
      "text/plain": [
       "7"
      ]
     },
     "execution_count": 5,
     "metadata": {},
     "output_type": "execute_result"
    }
   ],
   "source": [
    "solution([40, 55, 55, 60, 60, 60, 70, 80], 100) # 7"
   ]
  },
  {
   "cell_type": "code",
   "execution_count": 31,
   "metadata": {},
   "outputs": [],
   "source": [
    "# test case 2 fail\n",
    "def solution(people, limit):\n",
    "    answer = 0\n",
    "    people = sorted(people)\n",
    "    s_idx, l_idx = 0 , len(people) - 1\n",
    "    \n",
    "    while True :\n",
    "        if people[s_idx] + people[l_idx] > limit :\n",
    "            answer += 1\n",
    "        else :\n",
    "            if people[l_idx] == people[l_idx - 1] :\n",
    "                answer += 1\n",
    "                s_idx += 1\n",
    "            else :\n",
    "                return (l_idx - s_idx) // 2 + 1 + answer\n",
    "        l_idx -= 1\n",
    "        \n",
    "        if s_idx == l_idx :\n",
    "            return answer + 1"
   ]
  },
  {
   "cell_type": "code",
   "execution_count": 3,
   "metadata": {},
   "outputs": [],
   "source": [
    "# test case 3 => time error 발생\n",
    "def solution(people, limit):\n",
    "    answer = 0\n",
    "    people = sorted(people)\n",
    "\n",
    "    while people :\n",
    "        if len(people) == 1 :\n",
    "            return answer + 1\n",
    "        \n",
    "        if people[0] + people[-1] <= limit :\n",
    "            people.pop(0)\n",
    "        people.pop()\n",
    "        answer += 1\n",
    "    return answer"
   ]
  },
  {
   "cell_type": "code",
   "execution_count": 11,
   "metadata": {},
   "outputs": [
    {
     "data": {
      "text/plain": [
       "4"
      ]
     },
     "execution_count": 11,
     "metadata": {},
     "output_type": "execute_result"
    }
   ],
   "source": [
    "solution([70, 50, 80, 50, 40, 40], 110)"
   ]
  },
  {
   "cell_type": "code",
   "execution_count": 10,
   "metadata": {},
   "outputs": [],
   "source": [
    "from collections import deque\n",
    "def solution(people, limit):\n",
    "    answer = 0\n",
    "    deq = deque(sorted(people))\n",
    "    while deq :\n",
    "        if len(deq) == 1 :\n",
    "            return answer + 1\n",
    "        \n",
    "        if deq[0] + deq[-1] <= limit :\n",
    "            deq.popleft()\n",
    "        deq.pop()\n",
    "        answer += 1\n",
    "    return answer"
   ]
  }
 ],
 "metadata": {
  "kernelspec": {
   "display_name": "Python 3",
   "language": "python",
   "name": "python3"
  },
  "language_info": {
   "codemirror_mode": {
    "name": "ipython",
    "version": 3
   },
   "file_extension": ".py",
   "mimetype": "text/x-python",
   "name": "python",
   "nbconvert_exporter": "python",
   "pygments_lexer": "ipython3",
   "version": "3.8.5"
  }
 },
 "nbformat": 4,
 "nbformat_minor": 4
}
