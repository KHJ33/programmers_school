{
 "cells": [
  {
   "cell_type": "markdown",
   "metadata": {},
   "source": [
    "n개의 음이 아닌 정수들이 있습니다. 이 정수들을 순서를 바꾸지 않고 적절히 더하거나 빼서 타겟 넘버를 만들려고 합니다. \n",
    "  \n",
    "  \n",
    "예를 들어 [1, 1, 1, 1, 1]로 숫자 3을 만들려면 다음 다섯 방법을 쓸 수 있습니다.\n",
    "* -1+1+1+1+1 = 3\n",
    "* +1-1+1+1+1 = 3\n",
    "* +1+1-1+1+1 = 3\n",
    "* +1+1+1-1+1 = 3\n",
    "* +1+1+1+1-1 = 3"
   ]
  },
  {
   "cell_type": "code",
   "execution_count": 18,
   "metadata": {},
   "outputs": [],
   "source": [
    "from itertools import combinations\n",
    "def solution(numbers, target):\n",
    "    answer = 0\n",
    "    \n",
    "    total = sum(numbers)\n",
    "    \n",
    "    for _ in range(0, len(numbers) + 1) :\n",
    "#         print(list(combinations(numbers, i)))\n",
    "        for j in list(combinations(numbers, _)) :\n",
    "            print(j, sum(j))\n",
    "            print('total :', total - 2 * sum(j))\n",
    "            if total - 2 * sum(j) == target :\n",
    "                answer += 1\n",
    "        \n",
    "    \n",
    "    return answer"
   ]
  },
  {
   "cell_type": "code",
   "execution_count": 20,
   "metadata": {},
   "outputs": [
    {
     "name": "stdout",
     "output_type": "stream",
     "text": [
      "() 0\n",
      "total : 5\n",
      "(1,) 1\n",
      "total : 3\n",
      "(1,) 1\n",
      "total : 3\n",
      "(1,) 1\n",
      "total : 3\n",
      "(1,) 1\n",
      "total : 3\n",
      "(1,) 1\n",
      "total : 3\n",
      "(1, 1) 2\n",
      "total : 1\n",
      "(1, 1) 2\n",
      "total : 1\n",
      "(1, 1) 2\n",
      "total : 1\n",
      "(1, 1) 2\n",
      "total : 1\n",
      "(1, 1) 2\n",
      "total : 1\n",
      "(1, 1) 2\n",
      "total : 1\n",
      "(1, 1) 2\n",
      "total : 1\n",
      "(1, 1) 2\n",
      "total : 1\n",
      "(1, 1) 2\n",
      "total : 1\n",
      "(1, 1) 2\n",
      "total : 1\n",
      "(1, 1, 1) 3\n",
      "total : -1\n",
      "(1, 1, 1) 3\n",
      "total : -1\n",
      "(1, 1, 1) 3\n",
      "total : -1\n",
      "(1, 1, 1) 3\n",
      "total : -1\n",
      "(1, 1, 1) 3\n",
      "total : -1\n",
      "(1, 1, 1) 3\n",
      "total : -1\n",
      "(1, 1, 1) 3\n",
      "total : -1\n",
      "(1, 1, 1) 3\n",
      "total : -1\n",
      "(1, 1, 1) 3\n",
      "total : -1\n",
      "(1, 1, 1) 3\n",
      "total : -1\n",
      "(1, 1, 1, 1) 4\n",
      "total : -3\n",
      "(1, 1, 1, 1) 4\n",
      "total : -3\n",
      "(1, 1, 1, 1) 4\n",
      "total : -3\n",
      "(1, 1, 1, 1) 4\n",
      "total : -3\n",
      "(1, 1, 1, 1) 4\n",
      "total : -3\n",
      "(1, 1, 1, 1, 1) 5\n",
      "total : -5\n"
     ]
    },
    {
     "data": {
      "text/plain": [
       "5"
      ]
     },
     "execution_count": 20,
     "metadata": {},
     "output_type": "execute_result"
    }
   ],
   "source": [
    "solution([1, 1, 1, 1, 1], 3)"
   ]
  }
 ],
 "metadata": {
  "kernelspec": {
   "display_name": "Python 3",
   "language": "python",
   "name": "python3"
  },
  "language_info": {
   "codemirror_mode": {
    "name": "ipython",
    "version": 3
   },
   "file_extension": ".py",
   "mimetype": "text/x-python",
   "name": "python",
   "nbconvert_exporter": "python",
   "pygments_lexer": "ipython3",
   "version": "3.8.5"
  }
 },
 "nbformat": 4,
 "nbformat_minor": 4
}
