{
 "cells": [
  {
   "cell_type": "markdown",
   "id": "6010372e",
   "metadata": {},
   "source": [
    "수확한 귤 중 'k'개를 골라 상자 하나에 담아 판매하려고 합니다. 그런데 수확한 귤의 크기가 일정하지 않아 보기에 좋지 않다고 생각한 경화는 귤을 크기별로 분류했을 때 서로 다른 종류의 수를 최소화하고 싶습니다.\n",
    "\n",
    "## 한 상자에 담으려는 귤의 개수 k와 귤의 크기를 담은 배열 tangerine이 매개변수로 주어집니다. 경화가 귤 k개를 고를 때 크기가 서로 다른 종류의 수의 최솟값을 return 하도록 solution 함수를 작성해주세요."
   ]
  },
  {
   "cell_type": "markdown",
   "id": "6739701f",
   "metadata": {},
   "source": [
    "### 오류"
   ]
  },
  {
   "cell_type": "code",
   "execution_count": 43,
   "id": "ef9694a5",
   "metadata": {},
   "outputs": [],
   "source": [
    "def solution(k, tangerine):\n",
    "    answer = 0\n",
    "    \n",
    "    dic = {x : tangerine.count(x) for x in set(tangerine)}\n",
    "    dic_copy = dict(sorted(dic.items() , key = lambda x : x[1], reverse = True))\n",
    "    \n",
    "    print(dic)\n",
    "    \n",
    "    for key, value in dic_copy.items() :\n",
    "        if value % 2 == 0 :\n",
    "            k -= value\n",
    "            del dic[key]\n",
    "        else :\n",
    "            k -= value - 1\n",
    "            dic[key] = 1\n",
    "        answer += 1\n",
    "        \n",
    "        if k <= 0 :\n",
    "            print(dic)\n",
    "            return answer\n",
    "    # 나머지는 한번에 담는다고 친다. (무조건 1개씩만 남아 있으니깐)\n",
    "    return answer + 1"
   ]
  },
  {
   "cell_type": "code",
   "execution_count": 44,
   "id": "f23c6dd7",
   "metadata": {},
   "outputs": [
    {
     "name": "stdout",
     "output_type": "stream",
     "text": [
      "{1: 1, 2: 2, 3: 2, 4: 1, 5: 2}\n",
      "{1: 1, 4: 1}\n"
     ]
    },
    {
     "data": {
      "text/plain": [
       "3"
      ]
     },
     "execution_count": 44,
     "metadata": {},
     "output_type": "execute_result"
    }
   ],
   "source": [
    "solution(6, [1, 3, 2, 5, 4, 5, 2, 3])"
   ]
  },
  {
   "cell_type": "markdown",
   "id": "13125233",
   "metadata": {},
   "source": [
    "### 오류"
   ]
  },
  {
   "cell_type": "code",
   "execution_count": null,
   "id": "cd9a0686",
   "metadata": {},
   "outputs": [],
   "source": [
    "def solution(k, tangerine):\n",
    "    answer = 0\n",
    "    \n",
    "    dic = {x : tangerine.count(x) for x in set(tangerine)}\n",
    "    dic = dict(sorted(dic.items() , key = lambda x : x[1], reverse = True))\n",
    "    \n",
    "    print(dic)\n",
    "    \n",
    "    for _, value in dic.items() :\n",
    "        if value == 1 :\n",
    "            return answer + 1\n",
    "        \n",
    "        k -= value\n",
    "        answer += 1\n",
    "        \n",
    "        if k <= 0 :\n",
    "            return answer"
   ]
  },
  {
   "cell_type": "code",
   "execution_count": 45,
   "id": "e242e332",
   "metadata": {},
   "outputs": [
    {
     "name": "stdout",
     "output_type": "stream",
     "text": [
      "{1: 4, 2: 3, 3: 1}\n",
      "{2: 3, 3: 1}\n"
     ]
    },
    {
     "data": {
      "text/plain": [
       "1"
      ]
     },
     "execution_count": 45,
     "metadata": {},
     "output_type": "execute_result"
    }
   ],
   "source": [
    "solution(2,\t[1, 1, 1, 1, 2, 2, 2, 3])"
   ]
  },
  {
   "cell_type": "markdown",
   "id": "2331e575",
   "metadata": {},
   "source": [
    "### 시간 오류"
   ]
  },
  {
   "cell_type": "code",
   "execution_count": 56,
   "id": "235eabd8",
   "metadata": {},
   "outputs": [],
   "source": [
    "def solution(k, tangerine):\n",
    "    answer = 0\n",
    "    \n",
    "    list_a = [tangerine.count(x) for x in set(tangerine)]\n",
    "    list_a = sorted(list_a, reverse = True)\n",
    "    \n",
    "    for i, v in enumerate(list_a) :\n",
    "        if v == 1 :\n",
    "            return answer + k\n",
    "        \n",
    "        k -= v\n",
    "        answer += 1\n",
    "        \n",
    "        if k <= 0 :\n",
    "            return answer"
   ]
  },
  {
   "cell_type": "code",
   "execution_count": 57,
   "id": "a5a363dc",
   "metadata": {},
   "outputs": [
    {
     "data": {
      "text/plain": [
       "1"
      ]
     },
     "execution_count": 57,
     "metadata": {},
     "output_type": "execute_result"
    }
   ],
   "source": [
    "solution(2,\t[1, 1, 1, 1, 2, 2, 2, 3])"
   ]
  },
  {
   "cell_type": "markdown",
   "id": "5314094a",
   "metadata": {},
   "source": [
    "### 정답"
   ]
  },
  {
   "cell_type": "code",
   "execution_count": 79,
   "id": "86f427b2",
   "metadata": {},
   "outputs": [],
   "source": [
    "def solution(k, tangerine):\n",
    "    answer = 0\n",
    "    \n",
    "    tangerine.sort()\n",
    "    \n",
    "    print(tangerine)\n",
    "    \n",
    "    # count 함수 구현\n",
    "    count_list = []\n",
    "    cnt = 1 \n",
    "    befor = tangerine[0]\n",
    "    for i in range(1, len(tangerine)) :\n",
    "        if befor == tangerine[i] :\n",
    "            cnt += 1\n",
    "        else :\n",
    "#             count_list.append([befor, cnt])\n",
    "            count_list.append(cnt)\n",
    "            befor = tangerine[i] \n",
    "            cnt = 1\n",
    "    if befor == tangerine[-1] :\n",
    "#         count_list.append([befor, cnt])\n",
    "        count_list.append(cnt)\n",
    "    else :\n",
    "#         count_list.append([tangerine[-1], 1])\n",
    "        count_list.append(1)\n",
    "        \n",
    "    print(count_list)\n",
    "    \n",
    "    list_a = sorted(count_list, reverse = True)\n",
    "    \n",
    "    for i, v in enumerate(list_a) :\n",
    "        if v == 1 :\n",
    "            return answer + k\n",
    "        \n",
    "        k -= v\n",
    "        answer += 1\n",
    "        \n",
    "        if k <= 0 :\n",
    "            return answer"
   ]
  },
  {
   "cell_type": "code",
   "execution_count": 80,
   "id": "46cedf03",
   "metadata": {},
   "outputs": [
    {
     "name": "stdout",
     "output_type": "stream",
     "text": [
      "[1, 2, 2, 3, 3, 4, 5, 5]\n",
      "[1, 2, 2, 1, 2]\n"
     ]
    },
    {
     "data": {
      "text/plain": [
       "3"
      ]
     },
     "execution_count": 80,
     "metadata": {},
     "output_type": "execute_result"
    }
   ],
   "source": [
    "solution(6, [1, 3, 2, 5, 4, 5, 2, 3])"
   ]
  }
 ],
 "metadata": {
  "kernelspec": {
   "display_name": "Python 3 (ipykernel)",
   "language": "python",
   "name": "python3"
  },
  "language_info": {
   "codemirror_mode": {
    "name": "ipython",
    "version": 3
   },
   "file_extension": ".py",
   "mimetype": "text/x-python",
   "name": "python",
   "nbconvert_exporter": "python",
   "pygments_lexer": "ipython3",
   "version": "3.8.15"
  }
 },
 "nbformat": 4,
 "nbformat_minor": 5
}
