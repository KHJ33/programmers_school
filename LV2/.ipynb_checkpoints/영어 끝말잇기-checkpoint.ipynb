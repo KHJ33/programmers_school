{
 "cells": [
  {
   "cell_type": "markdown",
   "metadata": {},
   "source": [
    "1부터 n까지 번호가 붙어있는 n명의 사람이 영어 끝말잇기를 하고 있습니다. 영어 끝말잇기는 다음과 같은 규칙으로 진행됩니다.\n",
    "\n",
    "1. 1번부터 번호 순서대로 한 사람씩 차례대로 단어를 말합니다.\n",
    "2. 마지막 사람이 단어를 말한 다음에는 다시 1번부터 시작합니다.\n",
    "3. 앞사람이 말한 단어의 마지막 문자로 시작하는 단어를 말해야 합니다.\n",
    "4. 이전에 등장했던 단어는 사용할 수 없습니다.\n",
    "5. 한 글자인 단어는 인정되지 않습니다."
   ]
  },
  {
   "cell_type": "code",
   "execution_count": 20,
   "metadata": {},
   "outputs": [],
   "source": [
    "def solution(n, words):\n",
    "    \n",
    "    for i, word in enumerate(words) :\n",
    "        if i == 0 :\n",
    "            continue\n",
    "            \n",
    "        if word in words[:i] or word[0] != words[i-1][-1]:\n",
    "            return [i%n + 1, i//n + 1]\n",
    "\n",
    "    return [0, 0]"
   ]
  },
  {
   "cell_type": "code",
   "execution_count": 21,
   "metadata": {},
   "outputs": [
    {
     "name": "stdout",
     "output_type": "stream",
     "text": [
      "tank\n"
     ]
    },
    {
     "data": {
      "text/plain": [
       "[3, 3]"
      ]
     },
     "execution_count": 21,
     "metadata": {},
     "output_type": "execute_result"
    }
   ],
   "source": [
    "solution(3, [\"tank\", \"kick\", \"know\", \"wheel\", \"land\", \"dream\", \"mother\", \"robot\", \"tank\"])"
   ]
  }
 ],
 "metadata": {
  "kernelspec": {
   "display_name": "Python 3",
   "language": "python",
   "name": "python3"
  },
  "language_info": {
   "codemirror_mode": {
    "name": "ipython",
    "version": 3
   },
   "file_extension": ".py",
   "mimetype": "text/x-python",
   "name": "python",
   "nbconvert_exporter": "python",
   "pygments_lexer": "ipython3",
   "version": "3.8.5"
  }
 },
 "nbformat": 4,
 "nbformat_minor": 4
}
