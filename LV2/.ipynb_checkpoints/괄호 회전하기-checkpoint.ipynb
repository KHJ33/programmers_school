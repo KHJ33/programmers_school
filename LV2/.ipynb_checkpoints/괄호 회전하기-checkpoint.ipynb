{
 "cells": [
  {
   "cell_type": "markdown",
   "metadata": {},
   "source": [
    "다음 규칙을 지키는 문자열을 올바른 괄호 문자열이라고 정의합니다.\n",
    "\n",
    "1. (), [], {} 는 모두 올바른 괄호 문자열입니다.\n",
    "2. 만약 A가 올바른 괄호 문자열이라면, (A), [A], {A} 도 올바른 괄호 문자열입니다. \n",
    "   예를 들어, [] 가 올바른 괄호 문자열이므로, ([]) 도 올바른 괄호 문자열입니다.\n",
    "3. 만약 A, B가 올바른 괄호 문자열이라면, AB 도 올바른 괄호 문자열입니다. \n",
    "   예를 들어, {} 와 ([]) 가 올바른 괄호 문자열이므로, {}  ([]) 도 올바른 괄호 문자열입니다.\n",
    "     \n",
    "     \n",
    "대괄호, 중괄호, 그리고 소괄호로 이루어진 문자열 s가 매개변수로 주어집니다. \n",
    "## 이 s를 왼쪽으로 x (0 ≤ x < (s의 길이)) 칸만큼 회전시켰을 때 s가 올바른 괄호 문자열이 되게 하는 x의 개수를 return 하도록 solution 함수를 완성해주세요"
   ]
  },
  {
   "cell_type": "code",
   "execution_count": 60,
   "metadata": {},
   "outputs": [],
   "source": [
    "from collections import deque\n",
    "def solution(s):\n",
    "    answer = 0\n",
    "    append , pop , dq = '[{(' , ']})' , deque(s)\n",
    "    \n",
    "    for _ in s :\n",
    "        print(dq)\n",
    "        stack = []\n",
    "        fail = True\n",
    "        for w in dq :\n",
    "            if w in append :\n",
    "                stack.append(w)\n",
    "            else :\n",
    "                if len(stack) == 0 or stack[-1] != append[pop.index(w)] :\n",
    "                    fail = not fail\n",
    "                    print(fail)\n",
    "                    break\n",
    "                stack.pop()\n",
    "        if not stack and fail :\n",
    "            answer +=1 \n",
    "    \n",
    "        dq.rotate(1)\n",
    "\n",
    "    return answer"
   ]
  },
  {
   "cell_type": "code",
   "execution_count": 61,
   "metadata": {},
   "outputs": [
    {
     "name": "stdout",
     "output_type": "stream",
     "text": [
      "deque(['[', ']', '(', ')', '{', '}'])\n",
      "deque(['}', '[', ']', '(', ')', '{'])\n",
      "False\n",
      "deque(['{', '}', '[', ']', '(', ')'])\n",
      "deque([')', '{', '}', '[', ']', '('])\n",
      "False\n",
      "deque(['(', ')', '{', '}', '[', ']'])\n",
      "deque([']', '(', ')', '{', '}', '['])\n",
      "False\n"
     ]
    },
    {
     "data": {
      "text/plain": [
       "3"
      ]
     },
     "execution_count": 61,
     "metadata": {},
     "output_type": "execute_result"
    }
   ],
   "source": [
    "solution(\"[](){}\")"
   ]
  },
  {
   "cell_type": "code",
   "execution_count": 62,
   "metadata": {},
   "outputs": [
    {
     "name": "stdout",
     "output_type": "stream",
     "text": [
      "deque(['}', ']', '(', ')', '[', '{'])\n",
      "False\n",
      "deque(['{', '}', ']', '(', ')', '['])\n",
      "False\n",
      "deque(['[', '{', '}', ']', '(', ')'])\n",
      "deque([')', '[', '{', '}', ']', '('])\n",
      "False\n",
      "deque(['(', ')', '[', '{', '}', ']'])\n",
      "deque([']', '(', ')', '[', '{', '}'])\n",
      "False\n"
     ]
    },
    {
     "data": {
      "text/plain": [
       "2"
      ]
     },
     "execution_count": 62,
     "metadata": {},
     "output_type": "execute_result"
    }
   ],
   "source": [
    "solution(\"}]()[{\")"
   ]
  },
  {
   "cell_type": "code",
   "execution_count": 63,
   "metadata": {},
   "outputs": [
    {
     "name": "stdout",
     "output_type": "stream",
     "text": [
      "deque(['{', '}'])\n",
      "deque(['}', '{'])\n",
      "False\n"
     ]
    },
    {
     "data": {
      "text/plain": [
       "1"
      ]
     },
     "execution_count": 63,
     "metadata": {},
     "output_type": "execute_result"
    }
   ],
   "source": [
    "solution('{}')"
   ]
  },
  {
   "cell_type": "code",
   "execution_count": 64,
   "metadata": {},
   "outputs": [
    {
     "data": {
      "text/plain": [
       "0"
      ]
     },
     "execution_count": 64,
     "metadata": {},
     "output_type": "execute_result"
    }
   ],
   "source": [
    "solution('')"
   ]
  },
  {
   "cell_type": "code",
   "execution_count": 65,
   "metadata": {},
   "outputs": [
    {
     "name": "stdout",
     "output_type": "stream",
     "text": [
      "deque(['(', ')', '('])\n",
      "deque(['(', '(', ')'])\n",
      "deque([')', '(', '('])\n",
      "False\n"
     ]
    },
    {
     "data": {
      "text/plain": [
       "0"
      ]
     },
     "execution_count": 65,
     "metadata": {},
     "output_type": "execute_result"
    }
   ],
   "source": [
    "solution('()(')"
   ]
  }
 ],
 "metadata": {
  "kernelspec": {
   "display_name": "Python 3",
   "language": "python",
   "name": "python3"
  },
  "language_info": {
   "codemirror_mode": {
    "name": "ipython",
    "version": 3
   },
   "file_extension": ".py",
   "mimetype": "text/x-python",
   "name": "python",
   "nbconvert_exporter": "python",
   "pygments_lexer": "ipython3",
   "version": "3.8.5"
  }
 },
 "nbformat": 4,
 "nbformat_minor": 4
}
