{
 "cells": [
  {
   "cell_type": "markdown",
   "metadata": {},
   "source": [
    "양의 정수 n이 주어집니다. \n",
    "  \n",
    "  \n",
    "이 숫자를 k진수로 바꿨을 때, 변환된 수 안에 아래 조건에 맞는 소수(Prime number)가 몇 개인지 알아보려 합니다.\n",
    "\n",
    "* 0P0처럼 소수 양쪽에 0이 있는 경우\n",
    "* P0처럼 소수 오른쪽에만 0이 있고 왼쪽에는 아무것도 없는 경우\n",
    "* 0P처럼 소수 왼쪽에만 0이 있고 오른쪽에는 아무것도 없는 경우\n",
    "* P처럼 소수 양쪽에 아무것도 없는 경우\n",
    "* 단, P는 각 자릿수에 0을 포함하지 않는 소수입니다.\n",
    "  * 예를 들어, 101은 P가 될 수 없습니다."
   ]
  },
  {
   "cell_type": "code",
   "execution_count": 45,
   "metadata": {},
   "outputs": [],
   "source": [
    "# time error 발생\n",
    "def solution(n, k):\n",
    "    answer = 0\n",
    "    number = ''\n",
    "    \n",
    "    while n:\n",
    "        number = str(n % k) + number\n",
    "        n = n // k\n",
    "    \n",
    "    print(number)\n",
    "    \n",
    "    number = number.replace('0',' ')\n",
    "    print(number)\n",
    "    print(number.split())\n",
    "    number = list(map(int, number.split()))\n",
    "    print(number)\n",
    "    \n",
    "    decimal = set(range(2,max(number) + 1))\n",
    "    for _ in range(2, max(number)) :\n",
    "        decimal -= set(range(2 * _ , max(number) + 1, _))\n",
    "        \n",
    "    print(decimal)\n",
    "    \n",
    "    for _ in number :\n",
    "        if _ in decimal :\n",
    "            print(_)\n",
    "            answer += 1\n",
    "    \n",
    "    return answer"
   ]
  },
  {
   "cell_type": "code",
   "execution_count": 52,
   "metadata": {},
   "outputs": [],
   "source": [
    "def solution(n, k):\n",
    "    answer = 0\n",
    "    number = ''\n",
    "    \n",
    "    while n:\n",
    "        number = str(n % k) + number\n",
    "        n = n // k\n",
    "    \n",
    "    print(number)\n",
    "    \n",
    "    number = number.replace('0',' ')\n",
    "    print(number)\n",
    "    print(number.split())\n",
    "    number = list(map(int, number.split()))\n",
    "    print(number)\n",
    "    \n",
    "    for _ in number :\n",
    "        decimal = True\n",
    "        \n",
    "        if _ == 1 :\n",
    "            decimal = False\n",
    "        \n",
    "        for i in range(2, int(_ ** 0.5) + 1) :\n",
    "            if _ % i == 0 :\n",
    "                decimal = False\n",
    "                break\n",
    "        \n",
    "        if decimal :\n",
    "            answer += 1\n",
    "    \n",
    "    return answer"
   ]
  },
  {
   "cell_type": "code",
   "execution_count": 53,
   "metadata": {},
   "outputs": [
    {
     "name": "stdout",
     "output_type": "stream",
     "text": [
      "211020101011\n",
      "211 2 1 1 11\n",
      "['211', '2', '1', '1', '11']\n",
      "[211, 2, 1, 1, 11]\n"
     ]
    },
    {
     "data": {
      "text/plain": [
       "3"
      ]
     },
     "execution_count": 53,
     "metadata": {},
     "output_type": "execute_result"
    }
   ],
   "source": [
    "solution(437674, 3)"
   ]
  },
  {
   "cell_type": "code",
   "execution_count": 54,
   "metadata": {},
   "outputs": [
    {
     "name": "stdout",
     "output_type": "stream",
     "text": [
      "110011\n",
      "11  11\n",
      "['11', '11']\n",
      "[11, 11]\n"
     ]
    },
    {
     "data": {
      "text/plain": [
       "2"
      ]
     },
     "execution_count": 54,
     "metadata": {},
     "output_type": "execute_result"
    }
   ],
   "source": [
    "solution(110011, 10)"
   ]
  }
 ],
 "metadata": {
  "kernelspec": {
   "display_name": "Python 3",
   "language": "python",
   "name": "python3"
  },
  "language_info": {
   "codemirror_mode": {
    "name": "ipython",
    "version": 3
   },
   "file_extension": ".py",
   "mimetype": "text/x-python",
   "name": "python",
   "nbconvert_exporter": "python",
   "pygments_lexer": "ipython3",
   "version": "3.8.5"
  }
 },
 "nbformat": 4,
 "nbformat_minor": 4
}
