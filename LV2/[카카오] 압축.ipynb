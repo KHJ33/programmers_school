{
 "cells": [
  {
   "cell_type": "markdown",
   "metadata": {},
   "source": [
    "LZW(Lempel–Ziv–Welch) 압축을 구현하기로 했다.\n",
    "\n",
    "1. 길이가 1인 모든 단어를 포함하도록 사전을 초기화한다.\n",
    "2. 사전에서 현재 입력과 일치하는 가장 긴 문자열 w를 찾는다.\n",
    "3. w에 해당하는 사전의 색인 번호를 출력하고, 입력에서 w를 제거한다.\n",
    "4. 입력에서 처리되지 않은 다음 글자가 남아있다면(c), w+c에 해당하는 단어를 사전에 등록한다.\n",
    "5. 단계 2로 돌아간다."
   ]
  },
  {
   "cell_type": "code",
   "execution_count": 56,
   "metadata": {},
   "outputs": [],
   "source": [
    "from collections import deque\n",
    "def solution(msg):\n",
    "    answer = []\n",
    "    LZW = [chr(x) for x in range(ord('A'), ord('Z') + 1)]\n",
    "    dq = deque(msg)\n",
    "    \n",
    "    s = ''\n",
    "    while True :\n",
    "        s += dq.popleft()\n",
    "        \n",
    "        print(s)\n",
    "        \n",
    "        if not dq :\n",
    "            answer.append(LZW.index(s) + 1)\n",
    "            break\n",
    "            \n",
    "        else:\n",
    "            if s + dq[0] not in LZW :\n",
    "                LZW.append(s + dq[0])\n",
    "                answer.append(LZW.index(s) + 1)\n",
    "                s = ''\n",
    "\n",
    "                print(LZW)\n",
    "                print(answer)\n",
    "\n",
    "    return answer"
   ]
  },
  {
   "cell_type": "code",
   "execution_count": 57,
   "metadata": {
    "scrolled": true
   },
   "outputs": [
    {
     "name": "stdout",
     "output_type": "stream",
     "text": [
      "K\n",
      "['A', 'B', 'C', 'D', 'E', 'F', 'G', 'H', 'I', 'J', 'K', 'L', 'M', 'N', 'O', 'P', 'Q', 'R', 'S', 'T', 'U', 'V', 'W', 'X', 'Y', 'Z', 'KA']\n",
      "[11]\n",
      "A\n",
      "['A', 'B', 'C', 'D', 'E', 'F', 'G', 'H', 'I', 'J', 'K', 'L', 'M', 'N', 'O', 'P', 'Q', 'R', 'S', 'T', 'U', 'V', 'W', 'X', 'Y', 'Z', 'KA', 'AK']\n",
      "[11, 1]\n",
      "K\n",
      "KA\n",
      "['A', 'B', 'C', 'D', 'E', 'F', 'G', 'H', 'I', 'J', 'K', 'L', 'M', 'N', 'O', 'P', 'Q', 'R', 'S', 'T', 'U', 'V', 'W', 'X', 'Y', 'Z', 'KA', 'AK', 'KAO']\n",
      "[11, 1, 27]\n",
      "O\n"
     ]
    },
    {
     "data": {
      "text/plain": [
       "[11, 1, 27, 15]"
      ]
     },
     "execution_count": 57,
     "metadata": {},
     "output_type": "execute_result"
    }
   ],
   "source": [
    "solution('KAKAO')"
   ]
  },
  {
   "cell_type": "code",
   "execution_count": 51,
   "metadata": {},
   "outputs": [
    {
     "name": "stdout",
     "output_type": "stream",
     "text": [
      "T\n",
      "['A', 'B', 'C', 'D', 'E', 'F', 'G', 'H', 'I', 'J', 'K', 'L', 'M', 'N', 'O', 'P', 'Q', 'R', 'S', 'T', 'U', 'V', 'W', 'X', 'Y', 'Z', 'TO']\n",
      "[20]\n",
      "O\n",
      "['A', 'B', 'C', 'D', 'E', 'F', 'G', 'H', 'I', 'J', 'K', 'L', 'M', 'N', 'O', 'P', 'Q', 'R', 'S', 'T', 'U', 'V', 'W', 'X', 'Y', 'Z', 'TO', 'OB']\n",
      "[20, 15]\n",
      "B\n",
      "['A', 'B', 'C', 'D', 'E', 'F', 'G', 'H', 'I', 'J', 'K', 'L', 'M', 'N', 'O', 'P', 'Q', 'R', 'S', 'T', 'U', 'V', 'W', 'X', 'Y', 'Z', 'TO', 'OB', 'BE']\n",
      "[20, 15, 2]\n",
      "E\n",
      "['A', 'B', 'C', 'D', 'E', 'F', 'G', 'H', 'I', 'J', 'K', 'L', 'M', 'N', 'O', 'P', 'Q', 'R', 'S', 'T', 'U', 'V', 'W', 'X', 'Y', 'Z', 'TO', 'OB', 'BE', 'EO']\n",
      "[20, 15, 2, 5]\n",
      "O\n",
      "['A', 'B', 'C', 'D', 'E', 'F', 'G', 'H', 'I', 'J', 'K', 'L', 'M', 'N', 'O', 'P', 'Q', 'R', 'S', 'T', 'U', 'V', 'W', 'X', 'Y', 'Z', 'TO', 'OB', 'BE', 'EO', 'OR']\n",
      "[20, 15, 2, 5, 15]\n",
      "R\n",
      "['A', 'B', 'C', 'D', 'E', 'F', 'G', 'H', 'I', 'J', 'K', 'L', 'M', 'N', 'O', 'P', 'Q', 'R', 'S', 'T', 'U', 'V', 'W', 'X', 'Y', 'Z', 'TO', 'OB', 'BE', 'EO', 'OR', 'RN']\n",
      "[20, 15, 2, 5, 15, 18]\n",
      "N\n",
      "['A', 'B', 'C', 'D', 'E', 'F', 'G', 'H', 'I', 'J', 'K', 'L', 'M', 'N', 'O', 'P', 'Q', 'R', 'S', 'T', 'U', 'V', 'W', 'X', 'Y', 'Z', 'TO', 'OB', 'BE', 'EO', 'OR', 'RN', 'NO']\n",
      "[20, 15, 2, 5, 15, 18, 14]\n",
      "O\n",
      "['A', 'B', 'C', 'D', 'E', 'F', 'G', 'H', 'I', 'J', 'K', 'L', 'M', 'N', 'O', 'P', 'Q', 'R', 'S', 'T', 'U', 'V', 'W', 'X', 'Y', 'Z', 'TO', 'OB', 'BE', 'EO', 'OR', 'RN', 'NO', 'OT']\n",
      "[20, 15, 2, 5, 15, 18, 14, 15]\n",
      "T\n",
      "['A', 'B', 'C', 'D', 'E', 'F', 'G', 'H', 'I', 'J', 'K', 'L', 'M', 'N', 'O', 'P', 'Q', 'R', 'S', 'T', 'U', 'V', 'W', 'X', 'Y', 'Z', 'TO', 'OB', 'BE', 'EO', 'OR', 'RN', 'NO', 'OT', 'TT']\n",
      "[20, 15, 2, 5, 15, 18, 14, 15, 20]\n",
      "T\n",
      "TO\n",
      "['A', 'B', 'C', 'D', 'E', 'F', 'G', 'H', 'I', 'J', 'K', 'L', 'M', 'N', 'O', 'P', 'Q', 'R', 'S', 'T', 'U', 'V', 'W', 'X', 'Y', 'Z', 'TO', 'OB', 'BE', 'EO', 'OR', 'RN', 'NO', 'OT', 'TT', 'TOB']\n",
      "[20, 15, 2, 5, 15, 18, 14, 15, 20, 27]\n",
      "B\n",
      "BE\n",
      "['A', 'B', 'C', 'D', 'E', 'F', 'G', 'H', 'I', 'J', 'K', 'L', 'M', 'N', 'O', 'P', 'Q', 'R', 'S', 'T', 'U', 'V', 'W', 'X', 'Y', 'Z', 'TO', 'OB', 'BE', 'EO', 'OR', 'RN', 'NO', 'OT', 'TT', 'TOB', 'BEO']\n",
      "[20, 15, 2, 5, 15, 18, 14, 15, 20, 27, 29]\n",
      "O\n",
      "OR\n",
      "['A', 'B', 'C', 'D', 'E', 'F', 'G', 'H', 'I', 'J', 'K', 'L', 'M', 'N', 'O', 'P', 'Q', 'R', 'S', 'T', 'U', 'V', 'W', 'X', 'Y', 'Z', 'TO', 'OB', 'BE', 'EO', 'OR', 'RN', 'NO', 'OT', 'TT', 'TOB', 'BEO', 'ORT']\n",
      "[20, 15, 2, 5, 15, 18, 14, 15, 20, 27, 29, 31]\n",
      "T\n",
      "TO\n",
      "TOB\n",
      "['A', 'B', 'C', 'D', 'E', 'F', 'G', 'H', 'I', 'J', 'K', 'L', 'M', 'N', 'O', 'P', 'Q', 'R', 'S', 'T', 'U', 'V', 'W', 'X', 'Y', 'Z', 'TO', 'OB', 'BE', 'EO', 'OR', 'RN', 'NO', 'OT', 'TT', 'TOB', 'BEO', 'ORT', 'TOBE']\n",
      "[20, 15, 2, 5, 15, 18, 14, 15, 20, 27, 29, 31, 36]\n",
      "E\n",
      "EO\n",
      "['A', 'B', 'C', 'D', 'E', 'F', 'G', 'H', 'I', 'J', 'K', 'L', 'M', 'N', 'O', 'P', 'Q', 'R', 'S', 'T', 'U', 'V', 'W', 'X', 'Y', 'Z', 'TO', 'OB', 'BE', 'EO', 'OR', 'RN', 'NO', 'OT', 'TT', 'TOB', 'BEO', 'ORT', 'TOBE', 'EOR']\n",
      "[20, 15, 2, 5, 15, 18, 14, 15, 20, 27, 29, 31, 36, 30]\n",
      "R\n",
      "RN\n",
      "['A', 'B', 'C', 'D', 'E', 'F', 'G', 'H', 'I', 'J', 'K', 'L', 'M', 'N', 'O', 'P', 'Q', 'R', 'S', 'T', 'U', 'V', 'W', 'X', 'Y', 'Z', 'TO', 'OB', 'BE', 'EO', 'OR', 'RN', 'NO', 'OT', 'TT', 'TOB', 'BEO', 'ORT', 'TOBE', 'EOR', 'RNO']\n",
      "[20, 15, 2, 5, 15, 18, 14, 15, 20, 27, 29, 31, 36, 30, 32]\n",
      "O\n",
      "OT\n"
     ]
    },
    {
     "data": {
      "text/plain": [
       "[20, 15, 2, 5, 15, 18, 14, 15, 20, 27, 29, 31, 36, 30, 32, 34]"
      ]
     },
     "execution_count": 51,
     "metadata": {},
     "output_type": "execute_result"
    }
   ],
   "source": [
    "solution('TOBEORNOTTOBEORTOBEORNOT')"
   ]
  }
 ],
 "metadata": {
  "kernelspec": {
   "display_name": "Python 3",
   "language": "python",
   "name": "python3"
  },
  "language_info": {
   "codemirror_mode": {
    "name": "ipython",
    "version": 3
   },
   "file_extension": ".py",
   "mimetype": "text/x-python",
   "name": "python",
   "nbconvert_exporter": "python",
   "pygments_lexer": "ipython3",
   "version": "3.8.5"
  }
 },
 "nbformat": 4,
 "nbformat_minor": 4
}
