{
 "cells": [
  {
   "cell_type": "markdown",
   "id": "263ccc13",
   "metadata": {},
   "source": [
    "1. 숫자를 0부터 시작해서 차례대로 말한다. 첫 번째 사람은 0, 두 번째 사람은 1, … 열 번째 사람은 9를 말한다.\n",
    "2. 10 이상의 숫자부터는 한 자리씩 끊어서 말한다. 즉 열한 번째 사람은 10의 첫 자리인 1, 열두 번째 사람은 둘째 자리인 0을 말한다.\n",
    "\n",
    "        이렇게 게임을 진행할 경우,\n",
    "        0, 1, 2, 3, 4, 5, 6, 7, 8, 9, 1, 0, 1, 1, 1, 2, 1, 3, 1, 4, …\n",
    "        \n",
    "한편 코딩 동아리 일원들은 컴퓨터를 다루는 사람답게 이진수로 이 게임을 진행하기도 하는데, 이 경우에는\n",
    "0, 1, 1, 0, 1, 1, 1, 0, 0, 1, 0, 1, 1, 1, 0, 1, 1, 1, …"
   ]
  },
  {
   "cell_type": "code",
   "execution_count": 30,
   "id": "d4d9ca2f",
   "metadata": {},
   "outputs": [],
   "source": [
    "def convert_notation(num, base):\n",
    "    T = \"0123456789ABCDEF\"\n",
    "    q, r = divmod(num, base)\n",
    "\n",
    "    return convert_notation(q, base) + T[r] if q else T[r]\n",
    "\n",
    "def solution(n, t, m, p):\n",
    "    answer , temp = '', ''\n",
    "    \n",
    "    num = 0\n",
    "    while True :\n",
    "        temp += convert_notation(num, n)\n",
    "        num += 1\n",
    "        \n",
    "        if len(temp) >= t * m :\n",
    "            break\n",
    "    \n",
    "    print(temp)\n",
    "    for i in range(t) :\n",
    "        answer += temp[(p - 1) + (i * m)]\n",
    "    \n",
    "    return answer"
   ]
  },
  {
   "cell_type": "code",
   "execution_count": 31,
   "id": "1b528109",
   "metadata": {},
   "outputs": [
    {
     "name": "stdout",
     "output_type": "stream",
     "text": [
      "011011100\n"
     ]
    },
    {
     "data": {
      "text/plain": [
       "'0111'"
      ]
     },
     "execution_count": 31,
     "metadata": {},
     "output_type": "execute_result"
    }
   ],
   "source": [
    "solution(2,\t4, 2, 1)"
   ]
  },
  {
   "cell_type": "code",
   "execution_count": 33,
   "id": "d15a8555",
   "metadata": {},
   "outputs": [
    {
     "name": "stdout",
     "output_type": "stream",
     "text": [
      "0123456789ABCDEF1011121314151617\n"
     ]
    },
    {
     "data": {
      "text/plain": [
       "'13579BDF01234567'"
      ]
     },
     "execution_count": 33,
     "metadata": {},
     "output_type": "execute_result"
    }
   ],
   "source": [
    "solution(16, 16, 2, 2)"
   ]
  }
 ],
 "metadata": {
  "kernelspec": {
   "display_name": "Python 3 (ipykernel)",
   "language": "python",
   "name": "python3"
  },
  "language_info": {
   "codemirror_mode": {
    "name": "ipython",
    "version": 3
   },
   "file_extension": ".py",
   "mimetype": "text/x-python",
   "name": "python",
   "nbconvert_exporter": "python",
   "pygments_lexer": "ipython3",
   "version": "3.8.15"
  }
 },
 "nbformat": 4,
 "nbformat_minor": 5
}
