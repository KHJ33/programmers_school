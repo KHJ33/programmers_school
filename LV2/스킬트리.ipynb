{
 "cells": [
  {
   "cell_type": "markdown",
   "id": "d20bce59",
   "metadata": {},
   "source": [
    "1. 선행 스킬 순서가 스파크 → 라이트닝 볼트 → 썬더일때, 썬더를 배우려면 먼저 라이트닝 볼트를 배워야 하고, 라이트닝 볼트를 배우려면 먼저 스파크를 배워야 합니다.\n",
    "\n",
    "2. 위 순서에 없는 다른 스킬(힐링 등)은 순서에 상관없이 배울 수 있습니다. 따라서 스파크 → 힐링 → 라이트닝 볼트 → 썬더와 같은 스킬트리는 가능하지만, 썬더 → 스파크나 라이트닝 볼트 → 스파크 → 힐링 → 썬더와 같은 스킬트리는 불가능합니다."
   ]
  },
  {
   "cell_type": "code",
   "execution_count": 25,
   "id": "673658f8",
   "metadata": {},
   "outputs": [],
   "source": [
    "def solution(skill, skill_trees):\n",
    "    answer = 0\n",
    "\n",
    "    for _ in skill_trees :\n",
    "        # 맨 마지막에 검수해야 하는 skill 을 붙어준다. 사용되지 않은 경우를 방지 하기 위해서\n",
    "        temp, t= [], _+ skill\n",
    "        print(_)\n",
    "        for s in skill :\n",
    "            print(s)\n",
    "            temp.append(t.index(s))\n",
    "        \n",
    "        print(temp)\n",
    "        \n",
    "        if temp == sorted(temp) :\n",
    "            answer += 1\n",
    "            \n",
    "    return answer"
   ]
  },
  {
   "cell_type": "code",
   "execution_count": 26,
   "id": "ffbc61a8",
   "metadata": {},
   "outputs": [
    {
     "name": "stdout",
     "output_type": "stream",
     "text": [
      "BACDE\n",
      "C\n",
      "B\n",
      "D\n",
      "[2, 0, 3]\n",
      "CBADF\n",
      "C\n",
      "B\n",
      "D\n",
      "[0, 1, 3]\n",
      "AECB\n",
      "C\n",
      "B\n",
      "D\n",
      "[2, 3, 6]\n",
      "BDA\n",
      "C\n",
      "B\n",
      "D\n",
      "[3, 0, 1]\n"
     ]
    },
    {
     "data": {
      "text/plain": [
       "2"
      ]
     },
     "execution_count": 26,
     "metadata": {},
     "output_type": "execute_result"
    }
   ],
   "source": [
    "solution(\"CBD\",\t[\"BACDE\", \"CBADF\", \"AECB\", \"BDA\"])"
   ]
  }
 ],
 "metadata": {
  "kernelspec": {
   "display_name": "Python 3 (ipykernel)",
   "language": "python",
   "name": "python3"
  },
  "language_info": {
   "codemirror_mode": {
    "name": "ipython",
    "version": 3
   },
   "file_extension": ".py",
   "mimetype": "text/x-python",
   "name": "python",
   "nbconvert_exporter": "python",
   "pygments_lexer": "ipython3",
   "version": "3.8.15"
  }
 },
 "nbformat": 4,
 "nbformat_minor": 5
}
