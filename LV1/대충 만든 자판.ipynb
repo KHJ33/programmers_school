{
 "cells": [
  {
   "cell_type": "markdown",
   "id": "0b073ef8",
   "metadata": {},
   "source": [
    "예를 들어, 1번 키에 \"A\", \"B\", \"C\" 순서대로 문자가 할당되어 있다면 1번 키를 한 번 누르면 \"A\", 두 번 누르면 \"B\", 세 번 누르면 \"C\"가 되는 식입니다.\n",
    "\n",
    "같은 규칙을 적용해 아무렇게나 만든 휴대폰 자판이 있습니다. 이 휴대폰 자판은 키의 개수가 1개부터 최대 100개까지 있을 수 있으며, 특정 키를 눌렀을 때 입력되는 문자들도 무작위로 배열되어 있습니다. 또, 같은 문자가 자판 전체에 여러 번 할당된 경우도 있고, 키 하나에 같은 문자가 여러 번 할당된 경우도 있습니다. 심지어 아예 할당되지 않은 경우도 있습니다. 따라서 몇몇 문자열은 작성할 수 없을 수도 있습니다."
   ]
  },
  {
   "cell_type": "code",
   "execution_count": 7,
   "id": "a23b3dc3",
   "metadata": {},
   "outputs": [],
   "source": [
    "def solution(keymap, targets):\n",
    "    answer = []\n",
    "    keybord_dic = {}\n",
    "    \n",
    "    for _ in keymap :\n",
    "        for i, k in enumerate(_) :\n",
    "            if k in keybord_dic :\n",
    "                if i + 1 < keybord_dic[k] :\n",
    "                    keybord_dic[k] = i + 1\n",
    "            else :\n",
    "                keybord_dic[k] = i + 1\n",
    "                \n",
    "    print(keybord_dic)\n",
    "    \n",
    "    for _ in targets :\n",
    "        cnt = 0\n",
    "        for k in _ :\n",
    "            if k in keybord_dic :\n",
    "                cnt += k\n",
    "            else :\n",
    "                "
   ]
  },
  {
   "cell_type": "code",
   "execution_count": 8,
   "id": "c43e929f",
   "metadata": {},
   "outputs": [
    {
     "name": "stdout",
     "output_type": "stream",
     "text": [
      "{'A': 1, 'B': 1, 'C': 2, 'D': 5, 'E': 3, 'F': 4}\n"
     ]
    }
   ],
   "source": [
    "solution([\"ABACD\", \"BCEFD\"], [\"ABCD\",\"AABB\"])"
   ]
  },
  {
   "cell_type": "code",
   "execution_count": null,
   "id": "fe437a3e",
   "metadata": {},
   "outputs": [],
   "source": []
  }
 ],
 "metadata": {
  "kernelspec": {
   "display_name": "Python 3 (ipykernel)",
   "language": "python",
   "name": "python3"
  },
  "language_info": {
   "codemirror_mode": {
    "name": "ipython",
    "version": 3
   },
   "file_extension": ".py",
   "mimetype": "text/x-python",
   "name": "python",
   "nbconvert_exporter": "python",
   "pygments_lexer": "ipython3",
   "version": "3.8.15"
  }
 },
 "nbformat": 4,
 "nbformat_minor": 5
}
