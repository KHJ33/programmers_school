{
 "cells": [
  {
   "cell_type": "markdown",
   "metadata": {},
   "source": [
    "## 정수를 저장한 배열, arr 에서 가장 작은 수를 제거한 배열을 리턴하는 함수, solution을 완성해주세요. \n",
    "단, 리턴하려는 배열이 빈 배열인 경우엔 배열에 -1을 채워 리턴하세요.  \n",
    "예를들어 arr이 [4,3,2,1]인 경우는 [4,3,2]를 리턴 하고, [10]면 [-1]을 리턴 합니다."
   ]
  },
  {
   "cell_type": "code",
   "execution_count": 32,
   "metadata": {},
   "outputs": [],
   "source": [
    "# 시간이 오래걸린 에러 발생\n",
    "def solution(arr):\n",
    "    \n",
    "    # 입력 받은 배열이 1개라면\n",
    "    if len(arr) == 1 :\n",
    "        return [-1]\n",
    "    \n",
    "    # min 함수를 이용하여 최소 값을 찾고, 그 최소 값이 아닌 값들만 answer 에 추가\n",
    "    answer = [x for x in arr if min(arr) != x ]\n",
    "    \n",
    "    return answer"
   ]
  },
  {
   "cell_type": "code",
   "execution_count": 37,
   "metadata": {},
   "outputs": [
    {
     "data": {
      "text/plain": [
       "[4, 3, 2]"
      ]
     },
     "execution_count": 37,
     "metadata": {},
     "output_type": "execute_result"
    }
   ],
   "source": [
    "solution([4,3,2,1,1])"
   ]
  },
  {
   "cell_type": "code",
   "execution_count": 38,
   "metadata": {},
   "outputs": [],
   "source": [
    "def solution(arr):\n",
    "    \n",
    "    if len(arr) == 1 :\n",
    "        return [-1]\n",
    "    \n",
    "    # 배열 내 최소 값을 min_num 변수에 저장\n",
    "    min_num = min(arr)\n",
    "    \n",
    "    # 최소 값이랑 동일한 값이 여러개 존재 할수 있다.\n",
    "    # 배열.remove(a) => 배열 내 a 와 동일한 '첫번째' 위치 제거 // 없을경우 error 발생\n",
    "    while True :\n",
    "        try:\n",
    "            # 최소값과 동일한 값을 지속적으로 제거\n",
    "            arr.remove(min_num)\n",
    "            \n",
    "        except: # 배열 내 제거 할 값이 없으면 except 문 실행\n",
    "            break # while 문을 빠져 나간다\n",
    "            \n",
    "    return arr"
   ]
  }
 ],
 "metadata": {
  "kernelspec": {
   "display_name": "Python 3",
   "language": "python",
   "name": "python3"
  },
  "language_info": {
   "codemirror_mode": {
    "name": "ipython",
    "version": 3
   },
   "file_extension": ".py",
   "mimetype": "text/x-python",
   "name": "python",
   "nbconvert_exporter": "python",
   "pygments_lexer": "ipython3",
   "version": "3.8.5"
  }
 },
 "nbformat": 4,
 "nbformat_minor": 4
}
