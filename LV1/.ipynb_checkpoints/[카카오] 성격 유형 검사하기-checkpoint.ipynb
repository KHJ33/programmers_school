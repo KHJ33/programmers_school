{
 "cells": [
  {
   "cell_type": "markdown",
   "metadata": {},
   "source": [
    "질문마다 판단하는 지표를 담은 1차원 문자열 배열 survey와 검사자가 각 질문마다 선택한 선택지를 담은 1차원 정수 배열 choices가 매개변수로 주어집니다. 이때, 검사자의 성격 유형 검사 결과를 지표 번호 순서대로 return 하도록 solution 함수를 완성해주세요.\n",
    "\n",
    "### 지표 번호\t성격 유형\n",
    "  \n",
    "  \n",
    "1번 지표\t라이언형(R), 튜브형(T)\n",
    "  \n",
    "  \n",
    "2번 지표\t콘형(C), 프로도형(F)\n",
    "  \n",
    "  \n",
    "3번 지표\t제이지형(J), 무지형(M)\n",
    "  \n",
    "  \n",
    "4번 지표\t어피치형(A), 네오형(N)\n",
    "  \n",
    "  \n",
    "### choices\t뜻\n",
    "  \n",
    "  \n",
    "1\t매우 비동의 - 3점\n",
    "  \n",
    "  \n",
    "2\t비동의 - 2점\n",
    "  \n",
    "  \n",
    "3\t약간 비동의 - 1점\n",
    "  \n",
    "  \n",
    "4\t모르겠음\n",
    "  \n",
    "  \n",
    "5\t약간 동의 - 1점\n",
    "  \n",
    "  \n",
    "6\t동의 - 2점\n",
    "  \n",
    "  \n",
    "7\t매우 동의 - 3점"
   ]
  },
  {
   "cell_type": "code",
   "execution_count": 1,
   "metadata": {},
   "outputs": [],
   "source": [
    "def solution(survey, choices):\n",
    "    answer = ''\n",
    "    return answer"
   ]
  },
  {
   "cell_type": "code",
   "execution_count": 2,
   "metadata": {},
   "outputs": [
    {
     "data": {
      "text/plain": [
       "''"
      ]
     },
     "execution_count": 2,
     "metadata": {},
     "output_type": "execute_result"
    }
   ],
   "source": [
    "solution([\"AN\", \"CF\", \"MJ\", \"RT\", \"NA\"], [5, 3, 2, 7, 5])"
   ]
  }
 ],
 "metadata": {
  "kernelspec": {
   "display_name": "Python 3",
   "language": "python",
   "name": "python3"
  },
  "language_info": {
   "codemirror_mode": {
    "name": "ipython",
    "version": 3
   },
   "file_extension": ".py",
   "mimetype": "text/x-python",
   "name": "python",
   "nbconvert_exporter": "python",
   "pygments_lexer": "ipython3",
   "version": "3.8.5"
  }
 },
 "nbformat": 4,
 "nbformat_minor": 4
}
