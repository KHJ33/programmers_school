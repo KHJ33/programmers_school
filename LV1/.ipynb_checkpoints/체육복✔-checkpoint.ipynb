{
 "cells": [
  {
   "cell_type": "markdown",
   "metadata": {},
   "source": [
    "## 전체 학생의 수 n, 체육복을 도난당한 학생들의 번호가 담긴 배열 lost, 여벌의 체육복을 가져온 학생들의 번호가 담긴 배열 reserve가 매개변수로 주어질 때, 체육수업을 들을 수 있는 학생의 최댓값을 return 하도록 solution 함수를 작성해주세요.\n",
    "  \n",
    "* 전체 학생의 수는 2명 이상 30명 이하입니다.\n",
    "* 체육복을 도난당한 학생의 수는 1명 이상 n명 이하이고 중복되는 번호는 없습니다.\n",
    "* 여벌의 체육복을 가져온 학생의 수는 1명 이상 n명 이하이고 중복되는 번호는 없습니다.\n",
    "* 여벌 체육복이 있는 학생만 다른 학생에게 체육복을 빌려줄 수 있습니다.\n",
    "    \n",
    "    \n",
    "* **여벌 체육복을 가져온 학생이 체육복을 도난당했을 수 있습니다. 이때 이 학생은 체육복을 하나만 도난당했다고 가정하며, 남은 체육복이 하나이기에 다른 학생에게는 체육복을 빌려줄 수 없습니다.**"
   ]
  },
  {
   "cell_type": "code",
   "execution_count": 1,
   "metadata": {},
   "outputs": [],
   "source": [
    "def solution(n, lost, reserve):\n",
    "    answer = n - len(lost)\n",
    "    \n",
    "    lost = sorted(lost)\n",
    "    reserve = sorted(reserve)\n",
    "    \n",
    "    for i in lost.copy() :\n",
    "        if i in reserve :\n",
    "            lost.remove(i)\n",
    "            del reserve[reserve.index(i)]\n",
    "            answer += 1\n",
    "    \n",
    "    if len(lost) == 0 :\n",
    "        return answer\n",
    "    \n",
    "    for i in lost.copy() :\n",
    "        if i - 1 in reserve and i + 1 in reserve :\n",
    "            continue\n",
    "        elif i - 1 in reserve :\n",
    "            lost.remove(i)\n",
    "            del reserve[reserve.index(i - 1)]\n",
    "            answer += 1\n",
    "        elif i + 1 in reserve :\n",
    "            lost.remove(i)\n",
    "            del reserve[reserve.index(i + 1)]\n",
    "            answer += 1\n",
    "        \n",
    "    for i in lost.copy() :\n",
    "        if i - 1 in reserve :\n",
    "            lost.remove(i)\n",
    "            del reserve[reserve.index(i - 1)]\n",
    "            answer += 1\n",
    "        elif i + 1 in reserve :\n",
    "            lost.remove(i)\n",
    "            del reserve[reserve.index(i + 1)]\n",
    "            answer += 1\n",
    "            \n",
    "    return answer"
   ]
  },
  {
   "cell_type": "code",
   "execution_count": 4,
   "metadata": {},
   "outputs": [
    {
     "data": {
      "text/plain": [
       "5"
      ]
     },
     "execution_count": 4,
     "metadata": {},
     "output_type": "execute_result"
    }
   ],
   "source": [
    "solution(5, [2, 4], [1, 3, 5])"
   ]
  }
 ],
 "metadata": {
  "kernelspec": {
   "display_name": "Python 3 (ipykernel)",
   "language": "python",
   "name": "python3"
  },
  "language_info": {
   "codemirror_mode": {
    "name": "ipython",
    "version": 3
   },
   "file_extension": ".py",
   "mimetype": "text/x-python",
   "name": "python",
   "nbconvert_exporter": "python",
   "pygments_lexer": "ipython3",
   "version": "3.8.15"
  }
 },
 "nbformat": 4,
 "nbformat_minor": 4
}
