{
 "cells": [
  {
   "cell_type": "markdown",
   "metadata": {},
   "source": [
    "## array의 각 element 중 divisor로 나누어 떨어지는 값을 오름차순으로 정렬한 배열을 반환하는 함수, solution을 작성해주세요.\n",
    "* divisor로 나누어 떨어지는 element가 하나도 없다면 배열에 -1을 담아 반환하세요."
   ]
  },
  {
   "cell_type": "code",
   "execution_count": 10,
   "metadata": {},
   "outputs": [],
   "source": [
    "def solution(arr, divisor):\n",
    "    \n",
    "    # 입력 배열을 정렬\n",
    "    arr.sort()\n",
    "    \n",
    "    # arr 배열 안에 divisor 로 나누워 떨어지는 변수만 추출하여 배열로 저장\n",
    "    answer = [x for x in arr if x % divisor == 0]\n",
    "    \n",
    "    # answer 배열 안에 element가 하나도 없다면\n",
    "    if len(answer) == 0:\n",
    "        answer.append(-1)\n",
    "    \n",
    "    return answer"
   ]
  },
  {
   "cell_type": "code",
   "execution_count": 12,
   "metadata": {},
   "outputs": [
    {
     "name": "stdout",
     "output_type": "stream",
     "text": [
      "[1, 5, 7, 10, 14]\n"
     ]
    },
    {
     "data": {
      "text/plain": [
       "[5, 10]"
      ]
     },
     "execution_count": 12,
     "metadata": {},
     "output_type": "execute_result"
    }
   ],
   "source": [
    "solution([1,5,10,14,7],5)"
   ]
  }
 ],
 "metadata": {
  "kernelspec": {
   "display_name": "Python 3",
   "language": "python",
   "name": "python3"
  },
  "language_info": {
   "codemirror_mode": {
    "name": "ipython",
    "version": 3
   },
   "file_extension": ".py",
   "mimetype": "text/x-python",
   "name": "python",
   "nbconvert_exporter": "python",
   "pygments_lexer": "ipython3",
   "version": "3.8.5"
  }
 },
 "nbformat": 4,
 "nbformat_minor": 4
}
