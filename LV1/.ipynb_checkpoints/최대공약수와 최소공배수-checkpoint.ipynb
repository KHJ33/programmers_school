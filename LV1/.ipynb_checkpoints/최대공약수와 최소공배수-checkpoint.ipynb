{
 "cells": [
  {
   "cell_type": "markdown",
   "metadata": {},
   "source": [
    "## 두 수를 입력받아 두 수의 최대공약수와 최소공배수를 반환하는 함수, solution을 완성해 보세요. \n",
    "* 배열의 맨 앞에 최대공약수, 그다음 최소공배수를 넣어 반환하면 됩니다. \n",
    "* 예를 들어 두 수 3, 12의 최대공약수는 3, 최소공배수는 12이므로 solution(3, 12)는 [3, 12]를 반환해야 합니다."
   ]
  },
  {
   "cell_type": "code",
   "execution_count": 21,
   "metadata": {},
   "outputs": [],
   "source": [
    "def solution(n, m):\n",
    "    answer = 1\n",
    "    \n",
    "    temp_n = n # 후에 최소공배수를 계산하기 위해, 임시 변수에 저장\n",
    "    temp_m = m\n",
    "    \n",
    "    # 입력 받은 수 n, m 에서 작은 값이 n 에 오도록 설정\n",
    "    if temp_n > temp_m :\n",
    "        temp_n, temp_m = m, n\n",
    "    \n",
    "    while True :\n",
    "        # 두 수를 나눌수 있는 값 x 를 배열에 저장한다. 이때 x 는 입력값 n, m 중 작은 값보다 커질수 없다\n",
    "        # n 과 m 을 동시에 나눌수 있는 x 를 n , n-1 , n-2 .. 순으로 찾는다\n",
    "        for x in range(temp_n, 0, -1):\n",
    "            # x 가 n 과 m 을 동시에 나눌수 있다면 x 는 공약수 이다\n",
    "            if (temp_n % x == 0) & (temp_m % x == 0) :\n",
    "                answer *= x\n",
    "                temp_n = temp_n // x # n 을 x 로 나눈 몫을 갖고 온다(나머지 없음)\n",
    "                temp_m = temp_m // x\n",
    "                break\n",
    "                \n",
    "        if x == 1 : ## 마지막 값이 1 일 경우 종료\n",
    "            break\n",
    "    \n",
    "    return [answer, answer * (n//answer) * (m//answer)]"
   ]
  },
  {
   "cell_type": "code",
   "execution_count": 23,
   "metadata": {},
   "outputs": [
    {
     "data": {
      "text/plain": [
       "[1, 10]"
      ]
     },
     "execution_count": 23,
     "metadata": {},
     "output_type": "execute_result"
    }
   ],
   "source": [
    "solution(2,5)"
   ]
  }
 ],
 "metadata": {
  "kernelspec": {
   "display_name": "Python 3",
   "language": "python",
   "name": "python3"
  },
  "language_info": {
   "codemirror_mode": {
    "name": "ipython",
    "version": 3
   },
   "file_extension": ".py",
   "mimetype": "text/x-python",
   "name": "python",
   "nbconvert_exporter": "python",
   "pygments_lexer": "ipython3",
   "version": "3.8.5"
  }
 },
 "nbformat": 4,
 "nbformat_minor": 4
}
