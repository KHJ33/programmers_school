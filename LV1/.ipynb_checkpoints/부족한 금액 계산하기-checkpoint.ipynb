{
 "cells": [
  {
   "cell_type": "markdown",
   "metadata": {},
   "source": [
    "새로 생긴 놀이기구는 인기가 매우 많아 줄이 끊이질 않습니다. \n",
    "## 놀이기구의 원래 이용료는 price원 인데, 놀이기구를 N 번 째 이용한다면 원래 이용료의 N배를 받는다.\n",
    "* 즉, 처음 이용료가 100이었다면 2번째에는 200, 3번째에는 300으로 요금이 인상됩니다.\n",
    "* 놀이기구를 count번 타게 되면 현재 자신이 가지고 있는 금액에서 얼마가 모자라는지를 return 하도록 solution 함수를 완성하세요.\n",
    "* 단, 금액이 부족하지 않으면 0을 return 하세요."
   ]
  },
  {
   "cell_type": "code",
   "execution_count": 1,
   "metadata": {},
   "outputs": [],
   "source": [
    "def solution(price, money, count):\n",
    "    \n",
    "    # 금액 증가량을 배열에 추가 하고, sum 함수를 사용하여 놀이기구 총 이용료를 계산\n",
    "    total_price = sum([price * (x + 1) for x in range(count)])\n",
    "\n",
    "    # 보유 금액이 많다면 0 을 리턴\n",
    "    if money > total_price :\n",
    "        return 0\n",
    "    # 보유 금액이 적다면 부족한 금액을 리턴\n",
    "    else :\n",
    "        return total_price - money"
   ]
  },
  {
   "cell_type": "code",
   "execution_count": 2,
   "metadata": {},
   "outputs": [
    {
     "data": {
      "text/plain": [
       "10"
      ]
     },
     "execution_count": 2,
     "metadata": {},
     "output_type": "execute_result"
    }
   ],
   "source": [
    "solution(3,20,4)"
   ]
  }
 ],
 "metadata": {
  "kernelspec": {
   "display_name": "Python 3",
   "language": "python",
   "name": "python3"
  },
  "language_info": {
   "codemirror_mode": {
    "name": "ipython",
    "version": 3
   },
   "file_extension": ".py",
   "mimetype": "text/x-python",
   "name": "python",
   "nbconvert_exporter": "python",
   "pygments_lexer": "ipython3",
   "version": "3.8.5"
  }
 },
 "nbformat": 4,
 "nbformat_minor": 4
}
