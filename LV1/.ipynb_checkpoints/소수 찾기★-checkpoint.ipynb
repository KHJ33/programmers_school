{
 "cells": [
  {
   "cell_type": "markdown",
   "metadata": {},
   "source": [
    "## 1부터 입력받은 숫자 n 사이에 있는 소수의 개수를 반환하는 함수, solution을 만들어 보세요."
   ]
  },
  {
   "cell_type": "code",
   "execution_count": null,
   "metadata": {},
   "outputs": [],
   "source": [
    "def check(num) :\n",
    "    for i in range(2, (num // 2) + 1) :\n",
    "        if num % i == 0 :\n",
    "            return False\n",
    "    return True\n",
    "\n",
    "def solution(n):\n",
    "    return len([x for x in range(2, n+1) if check(x)])"
   ]
  },
  {
   "cell_type": "code",
   "execution_count": 11,
   "metadata": {},
   "outputs": [],
   "source": [
    "def solution(n):\n",
    "    \n",
    "    answer = [2]\n",
    "    \n",
    "    for i in range(3, n + 1) :\n",
    "        count = 0\n",
    "        for j in answer:\n",
    "            if i % j == 0 :\n",
    "                count += 1\n",
    "                break\n",
    "        if count == 0 :\n",
    "            answer.append(i)\n",
    "    \n",
    "    return len(answer)"
   ]
  },
  {
   "cell_type": "code",
   "execution_count": null,
   "metadata": {},
   "outputs": [],
   "source": [
    "def solution(n):\n",
    "    \n",
    "    answer = [2]\n",
    "    \n",
    "    for i in range(3, n + 1) :\n",
    "        count = 0\n",
    "        for j in answer:\n",
    "            if i % j == 0 :\n",
    "                count += 1\n",
    "                break\n",
    "        if count == 0 :\n",
    "            answer.append(i)\n",
    "    \n",
    "    return len(answer)"
   ]
  },
  {
   "cell_type": "code",
   "execution_count": 10,
   "metadata": {},
   "outputs": [],
   "source": [
    "def solution(n):\n",
    "    \n",
    "    answer = [2]\n",
    "    \n",
    "    for i in range(3, n + 1) :\n",
    "        count = 0\n",
    "\n",
    "        for j in answer:\n",
    "            if int(i ** 0.5) < j :\n",
    "                break\n",
    "                \n",
    "            if i % j == 0 :\n",
    "                count += 1\n",
    "                break\n",
    "                \n",
    "        if count == 0 :\n",
    "            answer.append(i)\n",
    "    \n",
    "    return len(answer)"
   ]
  },
  {
   "cell_type": "code",
   "execution_count": 16,
   "metadata": {
    "scrolled": false
   },
   "outputs": [
    {
     "name": "stdout",
     "output_type": "stream",
     "text": [
      "{2, 3, 4, 5, 6, 7, 8, 9, 10}\n",
      "{2, 3, 5, 7, 9}\n",
      "{2, 3, 5, 7}\n",
      "{2, 3, 5, 7}\n",
      "{2, 3, 5, 7}\n"
     ]
    },
    {
     "data": {
      "text/plain": [
       "4"
      ]
     },
     "execution_count": 16,
     "metadata": {},
     "output_type": "execute_result"
    }
   ],
   "source": [
    "solution(10)"
   ]
  },
  {
   "cell_type": "code",
   "execution_count": 15,
   "metadata": {},
   "outputs": [],
   "source": [
    "def solution(n):\n",
    "    num=set(range(2,n+1))\n",
    "    \n",
    "    print(num)\n",
    "    \n",
    "    for i in range(2,n+1):\n",
    "        if i in num:\n",
    "            num-=set(range(2*i,n+1,i))\n",
    "            print(num)\n",
    "    return len(num)"
   ]
  }
 ],
 "metadata": {
  "kernelspec": {
   "display_name": "Python 3",
   "language": "python",
   "name": "python3"
  },
  "language_info": {
   "codemirror_mode": {
    "name": "ipython",
    "version": 3
   },
   "file_extension": ".py",
   "mimetype": "text/x-python",
   "name": "python",
   "nbconvert_exporter": "python",
   "pygments_lexer": "ipython3",
   "version": "3.8.5"
  }
 },
 "nbformat": 4,
 "nbformat_minor": 4
}
