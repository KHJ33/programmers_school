{
 "cells": [
  {
   "cell_type": "code",
   "execution_count": 40,
   "metadata": {},
   "outputs": [],
   "source": [
    "def solution(n):\n",
    "    answer = 0\n",
    "    \n",
    "    temp = []\n",
    "    \n",
    "    # 약수는 짝을 이루기에 입력 수의 반까지만 for 문을 반복 \n",
    "    for num in range(1, n//2+1) :\n",
    "        # 입력수가 나누워 진다면 약수\n",
    "        if n % num == 0 :\n",
    "            # 나눈 수랑 짝을 이루어서 저장\n",
    "            print(num, n//num)\n",
    "            temp.append(num)\n",
    "            temp.append(n//num)\n",
    "    \n",
    "    # 중복 제거를 위한 set 함수 사용\n",
    "    print(set(temp))\n",
    "    answer = sum(set(temp))\n",
    "    return answer"
   ]
  },
  {
   "cell_type": "code",
   "execution_count": 42,
   "metadata": {},
   "outputs": [
    {
     "name": "stdout",
     "output_type": "stream",
     "text": [
      "1 10\n",
      "2 5\n",
      "5 2\n",
      "{1, 10, 2, 5}\n"
     ]
    },
    {
     "data": {
      "text/plain": [
       "18"
      ]
     },
     "execution_count": 42,
     "metadata": {},
     "output_type": "execute_result"
    }
   ],
   "source": [
    "solution(10)"
   ]
  }
 ],
 "metadata": {
  "kernelspec": {
   "display_name": "Python 3",
   "language": "python",
   "name": "python3"
  },
  "language_info": {
   "codemirror_mode": {
    "name": "ipython",
    "version": 3
   },
   "file_extension": ".py",
   "mimetype": "text/x-python",
   "name": "python",
   "nbconvert_exporter": "python",
   "pygments_lexer": "ipython3",
   "version": "3.8.5"
  }
 },
 "nbformat": 4,
 "nbformat_minor": 4
}
