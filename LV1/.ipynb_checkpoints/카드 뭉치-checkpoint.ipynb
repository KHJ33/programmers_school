{
 "cells": [
  {
   "cell_type": "markdown",
   "id": "6cb28409",
   "metadata": {},
   "source": [
    "코니는 영어 단어가 적힌 카드 뭉치 두 개를 선물로 받았습니다. 코니는 다음과 같은 규칙으로 카드에 적힌 단어들을 사용해 원하는 순서의 단어 배열을 만들 수 있는지 알고 싶습니다.\n",
    "\n",
    "* 원하는 카드 뭉치에서 카드를 순서대로 한 장씩 사용합니다.\n",
    "* 한 번 사용한 카드는 다시 사용할 수 없습니다.\n",
    "* 카드를 사용하지 않고 다음 카드로 넘어갈 수 없습니다.\n",
    "* 기존에 주어진 카드 뭉치의 단어 순서는 바꿀 수 없습니다.\n",
    "\n",
    "  \n",
    "예를 들어 첫 번째 카드 뭉치에 순서대로 [\"i\", \"drink\", \"water\"], 두 번째 카드 뭉치에 순서대로 [\"want\", \"to\"]가 적혀있을 때 [\"i\", \"want\", \"to\", \"drink\", \"water\"] 순서의 단어 배열을 만들려고 한다면 첫 번째 카드 뭉치에서 \"i\"를 사용한 후 두 번째 카드 뭉치에서 \"want\"와 \"to\"를 사용하고 첫 번째 카드뭉치에 \"drink\"와 \"water\"를 차례대로 사용하면 원하는 순서의 단어 배열을 만들 수 있습니다.\n",
    "\n",
    "문자열로 이루어진 배열 cards1, cards2와 원하는 단어 배열 goal이 매개변수로 주어질 때, cards1과 cards2에 적힌 단어들로 goal를 만들 있다면 \"Yes\"를, 만들 수 없다면 \"No\"를 return하는 solution 함수를 완성해주세요."
   ]
  },
  {
   "cell_type": "markdown",
   "id": "f3962400",
   "metadata": {},
   "source": [
    "## Case 1 실패"
   ]
  },
  {
   "cell_type": "code",
   "execution_count": 26,
   "id": "14b14722",
   "metadata": {},
   "outputs": [],
   "source": [
    "def solution(cards1, cards2, goal):\n",
    "    \n",
    "    while goal :\n",
    "        if len(cards1) != 0 and goal[-1] == cards1[-1] :\n",
    "            cards1.pop()\n",
    "        elif len(cards2) != 0 and goal[-1] == cards2[-1] :\n",
    "            cards2.pop()\n",
    "        else :\n",
    "            return \"No\"\n",
    "        goal.pop()\n",
    "    \n",
    "    return \"Yes\""
   ]
  },
  {
   "cell_type": "markdown",
   "id": "0370eb46",
   "metadata": {},
   "source": [
    "## Case 2\n",
    "goal 에 없는 단어를 cards1 과 cards2 가 가지고 있을 경우를 고려"
   ]
  },
  {
   "cell_type": "code",
   "execution_count": 33,
   "id": "5d67d359",
   "metadata": {},
   "outputs": [],
   "source": [
    "def solution(cards1, cards2, goal):\n",
    "    index1, index2 = len(cards1) , len(cards2)\n",
    "    \n",
    "    while goal :\n",
    "            ward = goal.pop()\n",
    "            if ward in cards1 :\n",
    "                i = cards1.index(ward)\n",
    "                if index1 > i :\n",
    "                    index1 = i\n",
    "                else :\n",
    "                    return \"No\"\n",
    "                \n",
    "            elif ward in cards2 :\n",
    "                i = cards2.index(ward)\n",
    "                if index2 > i :\n",
    "                    index2 = i\n",
    "                else :\n",
    "                    return \"No\"\n",
    "            else :\n",
    "                return \"No\"\n",
    "    \n",
    "    return \"Yes\""
   ]
  },
  {
   "cell_type": "markdown",
   "id": "d98dbe79",
   "metadata": {},
   "source": [
    "## Case 3\n",
    "goal 에 없는 단어를 cards1 과 cards2 가 가지고 있을 경우를 고려"
   ]
  },
  {
   "cell_type": "code",
   "execution_count": 39,
   "id": "8936cd3d",
   "metadata": {},
   "outputs": [],
   "source": [
    "def solution(cards1, cards2, goal):\n",
    "    for g in goal :\n",
    "        if g in cards1 :\n",
    "            cards1 = cards1[cards1.index(g) : ]\n",
    "        elif g in cards2 :\n",
    "            cards2 = cards2[cards2.index(g) : ]\n",
    "        elif g not in cards1 and g not in cards2 :\n",
    "            return \"No\"\n",
    "    \n",
    "    return \"Yes\""
   ]
  },
  {
   "cell_type": "code",
   "execution_count": 40,
   "id": "6be00e8a",
   "metadata": {},
   "outputs": [
    {
     "data": {
      "text/plain": [
       "'No'"
      ]
     },
     "execution_count": 40,
     "metadata": {},
     "output_type": "execute_result"
    }
   ],
   "source": [
    "solution([\"i\", \"water\", \"drink\"], [\"want\", \"to\"], [\"i\", \"want\", \"to\", \"drink\", \"water\"])"
   ]
  },
  {
   "cell_type": "code",
   "execution_count": 41,
   "id": "f51ef9b2",
   "metadata": {},
   "outputs": [
    {
     "data": {
      "text/plain": [
       "'Yes'"
      ]
     },
     "execution_count": 41,
     "metadata": {},
     "output_type": "execute_result"
    }
   ],
   "source": [
    "solution(['a', 'b', 'c'], ['d', 'e'], ['b','c','d','e'])"
   ]
  }
 ],
 "metadata": {
  "kernelspec": {
   "display_name": "Python 3 (ipykernel)",
   "language": "python",
   "name": "python3"
  },
  "language_info": {
   "codemirror_mode": {
    "name": "ipython",
    "version": 3
   },
   "file_extension": ".py",
   "mimetype": "text/x-python",
   "name": "python",
   "nbconvert_exporter": "python",
   "pygments_lexer": "ipython3",
   "version": "3.8.15"
  }
 },
 "nbformat": 4,
 "nbformat_minor": 5
}
