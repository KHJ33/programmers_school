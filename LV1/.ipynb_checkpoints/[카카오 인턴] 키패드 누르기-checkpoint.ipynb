{
 "cells": [
  {
   "cell_type": "markdown",
   "metadata": {},
   "source": [
    "이 전화 키패드에서 왼손과 오른손의 엄지손가락만을 이용해서 숫자만을 입력하려고 합니다.\n",
    "맨 처음 왼손 엄지손가락은 * 키패드에 오른손 엄지손가락은 # 키패드 위치에서 시작하며, 엄지손가락을 사용하는 규칙은 다음과 같습니다.\n",
    "\n",
    "1. 엄지손가락은 상하좌우 4가지 방향으로만 이동할 수 있으며 키패드 이동 한 칸은 거리로 1에 해당합니다.\n",
    "2. 왼쪽 열의 3개의 숫자 1, 4, 7을 입력할 때는 왼손 엄지손가락을 사용합니다.\n",
    "3. 오른쪽 열의 3개의 숫자 3, 6, 9를 입력할 때는 오른손 엄지손가락을 사용합니다.\n",
    "4. 가운데 열의 4개의 숫자 2, 5, 8, 0을 입력할 때는 두 엄지손가락의 현재 키패드의 위치에서 더 가까운 엄지손가락을 사용합니다.\n",
    "5. 만약 두 엄지손가락의 거리가 같다면, 오른손잡이는 오른손 엄지손가락, 왼손잡이는 왼손 엄지손가락을 사용합니다.\n",
    "\n",
    "## 순서대로 누를 번호가 담긴 배열 numbers, 왼손잡이인지 오른손잡이인 지를 나타내는 문자열 hand가 매개변수로 주어질 때, 각 번호를 누른 엄지손가락이 왼손인 지 오른손인 지를 나타내는 연속된 문자열 형태로 return 하도록 solution 함수를 완성해주세요."
   ]
  },
  {
   "cell_type": "code",
   "execution_count": 13,
   "metadata": {},
   "outputs": [],
   "source": [
    "import numpy as np\n",
    "def solution(numbers, hand):\n",
    "    answer = ''\n",
    "    numbers = list(map(str, numbers))\n",
    "    \n",
    "    phone = np.array([['1','2','3'],['4','5','6'],['7','8','9'],['*','0','#']])\n",
    "    left, right = '*', '#'\n",
    "        \n",
    "    for c in numbers :\n",
    "        if c in ['1','4','7'] :\n",
    "            answer += 'L'\n",
    "            left = c\n",
    "        elif c in ['3','6','9'] :\n",
    "            answer += 'R'\n",
    "            right = c\n",
    "        else :\n",
    "            click_point = np.where(phone==c)\n",
    "            click_point = [int(click_point[0][0]), int(click_point[1][0])]\n",
    "            \n",
    "            left_point = np.where(phone==left)\n",
    "            left_point = [int(left_point[0][0]), int(left_point[1][0])]\n",
    "            \n",
    "            right_point = np.where(phone==right)\n",
    "            right_point = [int(right_point[0][0]), int(right_point[1][0])]\n",
    "            \n",
    "            left_to_click_point = abs(click_point[0] - left_point[0]) + abs(click_point[1] - left_point[1])\n",
    "            right_to_click_point = abs(click_point[0] - right_point[0]) + abs(click_point[1] - right_point[1])\n",
    "            \n",
    "            if left_to_click_point == right_to_click_point :\n",
    "                if hand == 'right' :\n",
    "                    answer += 'R'\n",
    "                    right = c\n",
    "                else :\n",
    "                    answer += 'L'\n",
    "                    left = c\n",
    "            \n",
    "            elif left_to_click_point < right_to_click_point :\n",
    "                answer += 'L'\n",
    "                left = c\n",
    "            \n",
    "            else :\n",
    "                answer += 'R'\n",
    "                right = c\n",
    "\n",
    "    return answer"
   ]
  },
  {
   "cell_type": "code",
   "execution_count": 14,
   "metadata": {},
   "outputs": [
    {
     "data": {
      "text/plain": [
       "'LRLLLRLLRRL'"
      ]
     },
     "execution_count": 14,
     "metadata": {},
     "output_type": "execute_result"
    }
   ],
   "source": [
    "solution([1, 3, 4, 5, 8, 2, 1, 4, 5, 9, 5],\"right\")"
   ]
  }
 ],
 "metadata": {
  "kernelspec": {
   "display_name": "Python 3",
   "language": "python",
   "name": "python3"
  },
  "language_info": {
   "codemirror_mode": {
    "name": "ipython",
    "version": 3
   },
   "file_extension": ".py",
   "mimetype": "text/x-python",
   "name": "python",
   "nbconvert_exporter": "python",
   "pygments_lexer": "ipython3",
   "version": "3.8.5"
  }
 },
 "nbformat": 4,
 "nbformat_minor": 4
}
