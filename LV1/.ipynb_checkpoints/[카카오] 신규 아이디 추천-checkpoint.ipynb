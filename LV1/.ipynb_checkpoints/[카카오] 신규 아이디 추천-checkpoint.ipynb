{
 "cells": [
  {
   "cell_type": "markdown",
   "metadata": {},
   "source": [
    "### 새로 가입하는 유저들이 카카오 아이디 규칙에 맞지 않는 아이디를 입력했을 때, 입력된 아이디와 유사하면서 규칙에 맞는 아이디를 추천해주는 프로그램을 개발하는 것입니다.\n",
    "\n",
    "1. 아이디의 길이는 3자 이상 15자 이하여야 합니다.\n",
    "  \n",
    "  \n",
    "2. 아이디는 알파벳 소문자, 숫자, 빼기(-), 밑줄(_), 마침표(.) 문자만 사용할 수 있습니다.\n",
    "  \n",
    "  \n",
    "3. 단, 마침표(.)는 처음과 끝에 사용할 수 없으며 또한 연속으로 사용할 수 없습니다.\n"
   ]
  },
  {
   "cell_type": "code",
   "execution_count": 59,
   "metadata": {},
   "outputs": [],
   "source": [
    "import re\n",
    "def solution(new_id):    \n",
    "    answer = '.'\n",
    "    \n",
    "    for i in re.sub('[^a-z0-9.\\-_]','',new_id.lower()) :\n",
    "        if i != '.' :\n",
    "            answer += i\n",
    "        else :\n",
    "            if answer[-1] != '.' :\n",
    "                answer += '.'\n",
    "                \n",
    "    if answer == '.' :\n",
    "        answer = 'a'\n",
    "    else :\n",
    "        answer = answer[1:]\n",
    "        if len(answer) >= 16 :\n",
    "            answer = answer[:15]\n",
    "        if answer[-1] == '.' :\n",
    "            answer = answer[:-1]\n",
    "        \n",
    "    if len(answer) <= 2 :\n",
    "        answer += (answer[-1] * (3 - len(answer)))\n",
    "    \n",
    "    return answer"
   ]
  },
  {
   "cell_type": "code",
   "execution_count": 60,
   "metadata": {},
   "outputs": [
    {
     "data": {
      "text/plain": [
       "'bat.y.abcdefghi'"
      ]
     },
     "execution_count": 60,
     "metadata": {},
     "output_type": "execute_result"
    }
   ],
   "source": [
    "solution(\"...!@BaT#*..y.abcdefghijklm\")"
   ]
  },
  {
   "cell_type": "code",
   "execution_count": 61,
   "metadata": {},
   "outputs": [
    {
     "data": {
      "text/plain": [
       "'aaa'"
      ]
     },
     "execution_count": 61,
     "metadata": {},
     "output_type": "execute_result"
    }
   ],
   "source": [
    "solution(\"...\")"
   ]
  }
 ],
 "metadata": {
  "kernelspec": {
   "display_name": "Python 3",
   "language": "python",
   "name": "python3"
  },
  "language_info": {
   "codemirror_mode": {
    "name": "ipython",
    "version": 3
   },
   "file_extension": ".py",
   "mimetype": "text/x-python",
   "name": "python",
   "nbconvert_exporter": "python",
   "pygments_lexer": "ipython3",
   "version": "3.8.5"
  }
 },
 "nbformat": 4,
 "nbformat_minor": 4
}
