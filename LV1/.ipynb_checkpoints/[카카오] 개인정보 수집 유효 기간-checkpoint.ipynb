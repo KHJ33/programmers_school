{
 "cells": [
  {
   "cell_type": "markdown",
   "id": "4146d1ab",
   "metadata": {},
   "source": [
    "A라는 약관의 유효기간이 12 달이고, 2021년 1월 5일에 수집된 개인정보가 A약관으로 수집되었다면 \n",
    "  \n",
    "  해당 개인정보는 2022년 1월 4일까지 보관 가능하며 2022년 1월 5일부터 파기해야 할 개인정보입니다.\n",
    "\n",
    "당신은 오늘 날짜로 파기해야 할 개인정보 번호들을 구하려 합니다."
   ]
  },
  {
   "cell_type": "code",
   "execution_count": 68,
   "id": "083fa113",
   "metadata": {},
   "outputs": [],
   "source": [
    "import pandas as pd\n",
    "def solution(today, terms, privacies):\n",
    "    answer = []\n",
    "    \n",
    "    term_graph = pd.DataFrame([0] * (ord('Z') - ord('A') + 1))\n",
    "    term_graph.index = [chr(x) for x in range(ord('A'), ord('Z') + 1)]\n",
    "    \n",
    "    for i in terms :\n",
    "        index, value = i.split()\n",
    "        term_graph.loc[index] = int(value)\n",
    "        \n",
    "#     print(term_graph)\n",
    "    \n",
    "    for i, _ in enumerate(privacies) :\n",
    "        date, index = _.split()\n",
    "        year, month, day = map(int, date.split('.'))\n",
    "        \n",
    "        month = month + term_graph.loc[index, 0]\n",
    "        \n",
    "        year, month = str(year + (month - 1) // 12) , (month - 1) % 12 + 1\n",
    "        month = str(month) if month >= 10 else '0' + str(month)\n",
    "        day = str(day) if day >= 10 else '0' + str(day)\n",
    "        \n",
    "        date = '.'.join([year, month, day])\n",
    "        \n",
    "        if today >= date :\n",
    "            answer.append(i + 1)\n",
    "        \n",
    "    return answer"
   ]
  },
  {
   "cell_type": "code",
   "execution_count": 69,
   "id": "a644187c",
   "metadata": {},
   "outputs": [
    {
     "data": {
      "text/plain": [
       "[1, 3]"
      ]
     },
     "execution_count": 69,
     "metadata": {},
     "output_type": "execute_result"
    }
   ],
   "source": [
    "solution(\"2022.05.19\", [\"A 6\", \"B 12\", \"C 3\"], [\"2021.05.02 A\", \"2021.07.01 B\", \"2022.02.19 C\", \"2022.02.20 C\"])"
   ]
  }
 ],
 "metadata": {
  "kernelspec": {
   "display_name": "Python 3 (ipykernel)",
   "language": "python",
   "name": "python3"
  },
  "language_info": {
   "codemirror_mode": {
    "name": "ipython",
    "version": 3
   },
   "file_extension": ".py",
   "mimetype": "text/x-python",
   "name": "python",
   "nbconvert_exporter": "python",
   "pygments_lexer": "ipython3",
   "version": "3.8.15"
  }
 },
 "nbformat": 4,
 "nbformat_minor": 5
}
