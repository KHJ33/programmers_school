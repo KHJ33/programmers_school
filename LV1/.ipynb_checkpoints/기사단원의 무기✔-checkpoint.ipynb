{
 "cells": [
  {
   "cell_type": "markdown",
   "id": "18d26f04",
   "metadata": {},
   "source": [
    "15번으로 지정된 기사단원은 15의 약수가 1, 3, 5, 15로 4개 이므로, 공격력이 4인 무기를 구매합니다. 만약, 이웃나라와의 협약으로 정해진 공격력의 제한수치가 3이고 제한수치를 초과한 기사가 사용할 무기의 공격력이 2라면, 15번으로 지정된 기사단원은 무기점에서 공격력이 2인 무기를 구매합니다. \n",
    "\n",
    "### 기사단원의 수를 나타내는 정수 number와 이웃나라와 협약으로 정해진 공격력의 제한수치를 나타내는 정수 limit와 제한수치를 초과한 기사가 사용할 무기의 공격력을 나타내는 정수 power가 주어졌을 때, 무기점의 주인이 무기를 모두 만들기 위해 필요한 철의 무게를 return 하는 solution 함수를 완성하시오."
   ]
  },
  {
   "cell_type": "code",
   "execution_count": 19,
   "id": "78665de8",
   "metadata": {},
   "outputs": [],
   "source": [
    "def solution(number, limit, power):\n",
    "    answer = 0\n",
    "    \n",
    "    n_list = []\n",
    "    for _ in range(1, number + 1) :\n",
    "        count = 0\n",
    "        for i in range(1, int(_**(1/2)) + 1): \n",
    "            if (_ % i == 0):            \n",
    "                count += 1\n",
    "                \n",
    "                if (i != (_ // i)): \n",
    "                    count += 1\n",
    "                \n",
    "        n_list.append(count)\n",
    "        \n",
    "    print(n_list)\n",
    "    \n",
    "    for _ in n_list :\n",
    "        if _ <= limit :\n",
    "            answer += _\n",
    "        else :\n",
    "            answer += power\n",
    "    \n",
    "    return answer"
   ]
  },
  {
   "cell_type": "code",
   "execution_count": 20,
   "id": "4f9c3528",
   "metadata": {},
   "outputs": [
    {
     "name": "stdout",
     "output_type": "stream",
     "text": [
      "[1, 2, 2, 3, 2]\n"
     ]
    },
    {
     "data": {
      "text/plain": [
       "10"
      ]
     },
     "execution_count": 20,
     "metadata": {},
     "output_type": "execute_result"
    }
   ],
   "source": [
    "solution(5, 3, 2)"
   ]
  }
 ],
 "metadata": {
  "kernelspec": {
   "display_name": "Python 3 (ipykernel)",
   "language": "python",
   "name": "python3"
  },
  "language_info": {
   "codemirror_mode": {
    "name": "ipython",
    "version": 3
   },
   "file_extension": ".py",
   "mimetype": "text/x-python",
   "name": "python",
   "nbconvert_exporter": "python",
   "pygments_lexer": "ipython3",
   "version": "3.8.15"
  }
 },
 "nbformat": 4,
 "nbformat_minor": 5
}
