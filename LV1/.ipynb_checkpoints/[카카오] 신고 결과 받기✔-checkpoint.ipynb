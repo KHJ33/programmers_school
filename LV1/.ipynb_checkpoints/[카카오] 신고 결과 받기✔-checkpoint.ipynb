{
 "cells": [
  {
   "cell_type": "markdown",
   "metadata": {},
   "source": [
    "신입사원 무지는 게시판 불량 이용자를 신고하고 처리 결과를 메일로 발송하는 시스템을 개발하려 합니다. 무지가 개발하려는 시스템은 다음과 같습니다.\n",
    "\n",
    "1. 각 유저는 한 번에 한 명의 유저를 신고할 수 있습니다.\n",
    "  \n",
    "  \n",
    "2. 신고 횟수에 제한은 없습니다. 서로 다른 유저를 계속해서 신고할 수 있습니다.\n",
    "  \n",
    "  \n",
    "3. 한 유저를 여러 번 신고할 수도 있지만, 동일한 유저에 대한 신고 횟수는 1회로 처리됩니다.\n",
    "  \n",
    "  \n",
    "4. k번 이상 신고된 유저는 게시판 이용이 정지되며, 해당 유저를 신고한 모든 유저에게 정지 사실을 메일로 발송합니다.\n",
    "  \n",
    "  \n",
    "5. 유저가 신고한 모든 내용을 취합하여 마지막에 한꺼번에 게시판 이용 정지를 시키면서 정지 메일을 발송합니다."
   ]
  },
  {
   "cell_type": "code",
   "execution_count": 67,
   "metadata": {},
   "outputs": [],
   "source": [
    "# time error\n",
    "def solution(id_list, report, k):\n",
    "    answer = {i : 0 for i in id_list}\n",
    "    \n",
    "    dic = {}\n",
    "    count = []\n",
    "        \n",
    "    for r in report :\n",
    "        \n",
    "        user, error = r.split(' ')\n",
    "        \n",
    "        if user in dic :\n",
    "            if error not in dic[user] :\n",
    "                dic[user].append(error)\n",
    "                count.append(error)\n",
    "        else :\n",
    "            dic[user] = [error]\n",
    "            count.append(error)\n",
    "            \n",
    "        \n",
    "    print(dic)\n",
    "    print(count)\n",
    "    \n",
    "    for key, value in dic.items() :\n",
    "        for c in value :\n",
    "            if count.count(c) >= k :\n",
    "                answer[key] += 1\n",
    "    \n",
    "    print(answer)\n",
    "    \n",
    "    print(answer.values())\n",
    "    \n",
    "    return list(answer.values())"
   ]
  },
  {
   "cell_type": "markdown",
   "metadata": {},
   "source": [
    "### time error 수정"
   ]
  },
  {
   "cell_type": "code",
   "execution_count": 83,
   "metadata": {},
   "outputs": [],
   "source": [
    "\n",
    "def solution(id_list, report, k):\n",
    "    answer = {i : 0 for i in id_list}\n",
    "    \n",
    "    dic = {}\n",
    "    stop_list = []\n",
    "            \n",
    "    for r in set(report) :\n",
    "        \n",
    "        user, error = r.split(' ')\n",
    "        \n",
    "        if user in dic :\n",
    "            dic[user].append(error)\n",
    "        else :\n",
    "            dic[user] = [error]\n",
    "            \n",
    "        stop_list.append(error)\n",
    "            \n",
    "    print(dic)\n",
    "    \n",
    "    print(stop_list)\n",
    "    \n",
    "    stop = [x for x in set(stop_list) if stop_list.count(x) >= k]\n",
    "    \n",
    "    print('stop:',stop)\n",
    "    \n",
    "    print(answer)\n",
    "    \n",
    "    if len(stop) == 0 :\n",
    "        return list(answer.values())\n",
    "    \n",
    "    else :\n",
    "        for key in answer :\n",
    "            if key in dic :\n",
    "                for check in stop :\n",
    "                    if check in dic[key] :\n",
    "                        answer[key] += 1\n",
    "    \n",
    "    \n",
    "    return list(answer.values())"
   ]
  },
  {
   "cell_type": "code",
   "execution_count": 84,
   "metadata": {
    "scrolled": true
   },
   "outputs": [
    {
     "name": "stdout",
     "output_type": "stream",
     "text": [
      "{'apeach': ['l', 'frodo', 'muzi'], 'muzi': ['frodo', 'neo'], 'frodo': ['neo']}\n",
      "['l', 'frodo', 'frodo', 'muzi', 'neo', 'neo']\n",
      "stop: ['l', 'muzi', 'neo', 'frodo']\n",
      "{'muzi': 0, 'frodo': 0, 'apeach': 0, 'neo': 0}\n"
     ]
    },
    {
     "data": {
      "text/plain": [
       "[2, 1, 3, 0]"
      ]
     },
     "execution_count": 84,
     "metadata": {},
     "output_type": "execute_result"
    }
   ],
   "source": [
    "solution([\"muzi\", \"frodo\", \"apeach\", \"neo\"], \n",
    "         [\"muzi frodo\",\"apeach frodo\",\"frodo neo\",\"muzi neo\",\"apeach muzi\",'apeach l', \"muzi frodo\"], 1)"
   ]
  },
  {
   "cell_type": "code",
   "execution_count": 71,
   "metadata": {},
   "outputs": [
    {
     "name": "stdout",
     "output_type": "stream",
     "text": [
      "{'ryan': 'con'}\n",
      "['con']\n",
      "[]\n"
     ]
    },
    {
     "data": {
      "text/plain": [
       "[0, 0]"
      ]
     },
     "execution_count": 71,
     "metadata": {},
     "output_type": "execute_result"
    }
   ],
   "source": [
    "solution([\"con\", \"ryan\"], [\"ryan con\", \"ryan con\", \"ryan con\", \"ryan con\"], 3)"
   ]
  },
  {
   "cell_type": "code",
   "execution_count": 44,
   "metadata": {},
   "outputs": [
    {
     "name": "stdout",
     "output_type": "stream",
     "text": [
      "{'apeach': 'frodo neo', 'muzi': 'neo frodo'}\n",
      "['frodo', 'neo']\n"
     ]
    },
    {
     "data": {
      "text/plain": [
       "[2, 0, 2, 0]"
      ]
     },
     "execution_count": 44,
     "metadata": {},
     "output_type": "execute_result"
    }
   ],
   "source": [
    "solution([\"muzi\", \"frodo\", \"apeach\", \"neo\"], [\"muzi frodo\", \"apeach frodo\", \"apeach neo\", \"muzi neo\"], 1)"
   ]
  }
 ],
 "metadata": {
  "kernelspec": {
   "display_name": "Python 3",
   "language": "python",
   "name": "python3"
  },
  "language_info": {
   "codemirror_mode": {
    "name": "ipython",
    "version": 3
   },
   "file_extension": ".py",
   "mimetype": "text/x-python",
   "name": "python",
   "nbconvert_exporter": "python",
   "pygments_lexer": "ipython3",
   "version": "3.8.5"
  }
 },
 "nbformat": 4,
 "nbformat_minor": 4
}
