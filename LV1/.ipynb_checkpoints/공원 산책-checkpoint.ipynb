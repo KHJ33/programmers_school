{
 "cells": [
  {
   "cell_type": "markdown",
   "id": "a279cb6d",
   "metadata": {},
   "source": [
    "공원을 나타내는 문자열 배열 park, 로봇 강아지가 수행할 명령이 담긴 문자열 배열 routes가 매개변수로 주어질 때, 로봇 강아지가 모든 명령을 수행 후 놓인 위치를 [세로 방향 좌표, 가로 방향 좌표] 순으로 배열에 담아 return 하도록 solution 함수를 완성해주세요."
   ]
  },
  {
   "cell_type": "code",
   "execution_count": 54,
   "id": "94db235c",
   "metadata": {},
   "outputs": [],
   "source": [
    "def solution(park, routes):\n",
    "    for i, k in enumerate(park) :\n",
    "        if 'S' in k :\n",
    "            j = k.index('S')\n",
    "            break\n",
    "#     print(i, j)\n",
    "    max_j, max_i = len(park[0]) - 1, len(park) - 1\n",
    "    \n",
    "#     print(max_i, max_j)\n",
    "                \n",
    "    for _ in routes :\n",
    "        s, n = _.split(' ')\n",
    "        \n",
    "        temp_i, temp_j = i, j\n",
    "        \n",
    "        if s == \"E\" :\n",
    "            for __ in range(int(n)) :\n",
    "                temp_j += 1\n",
    "\n",
    "                if temp_j > max_j or park[temp_i][temp_j] == 'X':\n",
    "                    break\n",
    "            else :\n",
    "                i, j = temp_i, temp_j\n",
    "        \n",
    "        elif s == 'S' :\n",
    "            for __ in range(int(n)) :\n",
    "                temp_i += 1\n",
    "                \n",
    "                if temp_i > max_i or park[temp_i][temp_j] == 'X' :\n",
    "                    break\n",
    "            else :\n",
    "                i, j = temp_i, temp_j\n",
    "                    \n",
    "        elif s == 'W':\n",
    "            for __ in range(int(n)) :\n",
    "                temp_j -= 1\n",
    "                \n",
    "                if temp_j == -1 or park[temp_i][temp_j] == 'X' :\n",
    "                    break\n",
    "            else :\n",
    "                i, j = temp_i, temp_j\n",
    "                    \n",
    "        elif s == 'N':\n",
    "            for __ in range(int(n)) :\n",
    "                temp_i -= 1\n",
    "                    \n",
    "                if temp_i == -1 or park[temp_i][temp_j] == 'X' :\n",
    "                    break\n",
    "            else :\n",
    "                i, j = temp_i, temp_j\n",
    "                    \n",
    "        print( i , j)\n",
    "    \n",
    "    return [i,j]"
   ]
  },
  {
   "cell_type": "code",
   "execution_count": 55,
   "id": "3e9e5289",
   "metadata": {},
   "outputs": [
    {
     "name": "stdout",
     "output_type": "stream",
     "text": [
      "0 1\n",
      "0 1\n",
      "0 0\n"
     ]
    },
    {
     "data": {
      "text/plain": [
       "[0, 0]"
      ]
     },
     "execution_count": 55,
     "metadata": {},
     "output_type": "execute_result"
    }
   ],
   "source": [
    "solution([\"OSO\",\"OOO\",\"OXO\",\"OOO\"],\t[\"E 2\",\"S 3\",\"W 1\"])"
   ]
  },
  {
   "cell_type": "code",
   "execution_count": 56,
   "id": "669efb5a",
   "metadata": {},
   "outputs": [
    {
     "name": "stdout",
     "output_type": "stream",
     "text": [
      "0 2\n",
      "2 2\n",
      "2 1\n"
     ]
    },
    {
     "data": {
      "text/plain": [
       "[2, 1]"
      ]
     },
     "execution_count": 56,
     "metadata": {},
     "output_type": "execute_result"
    }
   ],
   "source": [
    "solution([\"SOO\",\"OOO\",\"OOO\"], [\"E 2\",\"S 2\",\"W 1\"])"
   ]
  },
  {
   "cell_type": "code",
   "execution_count": 57,
   "id": "05766001",
   "metadata": {},
   "outputs": [
    {
     "name": "stdout",
     "output_type": "stream",
     "text": [
      "0 2\n",
      "0 2\n",
      "0 1\n"
     ]
    },
    {
     "data": {
      "text/plain": [
       "[0, 1]"
      ]
     },
     "execution_count": 57,
     "metadata": {},
     "output_type": "execute_result"
    }
   ],
   "source": [
    "solution([\"SOO\",\"OXX\",\"OOO\"],\t[\"E 2\",\"S 2\",\"W 1\"]\t)"
   ]
  }
 ],
 "metadata": {
  "kernelspec": {
   "display_name": "Python 3 (ipykernel)",
   "language": "python",
   "name": "python3"
  },
  "language_info": {
   "codemirror_mode": {
    "name": "ipython",
    "version": 3
   },
   "file_extension": ".py",
   "mimetype": "text/x-python",
   "name": "python",
   "nbconvert_exporter": "python",
   "pygments_lexer": "ipython3",
   "version": "3.8.15"
  }
 },
 "nbformat": 4,
 "nbformat_minor": 5
}
