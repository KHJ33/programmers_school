{
 "cells": [
  {
   "cell_type": "markdown",
   "metadata": {},
   "source": [
    "## 문자열로 구성된 리스트 strings와, 정수 n이 주어졌을 때, 각 문자열의 인덱스 n번째 글자를 기준으로 오름차순 정렬하려 합니다. \n",
    "* 예를 들어 strings가 [\"sun\", \"bed\", \"car\"]이고 n이 1이면 각 단어의 인덱스 1의 문자 \"u\", \"e\", \"a\"로 strings를 정렬합니다."
   ]
  },
  {
   "cell_type": "code",
   "execution_count": 17,
   "metadata": {},
   "outputs": [],
   "source": [
    "def solution(strings, n):\n",
    "    answer = [list(s) for s in sorted(strings)]\n",
    "    \n",
    "    print(answer)\n",
    "    \n",
    "    print(sorted(strings))\n",
    "    print(sorted(answer, key = lambda x : x[n]))\n",
    "    \n",
    "    print(sorted(strings, key = lambda x : x[n]))\n",
    "    \n",
    "    answer = sorted(answer, key = lambda x : x[n])\n",
    "    \n",
    "    return [''.join(x) for x in answer ]"
   ]
  },
  {
   "cell_type": "code",
   "execution_count": 18,
   "metadata": {},
   "outputs": [
    {
     "name": "stdout",
     "output_type": "stream",
     "text": [
      "[['b', 'e', 'd'], ['c', 'a', 'r'], ['s', 'u', 'n']]\n",
      "['bed', 'car', 'sun']\n",
      "[['c', 'a', 'r'], ['b', 'e', 'd'], ['s', 'u', 'n']]\n",
      "['car', 'bed', 'sun']\n"
     ]
    },
    {
     "data": {
      "text/plain": [
       "['car', 'bed', 'sun']"
      ]
     },
     "execution_count": 18,
     "metadata": {},
     "output_type": "execute_result"
    }
   ],
   "source": [
    "solution([\"sun\", \"bed\", \"car\"], 1)"
   ]
  },
  {
   "cell_type": "code",
   "execution_count": 19,
   "metadata": {},
   "outputs": [
    {
     "name": "stdout",
     "output_type": "stream",
     "text": [
      "[['a', 'b', 'c', 'd'], ['a', 'b', 'c', 'e'], ['c', 'd', 'x']]\n",
      "['abcd', 'abce', 'cdx']\n",
      "[['a', 'b', 'c', 'd'], ['a', 'b', 'c', 'e'], ['c', 'd', 'x']]\n",
      "['abce', 'abcd', 'cdx']\n"
     ]
    },
    {
     "data": {
      "text/plain": [
       "['abcd', 'abce', 'cdx']"
      ]
     },
     "execution_count": 19,
     "metadata": {},
     "output_type": "execute_result"
    }
   ],
   "source": [
    "solution([\"abce\", \"abcd\", \"cdx\"], 2)"
   ]
  }
 ],
 "metadata": {
  "kernelspec": {
   "display_name": "Python 3",
   "language": "python",
   "name": "python3"
  },
  "language_info": {
   "codemirror_mode": {
    "name": "ipython",
    "version": 3
   },
   "file_extension": ".py",
   "mimetype": "text/x-python",
   "name": "python",
   "nbconvert_exporter": "python",
   "pygments_lexer": "ipython3",
   "version": "3.8.5"
  }
 },
 "nbformat": 4,
 "nbformat_minor": 4
}
