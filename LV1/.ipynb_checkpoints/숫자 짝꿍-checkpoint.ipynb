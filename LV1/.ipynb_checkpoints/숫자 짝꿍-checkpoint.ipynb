{
 "cells": [
  {
   "cell_type": "markdown",
   "metadata": {},
   "source": [
    "X = 3403이고 Y = 13203이라면, X와 Y의 짝꿍은 X와 Y에서 공통으로 나타나는 3, 0, 3으로 만들 수 있는 가장 큰 정수인 330입니다.\n",
    "  \n",
    "  \n",
    "다른 예시로 X = 5525이고 Y = 1255이면 X와 Y의 짝꿍은 X와 Y에서 공통으로 나타나는 2, 5, 5로 만들 수 있는 가장 큰 정수인 552입니다(X에는 5가 3개, Y에는 5가 2개 나타나므로 남는 5 한 개는 짝 지을 수 없습니다.)\n",
    "  \n",
    "  \n",
    "## 두 정수 X, Y가 주어졌을 때, X, Y의 짝꿍을 return하는 solution 함수를 완성해주세요."
   ]
  },
  {
   "cell_type": "code",
   "execution_count": 30,
   "metadata": {},
   "outputs": [],
   "source": [
    "def solution(X, Y):\n",
    "    answer = []\n",
    "    \n",
    "    for i in X :\n",
    "        if i in Y :\n",
    "            Y = Y.replace(i,' ',1)\n",
    "            answer.append(i)\n",
    "    \n",
    "    return str(int(''.join(sorted(answer, reverse=True)))) if len(answer) != 0 else '-1'"
   ]
  },
  {
   "cell_type": "code",
   "execution_count": 64,
   "metadata": {},
   "outputs": [
    {
     "data": {
      "text/plain": [
       "'-1'"
      ]
     },
     "execution_count": 64,
     "metadata": {},
     "output_type": "execute_result"
    }
   ],
   "source": [
    "solution('100','2345')"
   ]
  },
  {
   "cell_type": "code",
   "execution_count": 62,
   "metadata": {},
   "outputs": [
    {
     "data": {
      "text/plain": [
       "'321'"
      ]
     },
     "execution_count": 62,
     "metadata": {},
     "output_type": "execute_result"
    }
   ],
   "source": [
    "solution(\"12321\",\"42531\")"
   ]
  },
  {
   "cell_type": "code",
   "execution_count": 63,
   "metadata": {},
   "outputs": [],
   "source": [
    "def solution(X, Y):\n",
    "    answer = ''\n",
    "    \n",
    "    # 숫자 9 부터 겹치는 부분을 찾음(min 함수 이용)\n",
    "    for i in range(9,-1,-1) :\n",
    "        answer += (str(i) * min(X.count(str(i)), Y.count(str(i))))\n",
    "    \n",
    "    # answer 가 변함이 없다면 -1 리턴\n",
    "    if answer == '' :\n",
    "        return '-1'\n",
    "    # answer가 0으로만 이루어져 있다면 0 으로 리턴\n",
    "    elif len(answer) == answer.count('0'):\n",
    "        return '0'\n",
    "    # 아닐 경우 answer 로 리턴\n",
    "    else :\n",
    "        return answer"
   ]
  }
 ],
 "metadata": {
  "kernelspec": {
   "display_name": "Python 3",
   "language": "python",
   "name": "python3"
  },
  "language_info": {
   "codemirror_mode": {
    "name": "ipython",
    "version": 3
   },
   "file_extension": ".py",
   "mimetype": "text/x-python",
   "name": "python",
   "nbconvert_exporter": "python",
   "pygments_lexer": "ipython3",
   "version": "3.8.5"
  }
 },
 "nbformat": 4,
 "nbformat_minor": 4
}
