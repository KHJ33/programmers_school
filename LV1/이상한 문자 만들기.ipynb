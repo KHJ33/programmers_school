{
 "cells": [
  {
   "cell_type": "markdown",
   "metadata": {},
   "source": [
    "#### 문자열 s는 한 개 이상의 단어로 구성되어 있습니다.  \n",
    "\n",
    "#### 각 단어는 하나 이상의 공백문자로 구분되어 있습니다. \n",
    "## 각 단어의 짝수번째 알파벳은 대문자로, 홀수번째 알파벳은 소문자로 바꾼 문자열을 리턴하는 함수, solution을 완성하세요."
   ]
  },
  {
   "cell_type": "code",
   "execution_count": 13,
   "metadata": {},
   "outputs": [],
   "source": [
    "def solution(s):\n",
    "    \n",
    "    answer = ''\n",
    "    \n",
    "    # 입력된 문자를 전부 소문자로 변경\n",
    "    s = s.lower()\n",
    "    \n",
    "    # 공백을 기준으로 문자열 분리\n",
    "    s = s.split(' ')\n",
    "    \n",
    "    # 각 문자 별로 짝수번째에 대문자, 홀수 번째는 소문자를 적용\n",
    "    for word in s :\n",
    "        for i, k in enumerate(word):\n",
    "            if i % 2 == 0 :\n",
    "                answer += k.upper()\n",
    "            else :\n",
    "                answer += k\n",
    "        answer += ' '\n",
    "        \n",
    "    return answer[:-1] # 마지막 공백 제거"
   ]
  },
  {
   "cell_type": "code",
   "execution_count": 14,
   "metadata": {},
   "outputs": [
    {
     "data": {
      "text/plain": [
       "'TrY HeLlO WoRlD'"
      ]
     },
     "execution_count": 14,
     "metadata": {},
     "output_type": "execute_result"
    }
   ],
   "source": [
    "solution(\"try hello world\")"
   ]
  }
 ],
 "metadata": {
  "kernelspec": {
   "display_name": "Python 3",
   "language": "python",
   "name": "python3"
  },
  "language_info": {
   "codemirror_mode": {
    "name": "ipython",
    "version": 3
   },
   "file_extension": ".py",
   "mimetype": "text/x-python",
   "name": "python",
   "nbconvert_exporter": "python",
   "pygments_lexer": "ipython3",
   "version": "3.8.5"
  }
 },
 "nbformat": 4,
 "nbformat_minor": 4
}
