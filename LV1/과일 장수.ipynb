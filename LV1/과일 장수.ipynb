{
 "cells": [
  {
   "cell_type": "markdown",
   "id": "426ba4fd",
   "metadata": {},
   "source": [
    "과일 장수가 사과 상자를 포장하고 있습니다. 사과는 상태에 따라 1점부터 k점까지의 점수로 분류하며, k점이 최상품의 사과이고 1점이 최하품의 사과입니다. 사과 한 상자의 가격은 다음과 같이 결정됩니다.\n",
    "\n",
    "* 한 상자에 사과를 m개씩 담아 포장합니다.\n",
    "* 상자에 담긴 사과 중 가장 낮은 점수가 p (1 ≤ p ≤ k)점인 경우, 사과 한 상자의 가격은 p * m 입니다.  \n",
    "\n",
    "과일 장수가 가능한 많은 사과를 팔았을 때, 얻을 수 있는 최대 이익을 계산하고자 합니다.(사과는 상자 단위로만 판매하며, 남는 사과는 버립니다)"
   ]
  },
  {
   "cell_type": "code",
   "execution_count": 7,
   "id": "b5afd622",
   "metadata": {},
   "outputs": [],
   "source": [
    "def solution(k, m, score):\n",
    "    answer = 0\n",
    "    score.sort(reverse = True)\n",
    "    \n",
    "    print(score)\n",
    "    temp = [score[x * m: x * m + m] for x in range(len(score)//m)]\n",
    "    \n",
    "    print(temp)\n",
    "    \n",
    "    for _ in temp :\n",
    "        answer += min(_) * m\n",
    "        \n",
    "    return answer"
   ]
  },
  {
   "cell_type": "code",
   "execution_count": 8,
   "id": "e9d1f4ed",
   "metadata": {
    "scrolled": true
   },
   "outputs": [
    {
     "name": "stdout",
     "output_type": "stream",
     "text": [
      "[4, 4, 4, 4, 4, 4, 2, 2, 2, 2, 1, 1]\n",
      "[[4, 4, 4], [4, 4, 4], [2, 2, 2], [2, 1, 1]]\n"
     ]
    },
    {
     "data": {
      "text/plain": [
       "33"
      ]
     },
     "execution_count": 8,
     "metadata": {},
     "output_type": "execute_result"
    }
   ],
   "source": [
    "solution(4, 3, [4, 1, 2, 2, 4, 4, 4, 4, 1, 2, 4, 2])"
   ]
  },
  {
   "cell_type": "code",
   "execution_count": 9,
   "id": "88c51b0e",
   "metadata": {},
   "outputs": [
    {
     "name": "stdout",
     "output_type": "stream",
     "text": [
      "[3, 3, 2, 2, 1, 1, 1]\n",
      "[[3, 3, 2, 2]]\n"
     ]
    },
    {
     "data": {
      "text/plain": [
       "8"
      ]
     },
     "execution_count": 9,
     "metadata": {},
     "output_type": "execute_result"
    }
   ],
   "source": [
    "solution(3, 4, [1, 2, 3, 1, 2, 3, 1])"
   ]
  }
 ],
 "metadata": {
  "kernelspec": {
   "display_name": "Python 3",
   "language": "python",
   "name": "python3"
  },
  "language_info": {
   "codemirror_mode": {
    "name": "ipython",
    "version": 3
   },
   "file_extension": ".py",
   "mimetype": "text/x-python",
   "name": "python",
   "nbconvert_exporter": "python",
   "pygments_lexer": "ipython3",
   "version": "3.6.13"
  }
 },
 "nbformat": 4,
 "nbformat_minor": 5
}
