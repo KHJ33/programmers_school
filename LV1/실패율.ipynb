{
 "cells": [
  {
   "cell_type": "markdown",
   "metadata": {},
   "source": [
    "* 실패율은 다음과 같이 정의한다.\n",
    "  \n",
    "  \n",
    "* 스테이지에 도달했으나 아직 클리어하지 못한 플레이어의 수 / 스테이지에 도달한 플레이어 수\n",
    "## 전체 스테이지의 개수 N, 게임을 이용하는 사용자가 현재 멈춰있는 스테이지의 번호가 담긴 배열 stages가 매개변수로 주어질 때, 실패율이 높은 스테이지부터 내림차순으로 스테이지의 번호가 담겨있는 배열을 return 하도록 solution 함수를 완성하라."
   ]
  },
  {
   "cell_type": "code",
   "execution_count": 68,
   "metadata": {},
   "outputs": [],
   "source": [
    "from fractions import Fraction\n",
    "\n",
    "def solution(N, stages):\n",
    "    answer = {}\n",
    "    \n",
    "    count = len(stages)\n",
    "    \n",
    "    \n",
    "    for i in range(1, N + 1) :\n",
    "#         print(stages.count(i),len(stages)-count)\n",
    "        if count == 0 :\n",
    "            answer[i] = 0\n",
    "        elif stages.count(i) == 0 :\n",
    "            answer[i] = 0\n",
    "        else :\n",
    "            answer[i] = Fraction(f'{stages.count(i)}/{count}')\n",
    "\n",
    "    #         print(count, stages.count(i))\n",
    "            count -= stages.count(i)\n",
    "    \n",
    "    answer = sorted(answer.items() , key = lambda x : x[1], reverse = True)\n",
    "    \n",
    "    print(answer)\n",
    "    \n",
    "    return [x[0] for x in answer]"
   ]
  },
  {
   "cell_type": "code",
   "execution_count": 69,
   "metadata": {},
   "outputs": [
    {
     "name": "stdout",
     "output_type": "stream",
     "text": [
      "[(3, Fraction(1, 2)), (4, Fraction(1, 2)), (2, Fraction(3, 7)), (1, Fraction(1, 8)), (5, 0)]\n"
     ]
    },
    {
     "data": {
      "text/plain": [
       "[3, 4, 2, 1, 5]"
      ]
     },
     "execution_count": 69,
     "metadata": {},
     "output_type": "execute_result"
    }
   ],
   "source": [
    "solution(5, [2, 1, 2, 6, 2, 4, 3, 3])"
   ]
  },
  {
   "cell_type": "code",
   "execution_count": 70,
   "metadata": {},
   "outputs": [
    {
     "name": "stdout",
     "output_type": "stream",
     "text": [
      "[(4, Fraction(1, 1)), (1, 0), (2, 0), (3, 0)]\n"
     ]
    },
    {
     "data": {
      "text/plain": [
       "[4, 1, 2, 3]"
      ]
     },
     "execution_count": 70,
     "metadata": {},
     "output_type": "execute_result"
    }
   ],
   "source": [
    "solution(4, [4,4,4,4,4])"
   ]
  },
  {
   "cell_type": "code",
   "execution_count": 71,
   "metadata": {},
   "outputs": [
    {
     "name": "stdout",
     "output_type": "stream",
     "text": [
      "[(3, Fraction(1, 1)), (2, Fraction(2, 3)), (1, Fraction(2, 5)), (4, 0)]\n"
     ]
    },
    {
     "data": {
      "text/plain": [
       "[3, 2, 1, 4]"
      ]
     },
     "execution_count": 71,
     "metadata": {},
     "output_type": "execute_result"
    }
   ],
   "source": [
    "solution(4, [1, 2, 3, 2, 1])"
   ]
  }
 ],
 "metadata": {
  "kernelspec": {
   "display_name": "Python 3",
   "language": "python",
   "name": "python3"
  },
  "language_info": {
   "codemirror_mode": {
    "name": "ipython",
    "version": 3
   },
   "file_extension": ".py",
   "mimetype": "text/x-python",
   "name": "python",
   "nbconvert_exporter": "python",
   "pygments_lexer": "ipython3",
   "version": "3.8.5"
  }
 },
 "nbformat": 4,
 "nbformat_minor": 4
}
