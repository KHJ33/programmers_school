{
 "cells": [
  {
   "cell_type": "markdown",
   "metadata": {},
   "source": [
    "* 2016년 1월 1일은 금요일입니다. \n",
    "## 2016년 a월 b일은 무슨 요일일까요? 두 수 a ,b를 입력받아 2016년 a월 b일이 무슨 요일인지 리턴하는 함수, solution을 완성하세요.   \n",
    "  \n",
    "  \n",
    "* 요일의 이름은 일요일부터 토요일까지 각각 SUN,MON,TUE,WED,THU,FRI,SAT입니다. \n",
    "  \n",
    "  \n",
    "* 예를 들어 a=5, b=24라면 5월 24일은 화요일이므로 문자열 \"TUE\"를 반환하세요."
   ]
  },
  {
   "cell_type": "code",
   "execution_count": 21,
   "metadata": {},
   "outputs": [],
   "source": [
    "def solution(a, b):\n",
    "    date = [31,29,31,30,31,30,31,31,30,31,30,31]\n",
    "    answer = ['SUN','MON','TUE','WED','THU','FRI','SAT']\n",
    "    day = 5\n",
    "    \n",
    "    for i in range(a-1): \n",
    "        if date[i] == 31 :\n",
    "            day += 3\n",
    "        elif date[i] == 29 :\n",
    "            day += 1\n",
    "        else :\n",
    "            day += 2\n",
    "        \n",
    "    day = day % 7\n",
    "    day = (day + b - 1) % 7\n",
    "     \n",
    "    return answer[day]"
   ]
  },
  {
   "cell_type": "code",
   "execution_count": 22,
   "metadata": {},
   "outputs": [
    {
     "data": {
      "text/plain": [
       "'THU'"
      ]
     },
     "execution_count": 22,
     "metadata": {},
     "output_type": "execute_result"
    }
   ],
   "source": [
    "solution(6,23)"
   ]
  }
 ],
 "metadata": {
  "kernelspec": {
   "display_name": "Python 3",
   "language": "python",
   "name": "python3"
  },
  "language_info": {
   "codemirror_mode": {
    "name": "ipython",
    "version": 3
   },
   "file_extension": ".py",
   "mimetype": "text/x-python",
   "name": "python",
   "nbconvert_exporter": "python",
   "pygments_lexer": "ipython3",
   "version": "3.8.5"
  }
 },
 "nbformat": 4,
 "nbformat_minor": 4
}
