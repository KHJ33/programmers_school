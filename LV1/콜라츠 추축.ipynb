{
 "cells": [
  {
   "cell_type": "markdown",
   "metadata": {},
   "source": [
    "## 주어진 수가 1이 될 때까지 다음 작업을 반복하면, 모든 수를 1로 만들 수 있다는 추측입니다. \n",
    "작업은 다음과 같습니다.\n",
    "\n",
    "1. 짝수와 홀수에 따라 계산을 다음과 같이 합니다.\n",
    "    1. 입력된 수가 짝수라면 2로 나눕니다. \n",
    "    2. 입력된 수가 홀수라면 3을 곱하고 1을 더합니다.\n",
    "  \n",
    "  \n",
    "2. 결과로 나온 수에 같은 작업을 1이 될 때까지 반복합니다. "
   ]
  },
  {
   "cell_type": "code",
   "execution_count": 1,
   "metadata": {},
   "outputs": [],
   "source": [
    "def solution(num):\n",
    "    answer = 0\n",
    "    \n",
    "    # 입력된 수가 1이면 0으로 리턴\n",
    "    if num == 1 :\n",
    "        return answer\n",
    "    \n",
    "    while True :\n",
    "        \n",
    "        # 반복 횟수가 500번이 될경우 -1을 리턴\n",
    "        if answer == 500 :\n",
    "            return -1\n",
    "        \n",
    "        # 현재 수가 1이 될 경우 지금까지 반복한 횟수를 리턴\n",
    "        if num == 1 :\n",
    "            return answer\n",
    "        \n",
    "        # 현재 수가 짝수 일때 2로 나눕니다.\n",
    "        if num % 2 == 0 :\n",
    "            num = num / 2\n",
    "        # 현재 수가 홀수 일때 3을 곱하고 1을 더합니다. \n",
    "        else :\n",
    "            num = num * 3 + 1\n",
    "        \n",
    "        # 두 경우(짝수, 홀수) 중에 하나는 무조건 실행 했으므로 반복 회수 1회 증가\n",
    "        answer += 1"
   ]
  },
  {
   "cell_type": "code",
   "execution_count": 6,
   "metadata": {},
   "outputs": [
    {
     "data": {
      "text/plain": [
       "4"
      ]
     },
     "execution_count": 6,
     "metadata": {},
     "output_type": "execute_result"
    }
   ],
   "source": [
    "solution(16)"
   ]
  }
 ],
 "metadata": {
  "kernelspec": {
   "display_name": "Python 3",
   "language": "python",
   "name": "python3"
  },
  "language_info": {
   "codemirror_mode": {
    "name": "ipython",
    "version": 3
   },
   "file_extension": ".py",
   "mimetype": "text/x-python",
   "name": "python",
   "nbconvert_exporter": "python",
   "pygments_lexer": "ipython3",
   "version": "3.8.5"
  }
 },
 "nbformat": 4,
 "nbformat_minor": 4
}
