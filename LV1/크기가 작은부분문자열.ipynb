{
 "cells": [
  {
   "cell_type": "markdown",
   "id": "c576d514",
   "metadata": {},
   "source": [
    "## 숫자로 이루어진 문자열 t와 p가 주어질 때, t에서 p와 길이가 같은 부분문자열 중에서, 이 부분문자열이 나타내는 수가 p가 나타내는 수보다 작거나 같은 것이 나오는 횟수를 return하는 함수 solution을 완성하세요.\n",
    "  \n",
    "    \n",
    "    \n",
    "예를 들어, t=\"3141592\"이고 p=\"271\" 인 경우, t의 길이가 3인 부분 문자열은 314, 141, 415, 159, 592입니다. 이 문자열이 나타내는 수 중 271보다 작거나 같은 수는 141, 159 2개 입니다."
   ]
  },
  {
   "cell_type": "code",
   "execution_count": 12,
   "id": "080b5d09",
   "metadata": {},
   "outputs": [],
   "source": [
    "def solution(t, p):\n",
    "    answer = 0\n",
    "    \n",
    "    for i in range(len(t)) :\n",
    "        if len(t[i : i + len(p)]) == len(p) and int(t[i : i + len(p)]) <= int(p) :\n",
    "            answer += 1\n",
    "    \n",
    "    return answer"
   ]
  },
  {
   "cell_type": "code",
   "execution_count": 13,
   "id": "ecc11f91",
   "metadata": {},
   "outputs": [
    {
     "data": {
      "text/plain": [
       "2"
      ]
     },
     "execution_count": 13,
     "metadata": {},
     "output_type": "execute_result"
    }
   ],
   "source": [
    "solution(\"3141592\", \"271\")"
   ]
  }
 ],
 "metadata": {
  "kernelspec": {
   "display_name": "Python 3 (ipykernel)",
   "language": "python",
   "name": "python3"
  },
  "language_info": {
   "codemirror_mode": {
    "name": "ipython",
    "version": 3
   },
   "file_extension": ".py",
   "mimetype": "text/x-python",
   "name": "python",
   "nbconvert_exporter": "python",
   "pygments_lexer": "ipython3",
   "version": "3.8.15"
  }
 },
 "nbformat": 4,
 "nbformat_minor": 5
}
