{
 "cells": [
  {
   "cell_type": "markdown",
   "metadata": {},
   "source": [
    "N x N\" 크기의 정사각 격자이며 위쪽에는 크레인이 있고 오른쪽에는 바구니가 있습니다.\n",
    "  \n",
    "만약 같은 모양의 인형 두 개가 바구니에 연속해서 쌓이게 되면 두 인형은 터뜨려지면서 바구니에서 사라지게 됩니다. 위 상태에서 이어서 [5번] 위치에서 인형을 집어 바구니에 쌓으면 같은 모양 인형 두 개가 없어집니다.\n",
    "\n",
    "  \n",
    "게임 화면의 격자의 상태가 담긴 2차원 배열 board와 인형을 집기 위해 크레인을 작동시킨 위치가 담긴 배열 moves가 매개변수로 주어질 때, 크레인을 모두 작동시킨 후 터트려져 사라진 인형의 개수를 return 하도록 solution 함수를 완성해주세요."
   ]
  },
  {
   "cell_type": "code",
   "execution_count": 40,
   "metadata": {},
   "outputs": [],
   "source": [
    "import pandas as pd\n",
    "\n",
    "def solution(board, moves):\n",
    "    answer = 0\n",
    "    answer_list = []\n",
    "    \n",
    "    df = pd.DataFrame(board)\n",
    "    \n",
    "    for move in moves :\n",
    "        for i, k in enumerate(df[move - 1]) :\n",
    "            a = k\n",
    "            if a != 0 :\n",
    "                df[move - 1][i] = 0\n",
    "                break\n",
    "        if a != 0 :\n",
    "            if len(answer_list) == 0 :\n",
    "                answer_list.append(a)\n",
    "                \n",
    "            elif answer_list[-1] == a :\n",
    "                answer_list.pop()\n",
    "                answer += 2\n",
    "            else :\n",
    "                answer_list.append(a)\n",
    "    \n",
    "    print(answer_list)\n",
    "    return answer"
   ]
  },
  {
   "cell_type": "code",
   "execution_count": 41,
   "metadata": {},
   "outputs": [
    {
     "name": "stdout",
     "output_type": "stream",
     "text": [
      "   0  1  2  3  4\n",
      "0  0  0  0  0  0\n",
      "1  0  0  1  0  3\n",
      "2  0  2  5  0  1\n",
      "3  4  2  4  4  2\n",
      "4  3  5  1  3  1\n",
      "0    0\n",
      "1    0\n",
      "2    0\n",
      "3    4\n",
      "4    3\n",
      "Name: 0, dtype: int64\n",
      "<class 'pandas.core.series.Series'>\n",
      "0    0\n",
      "1    0\n",
      "2    0\n",
      "3    4\n",
      "4    3\n",
      "Name: 0, dtype: int64\n",
      "[4, 2, 4]\n"
     ]
    },
    {
     "data": {
      "text/plain": [
       "4"
      ]
     },
     "execution_count": 41,
     "metadata": {},
     "output_type": "execute_result"
    }
   ],
   "source": [
    "solution([[0,0,0,0,0],[0,0,1,0,3],[0,2,5,0,1],[4,2,4,4,2],[3,5,1,3,1]], [1,5,3,5,1,2,1,4])"
   ]
  },
  {
   "cell_type": "code",
   "execution_count": null,
   "metadata": {},
   "outputs": [],
   "source": [
    "[4, 3, 1, 1, 3, 2, 4]"
   ]
  }
 ],
 "metadata": {
  "kernelspec": {
   "display_name": "Python 3",
   "language": "python",
   "name": "python3"
  },
  "language_info": {
   "codemirror_mode": {
    "name": "ipython",
    "version": 3
   },
   "file_extension": ".py",
   "mimetype": "text/x-python",
   "name": "python",
   "nbconvert_exporter": "python",
   "pygments_lexer": "ipython3",
   "version": "3.8.5"
  }
 },
 "nbformat": 4,
 "nbformat_minor": 4
}
