{
 "cells": [
  {
   "cell_type": "markdown",
   "metadata": {},
   "source": [
    "# 어떤 문장의 각 알파벳을 일정한 거리만큼 밀어서 다른 알파벳으로 바꾸는 암호화 방식을 시저 암호라고 합니다. \n",
    "\n",
    "* 예를 들어 \"AB\"는 1만큼 밀면 \"BC\"가 되고, 3만큼 밀면 \"DE\"가 됩니다. \"z\"는 1만큼 밀면 \"a\"가 됩니다. \n",
    "* 문자열 s와 거리 n을 입력받아 s를 n만큼 민 암호문을 만드는 함수, solution을 완성해 보세요."
   ]
  },
  {
   "cell_type": "code",
   "execution_count": 52,
   "metadata": {},
   "outputs": [],
   "source": [
    "def solution(s, n):\n",
    "    # 'a' 부터 'z' 까지가 들어 있는 배열 선언\n",
    "    alpha = [chr(x) for x in range(97,123)]\n",
    "    \n",
    "    answer =''\n",
    "    \n",
    "    # 단어 하나마다 이동 진행\n",
    "    for word in s :\n",
    "        \n",
    "        # 공백일 경우 공백으로 변환\n",
    "        if word == ' ':\n",
    "            answer += ' '\n",
    "        # 단어가 소문자일 경우\n",
    "        elif word.islower() :\n",
    "            # n 만큼 이동 / 이때 배열의 최대 크기를 넘어갈 경우 26(배열 크기)으로 나눈다.\n",
    "            answer += alpha[(alpha.index(word) + n) % 26]\n",
    "        \n",
    "        # 단어가 대문자 일 경우\n",
    "        else :\n",
    "            answer += alpha[(alpha.index(word.lower()) + n) % 26].upper()\n",
    "\n",
    "    return answer"
   ]
  },
  {
   "cell_type": "code",
   "execution_count": 53,
   "metadata": {},
   "outputs": [
    {
     "data": {
      "text/plain": [
       "'D'"
      ]
     },
     "execution_count": 53,
     "metadata": {},
     "output_type": "execute_result"
    }
   ],
   "source": [
    "solution('Z', 4)"
   ]
  }
 ],
 "metadata": {
  "kernelspec": {
   "display_name": "Python 3",
   "language": "python",
   "name": "python3"
  },
  "language_info": {
   "codemirror_mode": {
    "name": "ipython",
    "version": 3
   },
   "file_extension": ".py",
   "mimetype": "text/x-python",
   "name": "python",
   "nbconvert_exporter": "python",
   "pygments_lexer": "ipython3",
   "version": "3.8.5"
  }
 },
 "nbformat": 4,
 "nbformat_minor": 4
}
