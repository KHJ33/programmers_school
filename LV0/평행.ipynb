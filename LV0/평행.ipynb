{
 "cells": [
  {
   "cell_type": "markdown",
   "metadata": {},
   "source": [
    "## 주어진 네 개의 점을 두 개씩 이었을 때, 두 직선이 평행이 되는 경우가 있으면 1을 없으면 0을 return 하도록 solution 함수를 완성해보세요."
   ]
  },
  {
   "cell_type": "code",
   "execution_count": 26,
   "metadata": {},
   "outputs": [],
   "source": [
    "def solution(dots):\n",
    "    answer = []\n",
    "    \n",
    "    # 입력 된 x,y 좌표에 대해 전부 기울기를 구한다.\n",
    "    for i , k in enumerate(dots) :\n",
    "        for j in range(i + 1, len(dots)):\n",
    "            answer.append(round(dots[i][1] - dots[j][1]/ dots[i][0] - dots[j][0], 2))\n",
    "            print(f'k = {k}')\n",
    "            print(dots[j])\n",
    "            \n",
    "    print(answer)\n",
    "    # 구한 기울기를 비교 하여 일치 되면 1을 그렇지 않으면 -1 을 리턴\n",
    "    for i , k in enumerate(answer) :\n",
    "        for j in range(i + 1 , len(answer)):\n",
    "            if k == answer[j]:\n",
    "                return 1\n",
    "            \n",
    "    return -1"
   ]
  },
  {
   "cell_type": "code",
   "execution_count": 27,
   "metadata": {},
   "outputs": [
    {
     "name": "stdout",
     "output_type": "stream",
     "text": [
      "k = [1, 4]\n",
      "[9, 2]\n",
      "k = [1, 4]\n",
      "[3, 8]\n",
      "k = [1, 4]\n",
      "[10, 4]\n",
      "k = [1, 4]\n",
      "[6, 10]\n",
      "k = [9, 2]\n",
      "[3, 8]\n",
      "k = [9, 2]\n",
      "[10, 4]\n",
      "k = [9, 2]\n",
      "[6, 10]\n",
      "k = [3, 8]\n",
      "[10, 4]\n",
      "k = [3, 8]\n",
      "[6, 10]\n",
      "k = [10, 4]\n",
      "[6, 10]\n",
      "[-7.0, -7.0, -10.0, -12.0, -1.89, -8.44, -5.11, -3.33, -1.33, -3.0]\n"
     ]
    },
    {
     "data": {
      "text/plain": [
       "1"
      ]
     },
     "execution_count": 27,
     "metadata": {},
     "output_type": "execute_result"
    }
   ],
   "source": [
    "solution([[1, 4], [9, 2], [3, 8], [10, 4] ,[6,10]])"
   ]
  },
  {
   "cell_type": "code",
   "execution_count": null,
   "metadata": {},
   "outputs": [],
   "source": []
  }
 ],
 "metadata": {
  "kernelspec": {
   "display_name": "Python 3",
   "language": "python",
   "name": "python3"
  },
  "language_info": {
   "codemirror_mode": {
    "name": "ipython",
    "version": 3
   },
   "file_extension": ".py",
   "mimetype": "text/x-python",
   "name": "python",
   "nbconvert_exporter": "python",
   "pygments_lexer": "ipython3",
   "version": "3.8.5"
  }
 },
 "nbformat": 4,
 "nbformat_minor": 4
}
