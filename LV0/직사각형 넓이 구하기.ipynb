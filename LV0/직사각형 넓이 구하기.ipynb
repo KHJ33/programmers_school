{
 "cells": [
  {
   "cell_type": "code",
   "execution_count": 21,
   "metadata": {},
   "outputs": [],
   "source": [
    "import math\n",
    "\n",
    "def distance(a,b):\n",
    "    x1, y1 = a[0], a[1]\n",
    "    x2, y2 = b[0], b[1]\n",
    "    \n",
    "    return math.sqrt(((x2 - x1) ** 2) + ((y2 - y1) ** 2))\n",
    "\n",
    "def solution(dots):\n",
    "    \n",
    "    dots = sorted(dots)\n",
    "    \n",
    "    answer = distance(dots[0],dots[1]) * distance(dots[2], dots[0])\n",
    "    \n",
    "    return answer"
   ]
  },
  {
   "cell_type": "code",
   "execution_count": 22,
   "metadata": {},
   "outputs": [
    {
     "data": {
      "text/plain": [
       "1.0"
      ]
     },
     "execution_count": 22,
     "metadata": {},
     "output_type": "execute_result"
    }
   ],
   "source": [
    "solution([[1, 1], [2, 1], [2, 2], [1, 2]])"
   ]
  }
 ],
 "metadata": {
  "kernelspec": {
   "display_name": "Python 3",
   "language": "python",
   "name": "python3"
  },
  "language_info": {
   "codemirror_mode": {
    "name": "ipython",
    "version": 3
   },
   "file_extension": ".py",
   "mimetype": "text/x-python",
   "name": "python",
   "nbconvert_exporter": "python",
   "pygments_lexer": "ipython3",
   "version": "3.8.5"
  }
 },
 "nbformat": 4,
 "nbformat_minor": 4
}
