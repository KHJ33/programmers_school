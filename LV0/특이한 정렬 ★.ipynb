{
 "cells": [
  {
   "cell_type": "markdown",
   "metadata": {},
   "source": [
    "* 정수 n을 기준으로 n과 가까운 수부터 정렬하려고 합니다.   \n",
    "\n",
    "* 이때 n으로부터의 거리가 같다면 더 큰 수를 앞에 오도록 배치합니다.   \n",
    "\n",
    "## 정수가 담긴 배열 numlist와 정수 n이 주어질 때 numlist의 원소를 n으로부터 가까운 순서대로 정렬한 배열을 return하도록 solution 함수를 완성해주세요."
   ]
  },
  {
   "cell_type": "code",
   "execution_count": 2,
   "metadata": {},
   "outputs": [],
   "source": [
    "def solution(numlist, n):\n",
    "    answer = {}\n",
    "    \n",
    "    for i in sorted(numlist) :\n",
    "        answer[i] = abs(n - i)\n",
    "    \n",
    "    answer = sorted(answer.items(), key = lambda x : x[1],  reverse = True)\n",
    "    \n",
    "    print(answer)\n",
    "    \n",
    "    return [x[0] for x in answer[::-1]]"
   ]
  },
  {
   "cell_type": "code",
   "execution_count": 3,
   "metadata": {},
   "outputs": [
    {
     "name": "stdout",
     "output_type": "stream",
     "text": [
      "[(6, 9995), (10, 9991), (20, 9981), (36, 9965), (40, 9961), (47, 9954), (7000, 3001), (10000, 1)]\n"
     ]
    },
    {
     "data": {
      "text/plain": [
       "[10000, 7000, 47, 40, 36, 20, 10, 6]"
      ]
     },
     "execution_count": 3,
     "metadata": {},
     "output_type": "execute_result"
    }
   ],
   "source": [
    "solution([10000,20,36,47,40,6,10,7000], 10001)"
   ]
  },
  {
   "cell_type": "code",
   "execution_count": 4,
   "metadata": {},
   "outputs": [
    {
     "name": "stdout",
     "output_type": "stream",
     "text": [
      "[(1, 6), (2, 5), (3, 4), (4, 3), (5, 2), (6, 1), (7, 0)]\n"
     ]
    },
    {
     "data": {
      "text/plain": [
       "[7, 6, 5, 4, 3, 2, 1]"
      ]
     },
     "execution_count": 4,
     "metadata": {},
     "output_type": "execute_result"
    }
   ],
   "source": [
    "solution([1,2,3,4,5,6,7],7)"
   ]
  }
 ],
 "metadata": {
  "kernelspec": {
   "display_name": "Python 3",
   "language": "python",
   "name": "python3"
  },
  "language_info": {
   "codemirror_mode": {
    "name": "ipython",
    "version": 3
   },
   "file_extension": ".py",
   "mimetype": "text/x-python",
   "name": "python",
   "nbconvert_exporter": "python",
   "pygments_lexer": "ipython3",
   "version": "3.8.5"
  }
 },
 "nbformat": 4,
 "nbformat_minor": 4
}
