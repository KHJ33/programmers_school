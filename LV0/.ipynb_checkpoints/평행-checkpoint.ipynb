{
 "cells": [
  {
   "cell_type": "markdown",
   "metadata": {},
   "source": [
    "## 주어진 네 개의 점을 두 개씩 이었을 때, 두 직선이 평행이 되는 경우가 있으면 1을 없으면 0을 return 하도록 solution 함수를 완성해보세요."
   ]
  },
  {
   "cell_type": "code",
   "execution_count": 13,
   "metadata": {},
   "outputs": [],
   "source": [
    "def solution(dots):\n",
    "    answer = []\n",
    "    \n",
    "    # 입력 된 x,y 좌표에 대해 전부 기울기를 구한다.\n",
    "    for i , k in enumerate(dots) :\n",
    "        for j in range(i + 1, len(dots)):\n",
    "            answer.append(dots[i][1] - dots[j][1]/ dots[i][0] - dots[j][0])\n",
    "    \n",
    "    # 구한 기울기를 비교 하여 일치 되면 1을 그렇지 않으면 -1 을 리턴\n",
    "    for i , k in enumerate(answer) :\n",
    "        for j in range(i + 1 , len(answer)):\n",
    "            if k == answer[j]:\n",
    "                return 1\n",
    "            \n",
    "    return -1"
   ]
  },
  {
   "cell_type": "code",
   "execution_count": 14,
   "metadata": {},
   "outputs": [
    {
     "data": {
      "text/plain": [
       "1"
      ]
     },
     "execution_count": 14,
     "metadata": {},
     "output_type": "execute_result"
    }
   ],
   "source": [
    "solution([[1, 4], [9, 2], [3, 8], [10, 4]])"
   ]
  }
 ],
 "metadata": {
  "kernelspec": {
   "display_name": "Python 3",
   "language": "python",
   "name": "python3"
  },
  "language_info": {
   "codemirror_mode": {
    "name": "ipython",
    "version": 3
   },
   "file_extension": ".py",
   "mimetype": "text/x-python",
   "name": "python",
   "nbconvert_exporter": "python",
   "pygments_lexer": "ipython3",
   "version": "3.8.5"
  }
 },
 "nbformat": 4,
 "nbformat_minor": 4
}
