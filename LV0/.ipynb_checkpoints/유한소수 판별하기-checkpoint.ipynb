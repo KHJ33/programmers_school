{
 "cells": [
  {
   "cell_type": "markdown",
   "metadata": {},
   "source": [
    "소수점 아래 숫자가 계속되지 않고 유한개인 소수를 유한소수라고 합니다.  \n",
    "\n",
    "분수를 소수로 고칠 때 유한소수로 나타낼 수 있는 분수인지 판별하려고 합니다.   \n",
    "\n",
    "유한소수가 되기 위한 분수의 조건은 다음과 같습니다.\n",
    "\n",
    "기약분수로 나타내었을 때, 분모의 소인수가 2와 5만 존재해야 합니다.\n",
    "## 두 정수 a와 b가 매개변수로 주어질 때, a/b가 유한소수이면 1을, 무한소수라면 2를 return하도록 solution 함수를 완성해주세요."
   ]
  },
  {
   "cell_type": "code",
   "execution_count": 14,
   "metadata": {},
   "outputs": [],
   "source": [
    "import math\n",
    "\n",
    "def solution(a, b):\n",
    "    \n",
    "    b = b // math.gcd(a,b)\n",
    "    \n",
    "    while b :\n",
    "        \n",
    "        if b % 10 == 0:\n",
    "            b = b // 10\n",
    "        elif b % 5 == 0 :\n",
    "            b = b // 5\n",
    "        elif b % 2 == 0 :\n",
    "            b = b // 2\n",
    "        elif b == 1 :\n",
    "            return 1\n",
    "        else :\n",
    "            return 2\n",
    "         \n",
    "    return 1"
   ]
  },
  {
   "cell_type": "code",
   "execution_count": 15,
   "metadata": {},
   "outputs": [
    {
     "name": "stdout",
     "output_type": "stream",
     "text": [
      "2\n"
     ]
    },
    {
     "data": {
      "text/plain": [
       "1"
      ]
     },
     "execution_count": 15,
     "metadata": {},
     "output_type": "execute_result"
    }
   ],
   "source": [
    "solution(1,20)"
   ]
  }
 ],
 "metadata": {
  "kernelspec": {
   "display_name": "Python 3",
   "language": "python",
   "name": "python3"
  },
  "language_info": {
   "codemirror_mode": {
    "name": "ipython",
    "version": 3
   },
   "file_extension": ".py",
   "mimetype": "text/x-python",
   "name": "python",
   "nbconvert_exporter": "python",
   "pygments_lexer": "ipython3",
   "version": "3.8.5"
  }
 },
 "nbformat": 4,
 "nbformat_minor": 4
}
