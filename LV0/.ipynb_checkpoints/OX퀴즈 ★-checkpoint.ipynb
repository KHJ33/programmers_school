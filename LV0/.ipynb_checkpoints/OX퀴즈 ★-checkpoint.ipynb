{
 "cells": [
  {
   "cell_type": "code",
   "execution_count": 52,
   "metadata": {},
   "outputs": [],
   "source": [
    "import re\n",
    "def solution(quiz):\n",
    "    answer = []\n",
    "    \n",
    "    for q in quiz :\n",
    "        s = q.split(' = ')\n",
    "        s[0] = re.sub('[+] ','+',s[0])\n",
    "        s[0] = re.sub('[-] ','-',s[0])\n",
    "        \n",
    "        s[0] = sum(map(int, s[0].split(' ')))\n",
    "        \n",
    "        if str(s[0]) == s[1] :\n",
    "            answer.append('O')\n",
    "        else :\n",
    "            answer.append('X')\n",
    "        \n",
    "    return answer"
   ]
  },
  {
   "cell_type": "code",
   "execution_count": 68,
   "metadata": {},
   "outputs": [
    {
     "name": "stdout",
     "output_type": "stream",
     "text": [
      "['19', '+', '0', '=', '-3']\n",
      "['5', '-', '6', '=', '11']\n"
     ]
    },
    {
     "data": {
      "text/plain": [
       "['X', 'X']"
      ]
     },
     "execution_count": 68,
     "metadata": {},
     "output_type": "execute_result"
    }
   ],
   "source": [
    "solution([\"19 + 0 = -3\", \"5 - 6 = 11\"])"
   ]
  },
  {
   "cell_type": "code",
   "execution_count": 69,
   "metadata": {},
   "outputs": [
    {
     "name": "stdout",
     "output_type": "stream",
     "text": [
      "['0', '+', '30', '=', '0']\n"
     ]
    },
    {
     "data": {
      "text/plain": [
       "['X']"
      ]
     },
     "execution_count": 69,
     "metadata": {},
     "output_type": "execute_result"
    }
   ],
   "source": [
    "solution(['0 + 30 = 0'])"
   ]
  },
  {
   "cell_type": "code",
   "execution_count": 70,
   "metadata": {},
   "outputs": [],
   "source": [
    "def solution(quiz):\n",
    "    answer = []\n",
    "    for q in quiz:\n",
    "        p, a = q.split(\"=\")\n",
    "        if eval(p) == int(a):\n",
    "            answer.append(\"O\")\n",
    "        else:\n",
    "            answer.append(\"X\")\n",
    "    return answer"
   ]
  }
 ],
 "metadata": {
  "kernelspec": {
   "display_name": "Python 3",
   "language": "python",
   "name": "python3"
  },
  "language_info": {
   "codemirror_mode": {
    "name": "ipython",
    "version": 3
   },
   "file_extension": ".py",
   "mimetype": "text/x-python",
   "name": "python",
   "nbconvert_exporter": "python",
   "pygments_lexer": "ipython3",
   "version": "3.8.5"
  }
 },
 "nbformat": 4,
 "nbformat_minor": 4
}
