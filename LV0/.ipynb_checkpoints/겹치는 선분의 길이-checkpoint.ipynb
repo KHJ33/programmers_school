{
 "cells": [
  {
   "cell_type": "code",
   "execution_count": 10,
   "metadata": {},
   "outputs": [],
   "source": [
    "def solution(lines):\n",
    "    answer = 0\n",
    "    dic = {}\n",
    "    \n",
    "    for i in lines :\n",
    "        x = sorted(i)\n",
    "        \n",
    "        for j in range(x[0],x[1]) :\n",
    "            s = f'{j}-{j+1}'\n",
    "            if s in dic :\n",
    "                dic[s] = 1\n",
    "            else :\n",
    "                dic[s] = 0\n",
    "    \n",
    "    print(dic)\n",
    "    \n",
    "    print(sum(dic.values()))\n",
    "    \n",
    "    return answer"
   ]
  },
  {
   "cell_type": "code",
   "execution_count": 11,
   "metadata": {},
   "outputs": [
    {
     "name": "stdout",
     "output_type": "stream",
     "text": [
      "{'0-1': 0, '2-3': 0, '3-4': 1, '4-5': 1, '5-6': 0, '6-7': 0, '7-8': 0, '8-9': 0}\n",
      "2\n"
     ]
    },
    {
     "data": {
      "text/plain": [
       "0"
      ]
     },
     "execution_count": 11,
     "metadata": {},
     "output_type": "execute_result"
    }
   ],
   "source": [
    "solution([[0, 1], [2, 5], [3, 9]])"
   ]
  },
  {
   "cell_type": "code",
   "execution_count": 12,
   "metadata": {},
   "outputs": [
    {
     "name": "stdout",
     "output_type": "stream",
     "text": [
      "{'0-1': 0, '1-2': 1, '2-3': 1, '3-4': 1, '4-5': 1, '5-6': 1, '6-7': 1, '7-8': 1, '8-9': 1, '9-10': 0}\n",
      "8\n"
     ]
    },
    {
     "data": {
      "text/plain": [
       "0"
      ]
     },
     "execution_count": 12,
     "metadata": {},
     "output_type": "execute_result"
    }
   ],
   "source": [
    "solution([[0, 5], [3, 9], [1, 10]])"
   ]
  }
 ],
 "metadata": {
  "kernelspec": {
   "display_name": "Python 3",
   "language": "python",
   "name": "python3"
  },
  "language_info": {
   "codemirror_mode": {
    "name": "ipython",
    "version": 3
   },
   "file_extension": ".py",
   "mimetype": "text/x-python",
   "name": "python",
   "nbconvert_exporter": "python",
   "pygments_lexer": "ipython3",
   "version": "3.8.5"
  }
 },
 "nbformat": 4,
 "nbformat_minor": 4
}
