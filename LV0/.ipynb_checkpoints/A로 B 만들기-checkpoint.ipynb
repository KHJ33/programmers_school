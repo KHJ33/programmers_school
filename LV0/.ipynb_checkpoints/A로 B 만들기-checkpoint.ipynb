{
 "cells": [
  {
   "cell_type": "markdown",
   "metadata": {},
   "source": [
    "## 문자열 before와 after가 매개변수로 주어질 때, before의 순서를 바꾸어 after를 만들 수 있으면 1을, 만들 수 없으면 0을 return 하도록 solution 함수를 완성해보세요."
   ]
  },
  {
   "cell_type": "code",
   "execution_count": 19,
   "metadata": {},
   "outputs": [],
   "source": [
    "def solution(before, after):\n",
    "\n",
    "    dict_b = {}\n",
    "    dict_a = {}\n",
    "    \n",
    "    for i, k in zip(before, after) :\n",
    "        if i in dict_b :\n",
    "            dict_b[i] += 1\n",
    "        else :\n",
    "            dict_b[i] = 1\n",
    "            \n",
    "        if k in dict_a :\n",
    "            dict_a[k] += 1\n",
    "        else :\n",
    "            dict_a[k] = 1\n",
    "    \n",
    "    if dict_b == dict_a :\n",
    "        print(1)\n",
    "    \n",
    "    return 1 if dict_b == dict_a else 0"
   ]
  },
  {
   "cell_type": "code",
   "execution_count": 20,
   "metadata": {},
   "outputs": [
    {
     "name": "stdout",
     "output_type": "stream",
     "text": [
      "{'o': 1, 'l': 2, 'e': 1, 'h': 1}\n",
      "{'h': 1, 'e': 1, 'l': 2, 'o': 1}\n",
      "1\n"
     ]
    }
   ],
   "source": [
    "solution(\"olleh\",\"hello\")"
   ]
  }
 ],
 "metadata": {
  "kernelspec": {
   "display_name": "Python 3",
   "language": "python",
   "name": "python3"
  },
  "language_info": {
   "codemirror_mode": {
    "name": "ipython",
    "version": 3
   },
   "file_extension": ".py",
   "mimetype": "text/x-python",
   "name": "python",
   "nbconvert_exporter": "python",
   "pygments_lexer": "ipython3",
   "version": "3.8.5"
  }
 },
 "nbformat": 4,
 "nbformat_minor": 4
}
