{
 "cells": [
  {
   "cell_type": "code",
   "execution_count": 60,
   "metadata": {},
   "outputs": [],
   "source": [
    "def solution(polynomial):\n",
    "    a = []\n",
    "    b = []\n",
    "    \n",
    "    if polynomial.find('x') == -1:\n",
    "        return str(eval(polynomial))\n",
    "    \n",
    "    p = polynomial.split(' + ')    \n",
    "    \n",
    "    for i in p :\n",
    "        if 'x' in i :\n",
    "            a.append(i)\n",
    "        else:\n",
    "            b.append(i)\n",
    "    \n",
    "    for i in range(len(a)):\n",
    "        a[i] = a[i].replace('x','')\n",
    "        if a[i] == '' :\n",
    "            a[i] = 1\n",
    "    \n",
    "    a = sum(map(int,a))\n",
    "    b = sum(map(int, b))\n",
    "    \n",
    "    if a == 1:\n",
    "        answer = 'x'\n",
    "    else :\n",
    "        answer = f'{a}x'\n",
    "    \n",
    "    if b == 0 :\n",
    "        return answer\n",
    "    else :\n",
    "        return f'{answer} + {b}' "
   ]
  },
  {
   "cell_type": "code",
   "execution_count": 61,
   "metadata": {},
   "outputs": [
    {
     "data": {
      "text/plain": [
       "'4x + 7'"
      ]
     },
     "execution_count": 61,
     "metadata": {},
     "output_type": "execute_result"
    }
   ],
   "source": [
    "solution(\"3x + 7 + x\")"
   ]
  },
  {
   "cell_type": "code",
   "execution_count": 62,
   "metadata": {
    "scrolled": true
   },
   "outputs": [
    {
     "data": {
      "text/plain": [
       "'10'"
      ]
     },
     "execution_count": 62,
     "metadata": {},
     "output_type": "execute_result"
    }
   ],
   "source": [
    "solution('7 + 3')"
   ]
  },
  {
   "cell_type": "code",
   "execution_count": 63,
   "metadata": {
    "scrolled": true
   },
   "outputs": [
    {
     "data": {
      "text/plain": [
       "'3x'"
      ]
     },
     "execution_count": 63,
     "metadata": {},
     "output_type": "execute_result"
    }
   ],
   "source": [
    "solution(\"x + x + x\")"
   ]
  },
  {
   "cell_type": "code",
   "execution_count": 64,
   "metadata": {},
   "outputs": [
    {
     "data": {
      "text/plain": [
       "'x + 22'"
      ]
     },
     "execution_count": 64,
     "metadata": {},
     "output_type": "execute_result"
    }
   ],
   "source": [
    "solution('x + 7 + 15')"
   ]
  }
 ],
 "metadata": {
  "kernelspec": {
   "display_name": "Python 3",
   "language": "python",
   "name": "python3"
  },
  "language_info": {
   "codemirror_mode": {
    "name": "ipython",
    "version": 3
   },
   "file_extension": ".py",
   "mimetype": "text/x-python",
   "name": "python",
   "nbconvert_exporter": "python",
   "pygments_lexer": "ipython3",
   "version": "3.8.5"
  }
 },
 "nbformat": 4,
 "nbformat_minor": 4
}
