{
 "cells": [
  {
   "cell_type": "markdown",
   "metadata": {},
   "source": [
    "영어 점수와 수학 점수의 평균 점수를 기준으로 학생들의 등수를 매기려고 합니다. \n",
    "## 영어 점수와 수학 점수를 담은 2차원 정수 배열 score가 주어질 때, 영어 점수와 수학 점수의 평균을 기준으로 매긴 등수를 담은 배열을 return하도록 solution 함수를 완성해주세요."
   ]
  },
  {
   "cell_type": "code",
   "execution_count": 20,
   "metadata": {},
   "outputs": [],
   "source": [
    "def solution(score):\n",
    "    answer = [-1 for i in score]\n",
    "    \n",
    "    for i,k in enumerate(score) :\n",
    "        k.append(sum(k)/2)\n",
    "        k.append(i)\n",
    "        \n",
    "    score = sorted(score, key = lambda x:x[2], reverse = True)\n",
    "    print(score)\n",
    "    \n",
    "    num, s = 1, -1\n",
    "    for i in score :\n",
    "        if s != i[2] :\n",
    "            s = i[2]\n",
    "            answer[i[3]] = num\n",
    "        else :\n",
    "            answer[i[3]] = max(answer)\n",
    "        num += 1\n",
    "    \n",
    "    return answer"
   ]
  },
  {
   "cell_type": "code",
   "execution_count": 21,
   "metadata": {},
   "outputs": [
    {
     "name": "stdout",
     "output_type": "stream",
     "text": [
      "[[80, 70, 75.0, 0], [90, 50, 70.0, 1], [50, 80, 65.0, 3], [40, 70, 55.0, 2]]\n"
     ]
    },
    {
     "data": {
      "text/plain": [
       "[1, 2, 4, 3]"
      ]
     },
     "execution_count": 21,
     "metadata": {},
     "output_type": "execute_result"
    }
   ],
   "source": [
    "solution([[80, 70], [90, 50], [40, 70], [50, 80]])"
   ]
  },
  {
   "cell_type": "code",
   "execution_count": 22,
   "metadata": {},
   "outputs": [
    {
     "name": "stdout",
     "output_type": "stream",
     "text": [
      "[[100, 100, 100.0, 5], [90, 100, 95.0, 3], [100, 90, 95.0, 4], [80, 70, 75.0, 0], [70, 80, 75.0, 1], [30, 50, 40.0, 2], [10, 30, 20.0, 6]]\n"
     ]
    },
    {
     "data": {
      "text/plain": [
       "[4, 4, 6, 2, 2, 1, 7]"
      ]
     },
     "execution_count": 22,
     "metadata": {},
     "output_type": "execute_result"
    }
   ],
   "source": [
    "solution([[80, 70], [70, 80], [30, 50], [90, 100], [100, 90], [100, 100], [10, 30]])"
   ]
  }
 ],
 "metadata": {
  "kernelspec": {
   "display_name": "Python 3",
   "language": "python",
   "name": "python3"
  },
  "language_info": {
   "codemirror_mode": {
    "name": "ipython",
    "version": 3
   },
   "file_extension": ".py",
   "mimetype": "text/x-python",
   "name": "python",
   "nbconvert_exporter": "python",
   "pygments_lexer": "ipython3",
   "version": "3.8.5"
  }
 },
 "nbformat": 4,
 "nbformat_minor": 4
}
